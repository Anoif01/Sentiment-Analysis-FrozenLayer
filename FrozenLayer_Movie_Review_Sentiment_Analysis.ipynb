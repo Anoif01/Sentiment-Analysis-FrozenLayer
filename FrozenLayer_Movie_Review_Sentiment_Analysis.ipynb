{
  "metadata": {
    "kernelspec": {
      "language": "python",
      "display_name": "Python 3",
      "name": "python3"
    },
    "language_info": {
      "name": "python",
      "version": "3.10.13",
      "mimetype": "text/x-python",
      "codemirror_mode": {
        "name": "ipython",
        "version": 3
      },
      "pygments_lexer": "ipython3",
      "nbconvert_exporter": "python",
      "file_extension": ".py"
    },
    "kaggle": {
      "accelerator": "none",
      "dataSources": [
        {
          "sourceType": "competition",
          "sourceId": 3810,
          "databundleVersionId": 32092
        }
      ],
      "dockerImageVersionId": 30648,
      "isInternetEnabled": true,
      "language": "python",
      "sourceType": "notebook",
      "isGpuEnabled": false
    },
    "colab": {
      "provenance": [],
      "include_colab_link": true
    }
  },
  "nbformat_minor": 0,
  "nbformat": 4,
  "cells": [
    {
      "cell_type": "markdown",
      "metadata": {
        "id": "view-in-github",
        "colab_type": "text"
      },
      "source": [
        "<a href=\"https://colab.research.google.com/github/Anoif01/Sentiment-Analysis-FrozenLayer/blob/test-colab/FrozenLayer_Movie_Review_Sentiment_Analysis.ipynb\" target=\"_parent\"><img src=\"https://colab.research.google.com/assets/colab-badge.svg\" alt=\"Open In Colab\"/></a>"
      ]
    },
    {
      "source": [
        "# IMPORTANT: RUN THIS CELL IN ORDER TO IMPORT YOUR KAGGLE DATA SOURCES\n",
        "# TO THE CORRECT LOCATION (/kaggle/input) IN YOUR NOTEBOOK,\n",
        "# THEN FEEL FREE TO DELETE THIS CELL.\n",
        "# NOTE: THIS NOTEBOOK ENVIRONMENT DIFFERS FROM KAGGLE'S PYTHON\n",
        "# ENVIRONMENT SO THERE MAY BE MISSING LIBRARIES USED BY YOUR\n",
        "# NOTEBOOK.\n",
        "\n",
        "import os\n",
        "import sys\n",
        "from tempfile import NamedTemporaryFile\n",
        "from urllib.request import urlopen\n",
        "from urllib.parse import unquote, urlparse\n",
        "from urllib.error import HTTPError\n",
        "from zipfile import ZipFile\n",
        "import tarfile\n",
        "import shutil\n",
        "\n",
        "CHUNK_SIZE = 40960\n",
        "DATA_SOURCE_MAPPING = 'sentiment-analysis-on-movie-reviews:https%3A%2F%2Fstorage.googleapis.com%2Fkaggle-competitions-data%2Fkaggle-v2%2F10025%2F32092%2Fbundle%2Farchive.zip%3FX-Goog-Algorithm%3DGOOG4-RSA-SHA256%26X-Goog-Credential%3Dgcp-kaggle-com%2540kaggle-161607.iam.gserviceaccount.com%252F20240209%252Fauto%252Fstorage%252Fgoog4_request%26X-Goog-Date%3D20240209T171129Z%26X-Goog-Expires%3D259200%26X-Goog-SignedHeaders%3Dhost%26X-Goog-Signature%3Da28f75b012890b46305cf2b4ade452d0ac93bf7fe73640ec4b5dabe418ec843532bb870dcbc4b1518a268541966e9f93a3602b1e8d58192ca05f0e3c337e8d13cb69f5a4126c4ea93237b5430e16ebba0270bd4c238fe436b130f24aacb60d137c405fbddc7c5a4e24d6ca18e311bac86d89ce95c0140872693d2936eece93b6eb7b1abb291fefc9e89c16b7ec0723b5e0ea70d91de9d8e15ca62f4f9b6a08d72de28f287762871e0e470c5fe677e2e5d36333ecc501766ae625a714a49dd5c3e83daf43a8c7f189366f2472ca9c65ddc1de3b5cc9dfd6ce1b2631ca5d368fa78254fb0bb4c65d5fe62d1a49d1c8d250f009741becc22f3351d878126c9d8e3d'\n",
        "\n",
        "KAGGLE_INPUT_PATH='/kaggle/input'\n",
        "KAGGLE_WORKING_PATH='/kaggle/working'\n",
        "KAGGLE_SYMLINK='kaggle'\n",
        "\n",
        "!umount /kaggle/input/ 2> /dev/null\n",
        "shutil.rmtree('/kaggle/input', ignore_errors=True)\n",
        "os.makedirs(KAGGLE_INPUT_PATH, 0o777, exist_ok=True)\n",
        "os.makedirs(KAGGLE_WORKING_PATH, 0o777, exist_ok=True)\n",
        "\n",
        "try:\n",
        "  os.symlink(KAGGLE_INPUT_PATH, os.path.join(\"..\", 'input'), target_is_directory=True)\n",
        "except FileExistsError:\n",
        "  pass\n",
        "try:\n",
        "  os.symlink(KAGGLE_WORKING_PATH, os.path.join(\"..\", 'working'), target_is_directory=True)\n",
        "except FileExistsError:\n",
        "  pass\n",
        "\n",
        "for data_source_mapping in DATA_SOURCE_MAPPING.split(','):\n",
        "    directory, download_url_encoded = data_source_mapping.split(':')\n",
        "    download_url = unquote(download_url_encoded)\n",
        "    filename = urlparse(download_url).path\n",
        "    destination_path = os.path.join(KAGGLE_INPUT_PATH, directory)\n",
        "    try:\n",
        "        with urlopen(download_url) as fileres, NamedTemporaryFile() as tfile:\n",
        "            total_length = fileres.headers['content-length']\n",
        "            print(f'Downloading {directory}, {total_length} bytes compressed')\n",
        "            dl = 0\n",
        "            data = fileres.read(CHUNK_SIZE)\n",
        "            while len(data) > 0:\n",
        "                dl += len(data)\n",
        "                tfile.write(data)\n",
        "                done = int(50 * dl / int(total_length))\n",
        "                sys.stdout.write(f\"\\r[{'=' * done}{' ' * (50-done)}] {dl} bytes downloaded\")\n",
        "                sys.stdout.flush()\n",
        "                data = fileres.read(CHUNK_SIZE)\n",
        "            if filename.endswith('.zip'):\n",
        "              with ZipFile(tfile) as zfile:\n",
        "                zfile.extractall(destination_path)\n",
        "            else:\n",
        "              with tarfile.open(tfile.name) as tarfile:\n",
        "                tarfile.extractall(destination_path)\n",
        "            print(f'\\nDownloaded and uncompressed: {directory}')\n",
        "    except HTTPError as e:\n",
        "        print(f'Failed to load (likely expired) {download_url} to path {destination_path}')\n",
        "        continue\n",
        "    except OSError as e:\n",
        "        print(f'Failed to load {download_url} to path {destination_path}')\n",
        "        continue\n",
        "\n",
        "print('Data source import complete.')\n"
      ],
      "metadata": {
        "id": "ZarlaCqI2mp-",
        "outputId": "159068cb-121c-46c0-d358-e0468d27ae76",
        "colab": {
          "base_uri": "https://localhost:8080/"
        }
      },
      "cell_type": "code",
      "outputs": [
        {
          "output_type": "stream",
          "name": "stdout",
          "text": [
            "Downloading sentiment-analysis-on-movie-reviews, 1991138 bytes compressed\n",
            "[==================================================] 1991138 bytes downloaded\n",
            "Downloaded and uncompressed: sentiment-analysis-on-movie-reviews\n",
            "Data source import complete.\n"
          ]
        }
      ],
      "execution_count": null
    },
    {
      "cell_type": "markdown",
      "source": [
        "## 这是一篇学习向的Notebook，课题是NLP领域的情感分析任务。\n",
        "### 主要使用的工具是Pytorch和tensorflow。我希望在这里学习到：\n",
        "    1. 如何调用Bert模型：使用什么库，什么函数？\n",
        "    2. 如何使用pytorch搭建数据集，导入模型和微调模型？\n",
        "    3. 如何定义模型的参数，损失函数和metric？\n",
        "    4. 如何创建submission的csv？\n",
        "    5. 有什么未来能做的优化？如何提分？能不能举一反三？"
      ],
      "metadata": {
        "id": "ApyDHq8D2mqB"
      }
    },
    {
      "cell_type": "code",
      "source": [
        "import os\n",
        "import random\n",
        "import gc\n",
        "\n",
        "import numpy as np\n",
        "import pandas as pd\n",
        "from tqdm import tqdm\n",
        "\n",
        "import torch\n",
        "import torch.nn as nn\n",
        "from torch.utils.data import DataLoader, Dataset, random_split\n",
        "\n",
        "from transformers import AutoModel, AutoTokenizer, AutoConfig, AdamW\n",
        "\n",
        "for dirname, _, filenames in os.walk('/kaggle/input'):\n",
        "    for filename in filenames:\n",
        "        print(os.path.join(dirname, filename))\n",
        "\n",
        "gc.collect()"
      ],
      "metadata": {
        "_uuid": "8f2839f25d086af736a60e9eeb907d3b93b6e0e5",
        "_cell_guid": "b1076dfc-b9ad-4769-8c92-a6c4dae69d19",
        "execution": {
          "iopub.status.busy": "2024-02-09T16:18:53.030822Z",
          "iopub.execute_input": "2024-02-09T16:18:53.03136Z",
          "iopub.status.idle": "2024-02-09T16:19:00.073188Z",
          "shell.execute_reply.started": "2024-02-09T16:18:53.031329Z",
          "shell.execute_reply": "2024-02-09T16:19:00.07219Z"
        },
        "trusted": true,
        "id": "acw3wA1u2mqD",
        "outputId": "431b2572-6dcc-49bb-92a5-885d12dda2d8"
      },
      "execution_count": null,
      "outputs": [
        {
          "name": "stdout",
          "text": "/kaggle/input/sentiment-analysis-on-movie-reviews/sampleSubmission.csv\n/kaggle/input/sentiment-analysis-on-movie-reviews/train.tsv.zip\n/kaggle/input/sentiment-analysis-on-movie-reviews/test.tsv.zip\n",
          "output_type": "stream"
        },
        {
          "execution_count": 1,
          "output_type": "execute_result",
          "data": {
            "text/plain": "120"
          },
          "metadata": {}
        }
      ]
    },
    {
      "cell_type": "markdown",
      "source": [
        "### 0. 设定seed值，用于复现实验。"
      ],
      "metadata": {
        "id": "jmrrUQnU2mqD"
      }
    },
    {
      "cell_type": "code",
      "source": [
        "device = torch.device('cuda' if torch.cuda.is_available() else 'cpu')"
      ],
      "metadata": {
        "execution": {
          "iopub.status.busy": "2024-02-08T23:04:25.086235Z",
          "iopub.execute_input": "2024-02-08T23:04:25.086738Z",
          "iopub.status.idle": "2024-02-08T23:04:25.121332Z",
          "shell.execute_reply.started": "2024-02-08T23:04:25.086704Z",
          "shell.execute_reply": "2024-02-08T23:04:25.120334Z"
        },
        "trusted": true,
        "id": "kUbeYOoZ2mqE"
      },
      "execution_count": null,
      "outputs": []
    },
    {
      "cell_type": "code",
      "source": [
        "random.seed(42)\n",
        "torch.manual_seed(42)\n",
        "np.random.seed(42)"
      ],
      "metadata": {
        "execution": {
          "iopub.status.busy": "2024-02-08T23:04:25.122551Z",
          "iopub.execute_input": "2024-02-08T23:04:25.123129Z",
          "iopub.status.idle": "2024-02-08T23:04:25.135145Z",
          "shell.execute_reply.started": "2024-02-08T23:04:25.123104Z",
          "shell.execute_reply": "2024-02-08T23:04:25.134314Z"
        },
        "trusted": true,
        "id": "SbftFHHX2mqE"
      },
      "execution_count": null,
      "outputs": []
    },
    {
      "cell_type": "markdown",
      "source": [
        "### 1. Prepare data 准备数据集\n",
        "\n",
        "The sentiment labels are:\n",
        "\n",
        "0 - negative\n",
        "1 - somewhat negative\n",
        "2 - neutral\n",
        "3 - somewhat positive\n",
        "4 - positive"
      ],
      "metadata": {
        "id": "hA8T7KVu2mqE"
      }
    },
    {
      "cell_type": "code",
      "source": [
        "!apt-get install unzip\n",
        "!unzip ../input/sentiment-analysis-on-movie-reviews/test.tsv.zip test.tsv\n",
        "!unzip ../input/sentiment-analysis-on-movie-reviews/train.tsv.zip train.tsv"
      ],
      "metadata": {
        "execution": {
          "iopub.status.busy": "2024-02-08T23:04:25.136949Z",
          "iopub.execute_input": "2024-02-08T23:04:25.137484Z",
          "iopub.status.idle": "2024-02-08T23:04:30.032778Z",
          "shell.execute_reply.started": "2024-02-08T23:04:25.137459Z",
          "shell.execute_reply": "2024-02-08T23:04:30.031636Z"
        },
        "trusted": true,
        "id": "n6G5WkUm2mqF"
      },
      "execution_count": null,
      "outputs": []
    },
    {
      "cell_type": "code",
      "source": [
        "# check if contain nan\n",
        "def check_nan(df):\n",
        "    nan_columns = df.columns[df.isna().any()]\n",
        "    nan_rows = df[df.isna().any(axis=1)]\n",
        "    print(f'Contain Nan in columns: {nan_columns}. \\n Rows:\\n{nan_rows}\\n')"
      ],
      "metadata": {
        "execution": {
          "iopub.status.busy": "2024-02-08T23:04:30.034442Z",
          "iopub.execute_input": "2024-02-08T23:04:30.034819Z",
          "iopub.status.idle": "2024-02-08T23:04:30.040869Z",
          "shell.execute_reply.started": "2024-02-08T23:04:30.034782Z",
          "shell.execute_reply": "2024-02-08T23:04:30.039992Z"
        },
        "trusted": true,
        "id": "7YwSU_G42mqF"
      },
      "execution_count": null,
      "outputs": []
    },
    {
      "cell_type": "code",
      "source": [
        "train_df = pd.read_csv('train.tsv', sep='\\t')\n",
        "check_nan(train_df)\n",
        "\n",
        "print(train_df.shape)\n",
        "print(train_df.info())\n",
        "\n",
        "train_df.head()"
      ],
      "metadata": {
        "execution": {
          "iopub.status.busy": "2024-02-08T23:04:30.043159Z",
          "iopub.execute_input": "2024-02-08T23:04:30.043565Z",
          "iopub.status.idle": "2024-02-08T23:04:30.316728Z",
          "shell.execute_reply.started": "2024-02-08T23:04:30.043527Z",
          "shell.execute_reply": "2024-02-08T23:04:30.315806Z"
        },
        "trusted": true,
        "id": "TFP2LEDj2mqF"
      },
      "execution_count": null,
      "outputs": []
    },
    {
      "cell_type": "code",
      "source": [
        "# check if contain nan\n",
        "test_df = pd.read_csv('test.tsv', sep='\\t')\n",
        "check_nan(test_df)"
      ],
      "metadata": {
        "execution": {
          "iopub.status.busy": "2024-02-08T23:04:30.319727Z",
          "iopub.execute_input": "2024-02-08T23:04:30.320386Z",
          "iopub.status.idle": "2024-02-08T23:04:30.411254Z",
          "shell.execute_reply.started": "2024-02-08T23:04:30.320328Z",
          "shell.execute_reply": "2024-02-08T23:04:30.410365Z"
        },
        "trusted": true,
        "id": "hSFVHA_12mqG"
      },
      "execution_count": null,
      "outputs": []
    },
    {
      "cell_type": "code",
      "source": [
        "# replace nan with string\n",
        "test_df = test_df.fillna(' ')\n",
        "check_nan(test_df)\n",
        "\n",
        "print(test_df.shape)\n",
        "print(test_df.info())\n",
        "test_df.head()"
      ],
      "metadata": {
        "execution": {
          "iopub.status.busy": "2024-02-08T23:04:30.412315Z",
          "iopub.execute_input": "2024-02-08T23:04:30.412615Z",
          "iopub.status.idle": "2024-02-08T23:04:30.454864Z",
          "shell.execute_reply.started": "2024-02-08T23:04:30.41259Z",
          "shell.execute_reply": "2024-02-08T23:04:30.454021Z"
        },
        "trusted": true,
        "id": "pz3UDcVT2mqG"
      },
      "execution_count": null,
      "outputs": []
    },
    {
      "cell_type": "code",
      "source": [
        "# sample_submission = pd.read_csv('../input/sentiment-analysis-on-movie-reviews/sampleSubmission.csv')\n",
        "# print(sample_submission.shape)\n",
        "# print(sample_submission.info())\n",
        "# sample_submission.head()"
      ],
      "metadata": {
        "execution": {
          "iopub.status.busy": "2024-02-08T23:04:30.456086Z",
          "iopub.execute_input": "2024-02-08T23:04:30.456353Z",
          "iopub.status.idle": "2024-02-08T23:04:30.460149Z",
          "shell.execute_reply.started": "2024-02-08T23:04:30.456322Z",
          "shell.execute_reply": "2024-02-08T23:04:30.459247Z"
        },
        "trusted": true,
        "id": "Ea2SD5sn2mqG"
      },
      "execution_count": null,
      "outputs": []
    },
    {
      "cell_type": "markdown",
      "source": [
        "### 2. Text Processing 文本处理"
      ],
      "metadata": {
        "id": "MD_JkX5w2mqG"
      }
    },
    {
      "cell_type": "code",
      "source": [
        "# 通过 transformer 导入 bert-base基础模型 的 分词器tokenizer\n",
        "tokenizer = AutoTokenizer.from_pretrained('bert-base-uncased', lower=True)"
      ],
      "metadata": {
        "execution": {
          "iopub.status.busy": "2024-02-08T23:04:30.461304Z",
          "iopub.execute_input": "2024-02-08T23:04:30.461934Z",
          "iopub.status.idle": "2024-02-08T23:04:31.841999Z",
          "shell.execute_reply.started": "2024-02-08T23:04:30.461902Z",
          "shell.execute_reply": "2024-02-08T23:04:31.841001Z"
        },
        "trusted": true,
        "id": "bIBUtbPM2mqG"
      },
      "execution_count": null,
      "outputs": []
    },
    {
      "cell_type": "code",
      "source": [
        "# 创建数据集对象\n",
        "class MovieReviewDataset(Dataset):\n",
        "    def __init__(self, df, max_len, if_train=True):\n",
        "        self.max_len = max_len\n",
        "        self.if_train = if_train\n",
        "        self.text = df['Phrase'].tolist()\n",
        "        if self.if_train:\n",
        "            self.sentiments = df['Sentiment'].values\n",
        "        self.encode = tokenizer.batch_encode_plus(self.text,\n",
        "                                                    padding='max_length',\n",
        "                                                    max_length=self.max_len,\n",
        "                                                    truncation=True, #如果某个序列超过max_length，则该参数指定是否截断它。\n",
        "                                                    return_attention_mask=True) #是否返回注意力掩码，以指示哪些位置是填充的，哪些是实际数据。\n",
        "    def __getitem__(self, i):\n",
        "        input_ids = torch.tensor(self.encode['input_ids'][i])  #编码后的输入序列的ID列表。这些ID对应于模型词汇表中的单词或标记。\n",
        "        attention_mask = torch.tensor(self.encode['attention_mask'][i])\n",
        "        if not self.if_train:\n",
        "            return (input_ids, attention_mask)\n",
        "        else:\n",
        "            sentiment = self.sentiments[i]\n",
        "            return (input_ids, attention_mask, sentiment)\n",
        "\n",
        "    def __len__(self):\n",
        "        return len(self.text)"
      ],
      "metadata": {
        "execution": {
          "iopub.status.busy": "2024-02-08T23:04:31.843293Z",
          "iopub.execute_input": "2024-02-08T23:04:31.843613Z",
          "iopub.status.idle": "2024-02-08T23:04:31.852305Z",
          "shell.execute_reply.started": "2024-02-08T23:04:31.843586Z",
          "shell.execute_reply": "2024-02-08T23:04:31.851413Z"
        },
        "trusted": true,
        "id": "fYkgi2OP2mqG"
      },
      "execution_count": null,
      "outputs": []
    },
    {
      "cell_type": "code",
      "source": [
        "# 创建pytorch可读的数据集和dataloader\n",
        "max_len = 64\n",
        "train_dataset = MovieReviewDataset(train_df, max_len)\n",
        "test_dataset = MovieReviewDataset(test_df, max_len, if_train=False)\n",
        "\n",
        "# 创建validation数据集\n",
        "lengths = [int(len(train_dataset) * 0.8), int(len(train_dataset) * 0.2)]\n",
        "# 将数据集随机分割成给定长度的非重叠新数据集。这个函数特别适合于将数据集划分为训练集、验证集和测试集。\n",
        "train_dataset, valid_dataset = random_split(train_dataset, lengths=lengths, generator=torch.Generator().manual_seed(42))\n",
        "\n",
        "# 数据集按batch批次分割，以便模型读取。\n",
        "bs = 128\n",
        "train_dataloader = DataLoader(train_dataset, batch_size=bs, shuffle=True)\n",
        "val_dataloader = DataLoader(valid_dataset, batch_size=bs)\n",
        "test_dataloader = DataLoader(test_dataset, batch_size=bs)"
      ],
      "metadata": {
        "execution": {
          "iopub.status.busy": "2024-02-08T23:04:31.85357Z",
          "iopub.execute_input": "2024-02-08T23:04:31.854096Z",
          "iopub.status.idle": "2024-02-08T23:04:42.409897Z",
          "shell.execute_reply.started": "2024-02-08T23:04:31.854062Z",
          "shell.execute_reply": "2024-02-08T23:04:42.409099Z"
        },
        "trusted": true,
        "id": "UHpDy6KZ2mqH"
      },
      "execution_count": null,
      "outputs": []
    },
    {
      "cell_type": "code",
      "source": [
        "# show Bert Layer name\n",
        "bert_base = AutoModel.from_pretrained('bert-base-uncased')\n",
        "for name, param in bert_base.named_parameters():\n",
        "    print(f'Name: {name}')\n",
        "#     print(f'Name: {name}, Param: {param}')"
      ],
      "metadata": {
        "execution": {
          "iopub.status.busy": "2024-02-08T23:05:19.173964Z",
          "iopub.execute_input": "2024-02-08T23:05:19.174413Z",
          "iopub.status.idle": "2024-02-08T23:05:19.52131Z",
          "shell.execute_reply.started": "2024-02-08T23:05:19.174386Z",
          "shell.execute_reply": "2024-02-08T23:05:19.520315Z"
        },
        "trusted": true,
        "id": "5SwTUSiX2mqH"
      },
      "execution_count": null,
      "outputs": []
    },
    {
      "cell_type": "markdown",
      "source": [
        "### 3. Modeling 创建模型"
      ],
      "metadata": {
        "id": "zJAz8hOr2mqH"
      }
    },
    {
      "cell_type": "code",
      "source": [
        "class Model(nn.Module):\n",
        "    def __init__(self, N=5, forze_embed=True):\n",
        "        super(Model, self).__init__()\n",
        "\n",
        "        self.N = N\n",
        "        self.forze_embed = forze_embed\n",
        "\n",
        "        # 加载BERT模型的 配置。这个配置包含了模型的各种参数设置，比如隐藏层大小、层数、词汇大小等。\n",
        "        bert_base_config = AutoConfig.from_pretrained('bert-base-uncased')\n",
        "\n",
        "        # 加载了预训练的BERT模型 实例，加载正确的模型类和预训练权重\n",
        "        self.bert_base = AutoModel.from_pretrained('bert-base-uncased')\n",
        "\n",
        "        for name, param in self.bert_base.named_parameters():\n",
        "            # 冻结前N个Transformer层\n",
        "            if name.startswith('encoder.layer') and int(name.split('.')[2]) < self.N:\n",
        "                param.requires_grad = False\n",
        "\n",
        "            # 冻结embedding层\n",
        "            if self.forze_embed and name.startswith('embeddings'):\n",
        "                param.requires_grad = False\n",
        "\n",
        "        # 定义了线性分类器，其输入维度为即BERT模型隐藏层的大小，输出维度为5。输出维度通常对应于分类任务的类别数。\n",
        "        self.classifier = nn.Linear(bert_base_config.hidden_size, 5)\n",
        "\n",
        "    def forward(self, input_ids, attention_mask):\n",
        "        # 通过BERT模型对输入进行编码，获取模型的输出。BERT模型的输出是一个包含多个元素的元组，包括最后一层的隐藏状态和pooler输出等。\n",
        "        bert_base_output = self.bert_base(input_ids=input_ids, attention_mask=attention_mask)\n",
        "        # get last hidden state\n",
        "        # bert_base_last_hidden_state = bert_base_output[0]\n",
        "\n",
        "        # pooler_output – 最后一层的隐藏状态的第一个token（通常是[CLS]标记）经过一个线性层和Tanh激活函数处理后的输出。这个输出适用于分类任务。\n",
        "        # (classification token) further processed by a Linear layer and a Tanh activation function\n",
        "        pooler_output = bert_base_output[1] # [batch_size,hidden]\n",
        "        out = self.classifier(pooler_output)\n",
        "        return out\n"
      ],
      "metadata": {
        "execution": {
          "iopub.status.busy": "2024-02-08T23:05:21.006102Z",
          "iopub.execute_input": "2024-02-08T23:05:21.006736Z",
          "iopub.status.idle": "2024-02-08T23:05:21.01622Z",
          "shell.execute_reply.started": "2024-02-08T23:05:21.006703Z",
          "shell.execute_reply": "2024-02-08T23:05:21.015287Z"
        },
        "trusted": true,
        "id": "qnvla4W42mqH"
      },
      "execution_count": null,
      "outputs": []
    },
    {
      "cell_type": "code",
      "source": [
        "# 模型的初始化、优化器的设置以及损失函数的定义。\n",
        "model = Model(N=8, forze_embed=True)\n",
        "model.to(device)\n",
        "optimizer = AdamW(model.parameters(), lr=2e-5)\n",
        "criterion = nn.CrossEntropyLoss()\n",
        "gc.collect()"
      ],
      "metadata": {
        "execution": {
          "iopub.status.busy": "2024-02-08T23:05:22.776301Z",
          "iopub.execute_input": "2024-02-08T23:05:22.777075Z",
          "iopub.status.idle": "2024-02-08T23:05:24.207113Z",
          "shell.execute_reply.started": "2024-02-08T23:05:22.777041Z",
          "shell.execute_reply": "2024-02-08T23:05:24.206206Z"
        },
        "trusted": true,
        "id": "BDzWz4f32mqH"
      },
      "execution_count": null,
      "outputs": []
    },
    {
      "cell_type": "code",
      "source": [
        "# 初始化损失和准确率列表\n",
        "total_loss = []\n",
        "total_val_acc = []\n",
        "\n",
        "# 训练循环\n",
        "for epoch in range(6):\n",
        "    model.train()\n",
        "    epoch_loss = []\n",
        "    for input_ids, attention_mask, target in tqdm(train_dataloader):\n",
        "        # 数据迁移到设备, 加速运行\n",
        "        input_ids = input_ids.to(device)\n",
        "        attention_mask = attention_mask.to(device)\n",
        "        target = target.to(device)\n",
        "\n",
        "        # 优化器梯度清零,在计算新的梯度之前清零已累积的梯度，以避免在多次反向传播中梯度累积\n",
        "        optimizer.zero_grad()\n",
        "\n",
        "        # 前向传播和损失计算\n",
        "        y_pred = model(input_ids, attention_mask)\n",
        "        loss = criterion(y_pred, target)\n",
        "\n",
        "        # 反向传播和优化器步骤\n",
        "        loss.backward()\n",
        "        optimizer.step()\n",
        "\n",
        "        epoch_loss.append(loss.item())\n",
        "    # 计算训练的平均loss，并保存\n",
        "    mean_epoch_loss = np.mean(epoch_loss)\n",
        "    total_loss.append(mean_epoch_loss)\n",
        "\n",
        "    # 释放GPU内存\n",
        "    input_ids = input_ids.to(torch.device('cpu'))\n",
        "    attention_mask = attention_mask.to(torch.device('cpu'))\n",
        "    target = target.to(torch.device('cpu'))\n",
        "    gc.collect()\n",
        "\n",
        "    # 计算validation集的正确率\n",
        "    val_accs= []\n",
        "    model.eval()\n",
        "    for input_ids, attention_mask, target in tqdm(val_dataloader):\n",
        "        # 数据迁移到设备, 加速运行\n",
        "        input_ids = input_ids.to(device)\n",
        "        attention_mask = attention_mask.to(device)\n",
        "        target = target.to(device)\n",
        "\n",
        "        y_pred = model(input_ids, attention_mask)\n",
        "        _, y_pred = torch.max(y_pred, -1)\n",
        "\n",
        "        acc = torch.mean((torch.tensor(y_pred.cpu() == target.cpu(), dtype=torch.float)))\n",
        "        val_accs.append(acc.cpu())\n",
        "    mean_epoch_acc = np.array(val_accs).mean()\n",
        "    total_val_acc.append(mean_epoch_acc)\n",
        "\n",
        "    print(\"Epoch:\", epoch+1, \"-- loss:\", mean_epoch_loss, \"-- acc:\", mean_epoch_acc)\n",
        "    gc.collect()\n"
      ],
      "metadata": {
        "execution": {
          "iopub.status.busy": "2024-02-08T23:05:24.475764Z",
          "iopub.execute_input": "2024-02-08T23:05:24.476079Z",
          "iopub.status.idle": "2024-02-08T23:12:45.848487Z",
          "shell.execute_reply.started": "2024-02-08T23:05:24.476053Z",
          "shell.execute_reply": "2024-02-08T23:12:45.8476Z"
        },
        "trusted": true,
        "id": "qjKt-Q_n2mqH"
      },
      "execution_count": null,
      "outputs": []
    },
    {
      "cell_type": "code",
      "source": [
        "model.eval()\n",
        "predictions = []\n",
        "for text, attention_mask in tqdm(test_dataloader):\n",
        "    text = text.to(device)\n",
        "    attention_mask = attention_mask.to(device)\n",
        "    preds = model(text, attention_mask)\n",
        "    _, preds = torch.max(preds, -1)\n",
        "    for pred in preds: predictions.append(pred.item())\n",
        "print(len(predictions))"
      ],
      "metadata": {
        "execution": {
          "iopub.status.busy": "2024-02-08T23:13:48.618521Z",
          "iopub.execute_input": "2024-02-08T23:13:48.619271Z",
          "iopub.status.idle": "2024-02-08T23:15:52.918845Z",
          "shell.execute_reply.started": "2024-02-08T23:13:48.619235Z",
          "shell.execute_reply": "2024-02-08T23:15:52.917944Z"
        },
        "trusted": true,
        "id": "t26QbSj62mqH"
      },
      "execution_count": null,
      "outputs": []
    },
    {
      "cell_type": "code",
      "source": [
        "submission = pd.DataFrame()\n",
        "submission['PhraseId'] = test_df['PhraseId']\n",
        "submission['Sentiment'] = predictions\n",
        "submission.to_csv(\"submission.csv\", index=False)\n",
        "print(\"Sumbssion is ready!\")"
      ],
      "metadata": {
        "execution": {
          "iopub.status.busy": "2024-02-08T23:15:55.758302Z",
          "iopub.execute_input": "2024-02-08T23:15:55.75914Z",
          "iopub.status.idle": "2024-02-08T23:15:55.875615Z",
          "shell.execute_reply.started": "2024-02-08T23:15:55.759104Z",
          "shell.execute_reply": "2024-02-08T23:15:55.874716Z"
        },
        "trusted": true,
        "id": "gaSxJlmc2mqI"
      },
      "execution_count": null,
      "outputs": []
    },
    {
      "cell_type": "code",
      "source": [],
      "metadata": {
        "id": "0uHzpAI42mqI"
      },
      "execution_count": null,
      "outputs": []
    },
    {
      "cell_type": "code",
      "source": [],
      "metadata": {
        "id": "VSrSiFDI2mqI"
      },
      "execution_count": null,
      "outputs": []
    },
    {
      "cell_type": "code",
      "source": [],
      "metadata": {
        "id": "lgSmbOuL2mqI"
      },
      "execution_count": null,
      "outputs": []
    },
    {
      "cell_type": "code",
      "source": [],
      "metadata": {
        "id": "zmT5li_m2mqI"
      },
      "execution_count": null,
      "outputs": []
    },
    {
      "cell_type": "code",
      "source": [],
      "metadata": {
        "id": "WY2K0afh2mqI"
      },
      "execution_count": null,
      "outputs": []
    }
  ]
}