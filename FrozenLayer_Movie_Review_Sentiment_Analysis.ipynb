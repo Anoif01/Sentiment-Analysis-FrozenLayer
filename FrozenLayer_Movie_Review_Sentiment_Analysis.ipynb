{
  "metadata": {
    "kernelspec": {
      "display_name": "Python 3",
      "name": "python3"
    },
    "language_info": {
      "name": "python",
      "version": "3.10.13",
      "mimetype": "text/x-python",
      "codemirror_mode": {
        "name": "ipython",
        "version": 3
      },
      "pygments_lexer": "ipython3",
      "nbconvert_exporter": "python",
      "file_extension": ".py"
    },
    "kaggle": {
      "accelerator": "none",
      "dataSources": [
        {
          "sourceType": "competition",
          "sourceId": 3810,
          "databundleVersionId": 32092
        }
      ],
      "dockerImageVersionId": 30648,
      "isInternetEnabled": true,
      "language": "python",
      "sourceType": "notebook",
      "isGpuEnabled": false
    },
    "colab": {
      "provenance": [],
      "gpuType": "T4",
      "include_colab_link": true
    },
    "accelerator": "GPU",
    "widgets": {
      "application/vnd.jupyter.widget-state+json": {
        "b2b940390f114e3da7cb77cc3ca1adcf": {
          "model_module": "@jupyter-widgets/controls",
          "model_name": "HBoxModel",
          "model_module_version": "1.5.0",
          "state": {
            "_dom_classes": [],
            "_model_module": "@jupyter-widgets/controls",
            "_model_module_version": "1.5.0",
            "_model_name": "HBoxModel",
            "_view_count": null,
            "_view_module": "@jupyter-widgets/controls",
            "_view_module_version": "1.5.0",
            "_view_name": "HBoxView",
            "box_style": "",
            "children": [
              "IPY_MODEL_832713838ba842bf9114285300d3349a",
              "IPY_MODEL_0b0d9c6636584773bd61a9753913ec63",
              "IPY_MODEL_48264b8c54064c3f8b199f2964cf5671"
            ],
            "layout": "IPY_MODEL_db7aab39075d462694714f69896f75fb"
          }
        },
        "832713838ba842bf9114285300d3349a": {
          "model_module": "@jupyter-widgets/controls",
          "model_name": "HTMLModel",
          "model_module_version": "1.5.0",
          "state": {
            "_dom_classes": [],
            "_model_module": "@jupyter-widgets/controls",
            "_model_module_version": "1.5.0",
            "_model_name": "HTMLModel",
            "_view_count": null,
            "_view_module": "@jupyter-widgets/controls",
            "_view_module_version": "1.5.0",
            "_view_name": "HTMLView",
            "description": "",
            "description_tooltip": null,
            "layout": "IPY_MODEL_af5b330d0bc64ddda5611b99f26a5892",
            "placeholder": "​",
            "style": "IPY_MODEL_28fd0471c0c24616912ad04df29a96bb",
            "value": "tokenizer_config.json: 100%"
          }
        },
        "0b0d9c6636584773bd61a9753913ec63": {
          "model_module": "@jupyter-widgets/controls",
          "model_name": "FloatProgressModel",
          "model_module_version": "1.5.0",
          "state": {
            "_dom_classes": [],
            "_model_module": "@jupyter-widgets/controls",
            "_model_module_version": "1.5.0",
            "_model_name": "FloatProgressModel",
            "_view_count": null,
            "_view_module": "@jupyter-widgets/controls",
            "_view_module_version": "1.5.0",
            "_view_name": "ProgressView",
            "bar_style": "success",
            "description": "",
            "description_tooltip": null,
            "layout": "IPY_MODEL_3d04240e3fb24e0bbe293589d491dbd9",
            "max": 28,
            "min": 0,
            "orientation": "horizontal",
            "style": "IPY_MODEL_7ba3d4db18a747a889f2f42e769be1cf",
            "value": 28
          }
        },
        "48264b8c54064c3f8b199f2964cf5671": {
          "model_module": "@jupyter-widgets/controls",
          "model_name": "HTMLModel",
          "model_module_version": "1.5.0",
          "state": {
            "_dom_classes": [],
            "_model_module": "@jupyter-widgets/controls",
            "_model_module_version": "1.5.0",
            "_model_name": "HTMLModel",
            "_view_count": null,
            "_view_module": "@jupyter-widgets/controls",
            "_view_module_version": "1.5.0",
            "_view_name": "HTMLView",
            "description": "",
            "description_tooltip": null,
            "layout": "IPY_MODEL_36ec0660a6344e1d9d5c6c0d99a2dfb5",
            "placeholder": "​",
            "style": "IPY_MODEL_d425a47ed9aa4e07a59186b8be637f98",
            "value": " 28.0/28.0 [00:00&lt;00:00, 966B/s]"
          }
        },
        "db7aab39075d462694714f69896f75fb": {
          "model_module": "@jupyter-widgets/base",
          "model_name": "LayoutModel",
          "model_module_version": "1.2.0",
          "state": {
            "_model_module": "@jupyter-widgets/base",
            "_model_module_version": "1.2.0",
            "_model_name": "LayoutModel",
            "_view_count": null,
            "_view_module": "@jupyter-widgets/base",
            "_view_module_version": "1.2.0",
            "_view_name": "LayoutView",
            "align_content": null,
            "align_items": null,
            "align_self": null,
            "border": null,
            "bottom": null,
            "display": null,
            "flex": null,
            "flex_flow": null,
            "grid_area": null,
            "grid_auto_columns": null,
            "grid_auto_flow": null,
            "grid_auto_rows": null,
            "grid_column": null,
            "grid_gap": null,
            "grid_row": null,
            "grid_template_areas": null,
            "grid_template_columns": null,
            "grid_template_rows": null,
            "height": null,
            "justify_content": null,
            "justify_items": null,
            "left": null,
            "margin": null,
            "max_height": null,
            "max_width": null,
            "min_height": null,
            "min_width": null,
            "object_fit": null,
            "object_position": null,
            "order": null,
            "overflow": null,
            "overflow_x": null,
            "overflow_y": null,
            "padding": null,
            "right": null,
            "top": null,
            "visibility": null,
            "width": null
          }
        },
        "af5b330d0bc64ddda5611b99f26a5892": {
          "model_module": "@jupyter-widgets/base",
          "model_name": "LayoutModel",
          "model_module_version": "1.2.0",
          "state": {
            "_model_module": "@jupyter-widgets/base",
            "_model_module_version": "1.2.0",
            "_model_name": "LayoutModel",
            "_view_count": null,
            "_view_module": "@jupyter-widgets/base",
            "_view_module_version": "1.2.0",
            "_view_name": "LayoutView",
            "align_content": null,
            "align_items": null,
            "align_self": null,
            "border": null,
            "bottom": null,
            "display": null,
            "flex": null,
            "flex_flow": null,
            "grid_area": null,
            "grid_auto_columns": null,
            "grid_auto_flow": null,
            "grid_auto_rows": null,
            "grid_column": null,
            "grid_gap": null,
            "grid_row": null,
            "grid_template_areas": null,
            "grid_template_columns": null,
            "grid_template_rows": null,
            "height": null,
            "justify_content": null,
            "justify_items": null,
            "left": null,
            "margin": null,
            "max_height": null,
            "max_width": null,
            "min_height": null,
            "min_width": null,
            "object_fit": null,
            "object_position": null,
            "order": null,
            "overflow": null,
            "overflow_x": null,
            "overflow_y": null,
            "padding": null,
            "right": null,
            "top": null,
            "visibility": null,
            "width": null
          }
        },
        "28fd0471c0c24616912ad04df29a96bb": {
          "model_module": "@jupyter-widgets/controls",
          "model_name": "DescriptionStyleModel",
          "model_module_version": "1.5.0",
          "state": {
            "_model_module": "@jupyter-widgets/controls",
            "_model_module_version": "1.5.0",
            "_model_name": "DescriptionStyleModel",
            "_view_count": null,
            "_view_module": "@jupyter-widgets/base",
            "_view_module_version": "1.2.0",
            "_view_name": "StyleView",
            "description_width": ""
          }
        },
        "3d04240e3fb24e0bbe293589d491dbd9": {
          "model_module": "@jupyter-widgets/base",
          "model_name": "LayoutModel",
          "model_module_version": "1.2.0",
          "state": {
            "_model_module": "@jupyter-widgets/base",
            "_model_module_version": "1.2.0",
            "_model_name": "LayoutModel",
            "_view_count": null,
            "_view_module": "@jupyter-widgets/base",
            "_view_module_version": "1.2.0",
            "_view_name": "LayoutView",
            "align_content": null,
            "align_items": null,
            "align_self": null,
            "border": null,
            "bottom": null,
            "display": null,
            "flex": null,
            "flex_flow": null,
            "grid_area": null,
            "grid_auto_columns": null,
            "grid_auto_flow": null,
            "grid_auto_rows": null,
            "grid_column": null,
            "grid_gap": null,
            "grid_row": null,
            "grid_template_areas": null,
            "grid_template_columns": null,
            "grid_template_rows": null,
            "height": null,
            "justify_content": null,
            "justify_items": null,
            "left": null,
            "margin": null,
            "max_height": null,
            "max_width": null,
            "min_height": null,
            "min_width": null,
            "object_fit": null,
            "object_position": null,
            "order": null,
            "overflow": null,
            "overflow_x": null,
            "overflow_y": null,
            "padding": null,
            "right": null,
            "top": null,
            "visibility": null,
            "width": null
          }
        },
        "7ba3d4db18a747a889f2f42e769be1cf": {
          "model_module": "@jupyter-widgets/controls",
          "model_name": "ProgressStyleModel",
          "model_module_version": "1.5.0",
          "state": {
            "_model_module": "@jupyter-widgets/controls",
            "_model_module_version": "1.5.0",
            "_model_name": "ProgressStyleModel",
            "_view_count": null,
            "_view_module": "@jupyter-widgets/base",
            "_view_module_version": "1.2.0",
            "_view_name": "StyleView",
            "bar_color": null,
            "description_width": ""
          }
        },
        "36ec0660a6344e1d9d5c6c0d99a2dfb5": {
          "model_module": "@jupyter-widgets/base",
          "model_name": "LayoutModel",
          "model_module_version": "1.2.0",
          "state": {
            "_model_module": "@jupyter-widgets/base",
            "_model_module_version": "1.2.0",
            "_model_name": "LayoutModel",
            "_view_count": null,
            "_view_module": "@jupyter-widgets/base",
            "_view_module_version": "1.2.0",
            "_view_name": "LayoutView",
            "align_content": null,
            "align_items": null,
            "align_self": null,
            "border": null,
            "bottom": null,
            "display": null,
            "flex": null,
            "flex_flow": null,
            "grid_area": null,
            "grid_auto_columns": null,
            "grid_auto_flow": null,
            "grid_auto_rows": null,
            "grid_column": null,
            "grid_gap": null,
            "grid_row": null,
            "grid_template_areas": null,
            "grid_template_columns": null,
            "grid_template_rows": null,
            "height": null,
            "justify_content": null,
            "justify_items": null,
            "left": null,
            "margin": null,
            "max_height": null,
            "max_width": null,
            "min_height": null,
            "min_width": null,
            "object_fit": null,
            "object_position": null,
            "order": null,
            "overflow": null,
            "overflow_x": null,
            "overflow_y": null,
            "padding": null,
            "right": null,
            "top": null,
            "visibility": null,
            "width": null
          }
        },
        "d425a47ed9aa4e07a59186b8be637f98": {
          "model_module": "@jupyter-widgets/controls",
          "model_name": "DescriptionStyleModel",
          "model_module_version": "1.5.0",
          "state": {
            "_model_module": "@jupyter-widgets/controls",
            "_model_module_version": "1.5.0",
            "_model_name": "DescriptionStyleModel",
            "_view_count": null,
            "_view_module": "@jupyter-widgets/base",
            "_view_module_version": "1.2.0",
            "_view_name": "StyleView",
            "description_width": ""
          }
        },
        "93f1a94e37b04a19b4686e59c3ac4818": {
          "model_module": "@jupyter-widgets/controls",
          "model_name": "HBoxModel",
          "model_module_version": "1.5.0",
          "state": {
            "_dom_classes": [],
            "_model_module": "@jupyter-widgets/controls",
            "_model_module_version": "1.5.0",
            "_model_name": "HBoxModel",
            "_view_count": null,
            "_view_module": "@jupyter-widgets/controls",
            "_view_module_version": "1.5.0",
            "_view_name": "HBoxView",
            "box_style": "",
            "children": [
              "IPY_MODEL_ae572b299322435b9747e0a70bb79401",
              "IPY_MODEL_a032d225320744f2bfa797549b588c09",
              "IPY_MODEL_fd4f08acaa8e46ad914bca88be730e1a"
            ],
            "layout": "IPY_MODEL_c34244013f3f4412b1d965961c53fb08"
          }
        },
        "ae572b299322435b9747e0a70bb79401": {
          "model_module": "@jupyter-widgets/controls",
          "model_name": "HTMLModel",
          "model_module_version": "1.5.0",
          "state": {
            "_dom_classes": [],
            "_model_module": "@jupyter-widgets/controls",
            "_model_module_version": "1.5.0",
            "_model_name": "HTMLModel",
            "_view_count": null,
            "_view_module": "@jupyter-widgets/controls",
            "_view_module_version": "1.5.0",
            "_view_name": "HTMLView",
            "description": "",
            "description_tooltip": null,
            "layout": "IPY_MODEL_c832223871274ecab4ddc3b5ecf26496",
            "placeholder": "​",
            "style": "IPY_MODEL_0ea8cc18144f4babbbf666698472269e",
            "value": "config.json: 100%"
          }
        },
        "a032d225320744f2bfa797549b588c09": {
          "model_module": "@jupyter-widgets/controls",
          "model_name": "FloatProgressModel",
          "model_module_version": "1.5.0",
          "state": {
            "_dom_classes": [],
            "_model_module": "@jupyter-widgets/controls",
            "_model_module_version": "1.5.0",
            "_model_name": "FloatProgressModel",
            "_view_count": null,
            "_view_module": "@jupyter-widgets/controls",
            "_view_module_version": "1.5.0",
            "_view_name": "ProgressView",
            "bar_style": "success",
            "description": "",
            "description_tooltip": null,
            "layout": "IPY_MODEL_8179b3c450d84b4588f78e98e40fed66",
            "max": 570,
            "min": 0,
            "orientation": "horizontal",
            "style": "IPY_MODEL_b1bce79bf7d44023b47925cdf0bdb0f2",
            "value": 570
          }
        },
        "fd4f08acaa8e46ad914bca88be730e1a": {
          "model_module": "@jupyter-widgets/controls",
          "model_name": "HTMLModel",
          "model_module_version": "1.5.0",
          "state": {
            "_dom_classes": [],
            "_model_module": "@jupyter-widgets/controls",
            "_model_module_version": "1.5.0",
            "_model_name": "HTMLModel",
            "_view_count": null,
            "_view_module": "@jupyter-widgets/controls",
            "_view_module_version": "1.5.0",
            "_view_name": "HTMLView",
            "description": "",
            "description_tooltip": null,
            "layout": "IPY_MODEL_0d685b38daa849849b18fb855efd2929",
            "placeholder": "​",
            "style": "IPY_MODEL_4d792dd0560143558a3084164d3f97fc",
            "value": " 570/570 [00:00&lt;00:00, 12.4kB/s]"
          }
        },
        "c34244013f3f4412b1d965961c53fb08": {
          "model_module": "@jupyter-widgets/base",
          "model_name": "LayoutModel",
          "model_module_version": "1.2.0",
          "state": {
            "_model_module": "@jupyter-widgets/base",
            "_model_module_version": "1.2.0",
            "_model_name": "LayoutModel",
            "_view_count": null,
            "_view_module": "@jupyter-widgets/base",
            "_view_module_version": "1.2.0",
            "_view_name": "LayoutView",
            "align_content": null,
            "align_items": null,
            "align_self": null,
            "border": null,
            "bottom": null,
            "display": null,
            "flex": null,
            "flex_flow": null,
            "grid_area": null,
            "grid_auto_columns": null,
            "grid_auto_flow": null,
            "grid_auto_rows": null,
            "grid_column": null,
            "grid_gap": null,
            "grid_row": null,
            "grid_template_areas": null,
            "grid_template_columns": null,
            "grid_template_rows": null,
            "height": null,
            "justify_content": null,
            "justify_items": null,
            "left": null,
            "margin": null,
            "max_height": null,
            "max_width": null,
            "min_height": null,
            "min_width": null,
            "object_fit": null,
            "object_position": null,
            "order": null,
            "overflow": null,
            "overflow_x": null,
            "overflow_y": null,
            "padding": null,
            "right": null,
            "top": null,
            "visibility": null,
            "width": null
          }
        },
        "c832223871274ecab4ddc3b5ecf26496": {
          "model_module": "@jupyter-widgets/base",
          "model_name": "LayoutModel",
          "model_module_version": "1.2.0",
          "state": {
            "_model_module": "@jupyter-widgets/base",
            "_model_module_version": "1.2.0",
            "_model_name": "LayoutModel",
            "_view_count": null,
            "_view_module": "@jupyter-widgets/base",
            "_view_module_version": "1.2.0",
            "_view_name": "LayoutView",
            "align_content": null,
            "align_items": null,
            "align_self": null,
            "border": null,
            "bottom": null,
            "display": null,
            "flex": null,
            "flex_flow": null,
            "grid_area": null,
            "grid_auto_columns": null,
            "grid_auto_flow": null,
            "grid_auto_rows": null,
            "grid_column": null,
            "grid_gap": null,
            "grid_row": null,
            "grid_template_areas": null,
            "grid_template_columns": null,
            "grid_template_rows": null,
            "height": null,
            "justify_content": null,
            "justify_items": null,
            "left": null,
            "margin": null,
            "max_height": null,
            "max_width": null,
            "min_height": null,
            "min_width": null,
            "object_fit": null,
            "object_position": null,
            "order": null,
            "overflow": null,
            "overflow_x": null,
            "overflow_y": null,
            "padding": null,
            "right": null,
            "top": null,
            "visibility": null,
            "width": null
          }
        },
        "0ea8cc18144f4babbbf666698472269e": {
          "model_module": "@jupyter-widgets/controls",
          "model_name": "DescriptionStyleModel",
          "model_module_version": "1.5.0",
          "state": {
            "_model_module": "@jupyter-widgets/controls",
            "_model_module_version": "1.5.0",
            "_model_name": "DescriptionStyleModel",
            "_view_count": null,
            "_view_module": "@jupyter-widgets/base",
            "_view_module_version": "1.2.0",
            "_view_name": "StyleView",
            "description_width": ""
          }
        },
        "8179b3c450d84b4588f78e98e40fed66": {
          "model_module": "@jupyter-widgets/base",
          "model_name": "LayoutModel",
          "model_module_version": "1.2.0",
          "state": {
            "_model_module": "@jupyter-widgets/base",
            "_model_module_version": "1.2.0",
            "_model_name": "LayoutModel",
            "_view_count": null,
            "_view_module": "@jupyter-widgets/base",
            "_view_module_version": "1.2.0",
            "_view_name": "LayoutView",
            "align_content": null,
            "align_items": null,
            "align_self": null,
            "border": null,
            "bottom": null,
            "display": null,
            "flex": null,
            "flex_flow": null,
            "grid_area": null,
            "grid_auto_columns": null,
            "grid_auto_flow": null,
            "grid_auto_rows": null,
            "grid_column": null,
            "grid_gap": null,
            "grid_row": null,
            "grid_template_areas": null,
            "grid_template_columns": null,
            "grid_template_rows": null,
            "height": null,
            "justify_content": null,
            "justify_items": null,
            "left": null,
            "margin": null,
            "max_height": null,
            "max_width": null,
            "min_height": null,
            "min_width": null,
            "object_fit": null,
            "object_position": null,
            "order": null,
            "overflow": null,
            "overflow_x": null,
            "overflow_y": null,
            "padding": null,
            "right": null,
            "top": null,
            "visibility": null,
            "width": null
          }
        },
        "b1bce79bf7d44023b47925cdf0bdb0f2": {
          "model_module": "@jupyter-widgets/controls",
          "model_name": "ProgressStyleModel",
          "model_module_version": "1.5.0",
          "state": {
            "_model_module": "@jupyter-widgets/controls",
            "_model_module_version": "1.5.0",
            "_model_name": "ProgressStyleModel",
            "_view_count": null,
            "_view_module": "@jupyter-widgets/base",
            "_view_module_version": "1.2.0",
            "_view_name": "StyleView",
            "bar_color": null,
            "description_width": ""
          }
        },
        "0d685b38daa849849b18fb855efd2929": {
          "model_module": "@jupyter-widgets/base",
          "model_name": "LayoutModel",
          "model_module_version": "1.2.0",
          "state": {
            "_model_module": "@jupyter-widgets/base",
            "_model_module_version": "1.2.0",
            "_model_name": "LayoutModel",
            "_view_count": null,
            "_view_module": "@jupyter-widgets/base",
            "_view_module_version": "1.2.0",
            "_view_name": "LayoutView",
            "align_content": null,
            "align_items": null,
            "align_self": null,
            "border": null,
            "bottom": null,
            "display": null,
            "flex": null,
            "flex_flow": null,
            "grid_area": null,
            "grid_auto_columns": null,
            "grid_auto_flow": null,
            "grid_auto_rows": null,
            "grid_column": null,
            "grid_gap": null,
            "grid_row": null,
            "grid_template_areas": null,
            "grid_template_columns": null,
            "grid_template_rows": null,
            "height": null,
            "justify_content": null,
            "justify_items": null,
            "left": null,
            "margin": null,
            "max_height": null,
            "max_width": null,
            "min_height": null,
            "min_width": null,
            "object_fit": null,
            "object_position": null,
            "order": null,
            "overflow": null,
            "overflow_x": null,
            "overflow_y": null,
            "padding": null,
            "right": null,
            "top": null,
            "visibility": null,
            "width": null
          }
        },
        "4d792dd0560143558a3084164d3f97fc": {
          "model_module": "@jupyter-widgets/controls",
          "model_name": "DescriptionStyleModel",
          "model_module_version": "1.5.0",
          "state": {
            "_model_module": "@jupyter-widgets/controls",
            "_model_module_version": "1.5.0",
            "_model_name": "DescriptionStyleModel",
            "_view_count": null,
            "_view_module": "@jupyter-widgets/base",
            "_view_module_version": "1.2.0",
            "_view_name": "StyleView",
            "description_width": ""
          }
        },
        "564a098883fa436098211cfb02f29c6b": {
          "model_module": "@jupyter-widgets/controls",
          "model_name": "HBoxModel",
          "model_module_version": "1.5.0",
          "state": {
            "_dom_classes": [],
            "_model_module": "@jupyter-widgets/controls",
            "_model_module_version": "1.5.0",
            "_model_name": "HBoxModel",
            "_view_count": null,
            "_view_module": "@jupyter-widgets/controls",
            "_view_module_version": "1.5.0",
            "_view_name": "HBoxView",
            "box_style": "",
            "children": [
              "IPY_MODEL_e40aabe484994666944265eabbfe7aca",
              "IPY_MODEL_452f963c999249f4bae33e1b12a9206d",
              "IPY_MODEL_bcbf8364a6b14c55918fc106c3fa68a4"
            ],
            "layout": "IPY_MODEL_b6bdf579c65c41698bbe5ddd00546cc6"
          }
        },
        "e40aabe484994666944265eabbfe7aca": {
          "model_module": "@jupyter-widgets/controls",
          "model_name": "HTMLModel",
          "model_module_version": "1.5.0",
          "state": {
            "_dom_classes": [],
            "_model_module": "@jupyter-widgets/controls",
            "_model_module_version": "1.5.0",
            "_model_name": "HTMLModel",
            "_view_count": null,
            "_view_module": "@jupyter-widgets/controls",
            "_view_module_version": "1.5.0",
            "_view_name": "HTMLView",
            "description": "",
            "description_tooltip": null,
            "layout": "IPY_MODEL_6bf962c66bc245ec934a4eb555286960",
            "placeholder": "​",
            "style": "IPY_MODEL_06a3be04efc4411fb1673e709e19f5cb",
            "value": "vocab.txt: 100%"
          }
        },
        "452f963c999249f4bae33e1b12a9206d": {
          "model_module": "@jupyter-widgets/controls",
          "model_name": "FloatProgressModel",
          "model_module_version": "1.5.0",
          "state": {
            "_dom_classes": [],
            "_model_module": "@jupyter-widgets/controls",
            "_model_module_version": "1.5.0",
            "_model_name": "FloatProgressModel",
            "_view_count": null,
            "_view_module": "@jupyter-widgets/controls",
            "_view_module_version": "1.5.0",
            "_view_name": "ProgressView",
            "bar_style": "success",
            "description": "",
            "description_tooltip": null,
            "layout": "IPY_MODEL_328d2ee2e97a4416bb3dc78a33419579",
            "max": 231508,
            "min": 0,
            "orientation": "horizontal",
            "style": "IPY_MODEL_c42b9f6503aa43b896b63273a8761dab",
            "value": 231508
          }
        },
        "bcbf8364a6b14c55918fc106c3fa68a4": {
          "model_module": "@jupyter-widgets/controls",
          "model_name": "HTMLModel",
          "model_module_version": "1.5.0",
          "state": {
            "_dom_classes": [],
            "_model_module": "@jupyter-widgets/controls",
            "_model_module_version": "1.5.0",
            "_model_name": "HTMLModel",
            "_view_count": null,
            "_view_module": "@jupyter-widgets/controls",
            "_view_module_version": "1.5.0",
            "_view_name": "HTMLView",
            "description": "",
            "description_tooltip": null,
            "layout": "IPY_MODEL_bf05903cbcf44b7ba69666de0220e5fb",
            "placeholder": "​",
            "style": "IPY_MODEL_db165ccfac954050aee36fca0b187452",
            "value": " 232k/232k [00:00&lt;00:00, 1.41MB/s]"
          }
        },
        "b6bdf579c65c41698bbe5ddd00546cc6": {
          "model_module": "@jupyter-widgets/base",
          "model_name": "LayoutModel",
          "model_module_version": "1.2.0",
          "state": {
            "_model_module": "@jupyter-widgets/base",
            "_model_module_version": "1.2.0",
            "_model_name": "LayoutModel",
            "_view_count": null,
            "_view_module": "@jupyter-widgets/base",
            "_view_module_version": "1.2.0",
            "_view_name": "LayoutView",
            "align_content": null,
            "align_items": null,
            "align_self": null,
            "border": null,
            "bottom": null,
            "display": null,
            "flex": null,
            "flex_flow": null,
            "grid_area": null,
            "grid_auto_columns": null,
            "grid_auto_flow": null,
            "grid_auto_rows": null,
            "grid_column": null,
            "grid_gap": null,
            "grid_row": null,
            "grid_template_areas": null,
            "grid_template_columns": null,
            "grid_template_rows": null,
            "height": null,
            "justify_content": null,
            "justify_items": null,
            "left": null,
            "margin": null,
            "max_height": null,
            "max_width": null,
            "min_height": null,
            "min_width": null,
            "object_fit": null,
            "object_position": null,
            "order": null,
            "overflow": null,
            "overflow_x": null,
            "overflow_y": null,
            "padding": null,
            "right": null,
            "top": null,
            "visibility": null,
            "width": null
          }
        },
        "6bf962c66bc245ec934a4eb555286960": {
          "model_module": "@jupyter-widgets/base",
          "model_name": "LayoutModel",
          "model_module_version": "1.2.0",
          "state": {
            "_model_module": "@jupyter-widgets/base",
            "_model_module_version": "1.2.0",
            "_model_name": "LayoutModel",
            "_view_count": null,
            "_view_module": "@jupyter-widgets/base",
            "_view_module_version": "1.2.0",
            "_view_name": "LayoutView",
            "align_content": null,
            "align_items": null,
            "align_self": null,
            "border": null,
            "bottom": null,
            "display": null,
            "flex": null,
            "flex_flow": null,
            "grid_area": null,
            "grid_auto_columns": null,
            "grid_auto_flow": null,
            "grid_auto_rows": null,
            "grid_column": null,
            "grid_gap": null,
            "grid_row": null,
            "grid_template_areas": null,
            "grid_template_columns": null,
            "grid_template_rows": null,
            "height": null,
            "justify_content": null,
            "justify_items": null,
            "left": null,
            "margin": null,
            "max_height": null,
            "max_width": null,
            "min_height": null,
            "min_width": null,
            "object_fit": null,
            "object_position": null,
            "order": null,
            "overflow": null,
            "overflow_x": null,
            "overflow_y": null,
            "padding": null,
            "right": null,
            "top": null,
            "visibility": null,
            "width": null
          }
        },
        "06a3be04efc4411fb1673e709e19f5cb": {
          "model_module": "@jupyter-widgets/controls",
          "model_name": "DescriptionStyleModel",
          "model_module_version": "1.5.0",
          "state": {
            "_model_module": "@jupyter-widgets/controls",
            "_model_module_version": "1.5.0",
            "_model_name": "DescriptionStyleModel",
            "_view_count": null,
            "_view_module": "@jupyter-widgets/base",
            "_view_module_version": "1.2.0",
            "_view_name": "StyleView",
            "description_width": ""
          }
        },
        "328d2ee2e97a4416bb3dc78a33419579": {
          "model_module": "@jupyter-widgets/base",
          "model_name": "LayoutModel",
          "model_module_version": "1.2.0",
          "state": {
            "_model_module": "@jupyter-widgets/base",
            "_model_module_version": "1.2.0",
            "_model_name": "LayoutModel",
            "_view_count": null,
            "_view_module": "@jupyter-widgets/base",
            "_view_module_version": "1.2.0",
            "_view_name": "LayoutView",
            "align_content": null,
            "align_items": null,
            "align_self": null,
            "border": null,
            "bottom": null,
            "display": null,
            "flex": null,
            "flex_flow": null,
            "grid_area": null,
            "grid_auto_columns": null,
            "grid_auto_flow": null,
            "grid_auto_rows": null,
            "grid_column": null,
            "grid_gap": null,
            "grid_row": null,
            "grid_template_areas": null,
            "grid_template_columns": null,
            "grid_template_rows": null,
            "height": null,
            "justify_content": null,
            "justify_items": null,
            "left": null,
            "margin": null,
            "max_height": null,
            "max_width": null,
            "min_height": null,
            "min_width": null,
            "object_fit": null,
            "object_position": null,
            "order": null,
            "overflow": null,
            "overflow_x": null,
            "overflow_y": null,
            "padding": null,
            "right": null,
            "top": null,
            "visibility": null,
            "width": null
          }
        },
        "c42b9f6503aa43b896b63273a8761dab": {
          "model_module": "@jupyter-widgets/controls",
          "model_name": "ProgressStyleModel",
          "model_module_version": "1.5.0",
          "state": {
            "_model_module": "@jupyter-widgets/controls",
            "_model_module_version": "1.5.0",
            "_model_name": "ProgressStyleModel",
            "_view_count": null,
            "_view_module": "@jupyter-widgets/base",
            "_view_module_version": "1.2.0",
            "_view_name": "StyleView",
            "bar_color": null,
            "description_width": ""
          }
        },
        "bf05903cbcf44b7ba69666de0220e5fb": {
          "model_module": "@jupyter-widgets/base",
          "model_name": "LayoutModel",
          "model_module_version": "1.2.0",
          "state": {
            "_model_module": "@jupyter-widgets/base",
            "_model_module_version": "1.2.0",
            "_model_name": "LayoutModel",
            "_view_count": null,
            "_view_module": "@jupyter-widgets/base",
            "_view_module_version": "1.2.0",
            "_view_name": "LayoutView",
            "align_content": null,
            "align_items": null,
            "align_self": null,
            "border": null,
            "bottom": null,
            "display": null,
            "flex": null,
            "flex_flow": null,
            "grid_area": null,
            "grid_auto_columns": null,
            "grid_auto_flow": null,
            "grid_auto_rows": null,
            "grid_column": null,
            "grid_gap": null,
            "grid_row": null,
            "grid_template_areas": null,
            "grid_template_columns": null,
            "grid_template_rows": null,
            "height": null,
            "justify_content": null,
            "justify_items": null,
            "left": null,
            "margin": null,
            "max_height": null,
            "max_width": null,
            "min_height": null,
            "min_width": null,
            "object_fit": null,
            "object_position": null,
            "order": null,
            "overflow": null,
            "overflow_x": null,
            "overflow_y": null,
            "padding": null,
            "right": null,
            "top": null,
            "visibility": null,
            "width": null
          }
        },
        "db165ccfac954050aee36fca0b187452": {
          "model_module": "@jupyter-widgets/controls",
          "model_name": "DescriptionStyleModel",
          "model_module_version": "1.5.0",
          "state": {
            "_model_module": "@jupyter-widgets/controls",
            "_model_module_version": "1.5.0",
            "_model_name": "DescriptionStyleModel",
            "_view_count": null,
            "_view_module": "@jupyter-widgets/base",
            "_view_module_version": "1.2.0",
            "_view_name": "StyleView",
            "description_width": ""
          }
        },
        "c681dc9f0ace4409b117aa45e1d9d188": {
          "model_module": "@jupyter-widgets/controls",
          "model_name": "HBoxModel",
          "model_module_version": "1.5.0",
          "state": {
            "_dom_classes": [],
            "_model_module": "@jupyter-widgets/controls",
            "_model_module_version": "1.5.0",
            "_model_name": "HBoxModel",
            "_view_count": null,
            "_view_module": "@jupyter-widgets/controls",
            "_view_module_version": "1.5.0",
            "_view_name": "HBoxView",
            "box_style": "",
            "children": [
              "IPY_MODEL_9a6659e71b5b4f0d88503f5bbc1781ec",
              "IPY_MODEL_24221e57be284bc0b592f571bbccbc97",
              "IPY_MODEL_bafc24957a7a4fcea5ef4a6bc0337d24"
            ],
            "layout": "IPY_MODEL_58a9ae7ae2d948f591fa641d8ef4d428"
          }
        },
        "9a6659e71b5b4f0d88503f5bbc1781ec": {
          "model_module": "@jupyter-widgets/controls",
          "model_name": "HTMLModel",
          "model_module_version": "1.5.0",
          "state": {
            "_dom_classes": [],
            "_model_module": "@jupyter-widgets/controls",
            "_model_module_version": "1.5.0",
            "_model_name": "HTMLModel",
            "_view_count": null,
            "_view_module": "@jupyter-widgets/controls",
            "_view_module_version": "1.5.0",
            "_view_name": "HTMLView",
            "description": "",
            "description_tooltip": null,
            "layout": "IPY_MODEL_4b0bdd9d8ded4bdd8b882c38b9f18f45",
            "placeholder": "​",
            "style": "IPY_MODEL_5dc24c52c31349f4a1aa692777f1dda9",
            "value": "tokenizer.json: 100%"
          }
        },
        "24221e57be284bc0b592f571bbccbc97": {
          "model_module": "@jupyter-widgets/controls",
          "model_name": "FloatProgressModel",
          "model_module_version": "1.5.0",
          "state": {
            "_dom_classes": [],
            "_model_module": "@jupyter-widgets/controls",
            "_model_module_version": "1.5.0",
            "_model_name": "FloatProgressModel",
            "_view_count": null,
            "_view_module": "@jupyter-widgets/controls",
            "_view_module_version": "1.5.0",
            "_view_name": "ProgressView",
            "bar_style": "success",
            "description": "",
            "description_tooltip": null,
            "layout": "IPY_MODEL_054c20fd6d074499af1e9472a7f51412",
            "max": 466062,
            "min": 0,
            "orientation": "horizontal",
            "style": "IPY_MODEL_47c1f610d5a14a63aa1623213e2519e9",
            "value": 466062
          }
        },
        "bafc24957a7a4fcea5ef4a6bc0337d24": {
          "model_module": "@jupyter-widgets/controls",
          "model_name": "HTMLModel",
          "model_module_version": "1.5.0",
          "state": {
            "_dom_classes": [],
            "_model_module": "@jupyter-widgets/controls",
            "_model_module_version": "1.5.0",
            "_model_name": "HTMLModel",
            "_view_count": null,
            "_view_module": "@jupyter-widgets/controls",
            "_view_module_version": "1.5.0",
            "_view_name": "HTMLView",
            "description": "",
            "description_tooltip": null,
            "layout": "IPY_MODEL_4feb4a5bb9294182b473a89bf7969938",
            "placeholder": "​",
            "style": "IPY_MODEL_3ebbf794d71346eea959ce12abf7c28a",
            "value": " 466k/466k [00:00&lt;00:00, 1.87MB/s]"
          }
        },
        "58a9ae7ae2d948f591fa641d8ef4d428": {
          "model_module": "@jupyter-widgets/base",
          "model_name": "LayoutModel",
          "model_module_version": "1.2.0",
          "state": {
            "_model_module": "@jupyter-widgets/base",
            "_model_module_version": "1.2.0",
            "_model_name": "LayoutModel",
            "_view_count": null,
            "_view_module": "@jupyter-widgets/base",
            "_view_module_version": "1.2.0",
            "_view_name": "LayoutView",
            "align_content": null,
            "align_items": null,
            "align_self": null,
            "border": null,
            "bottom": null,
            "display": null,
            "flex": null,
            "flex_flow": null,
            "grid_area": null,
            "grid_auto_columns": null,
            "grid_auto_flow": null,
            "grid_auto_rows": null,
            "grid_column": null,
            "grid_gap": null,
            "grid_row": null,
            "grid_template_areas": null,
            "grid_template_columns": null,
            "grid_template_rows": null,
            "height": null,
            "justify_content": null,
            "justify_items": null,
            "left": null,
            "margin": null,
            "max_height": null,
            "max_width": null,
            "min_height": null,
            "min_width": null,
            "object_fit": null,
            "object_position": null,
            "order": null,
            "overflow": null,
            "overflow_x": null,
            "overflow_y": null,
            "padding": null,
            "right": null,
            "top": null,
            "visibility": null,
            "width": null
          }
        },
        "4b0bdd9d8ded4bdd8b882c38b9f18f45": {
          "model_module": "@jupyter-widgets/base",
          "model_name": "LayoutModel",
          "model_module_version": "1.2.0",
          "state": {
            "_model_module": "@jupyter-widgets/base",
            "_model_module_version": "1.2.0",
            "_model_name": "LayoutModel",
            "_view_count": null,
            "_view_module": "@jupyter-widgets/base",
            "_view_module_version": "1.2.0",
            "_view_name": "LayoutView",
            "align_content": null,
            "align_items": null,
            "align_self": null,
            "border": null,
            "bottom": null,
            "display": null,
            "flex": null,
            "flex_flow": null,
            "grid_area": null,
            "grid_auto_columns": null,
            "grid_auto_flow": null,
            "grid_auto_rows": null,
            "grid_column": null,
            "grid_gap": null,
            "grid_row": null,
            "grid_template_areas": null,
            "grid_template_columns": null,
            "grid_template_rows": null,
            "height": null,
            "justify_content": null,
            "justify_items": null,
            "left": null,
            "margin": null,
            "max_height": null,
            "max_width": null,
            "min_height": null,
            "min_width": null,
            "object_fit": null,
            "object_position": null,
            "order": null,
            "overflow": null,
            "overflow_x": null,
            "overflow_y": null,
            "padding": null,
            "right": null,
            "top": null,
            "visibility": null,
            "width": null
          }
        },
        "5dc24c52c31349f4a1aa692777f1dda9": {
          "model_module": "@jupyter-widgets/controls",
          "model_name": "DescriptionStyleModel",
          "model_module_version": "1.5.0",
          "state": {
            "_model_module": "@jupyter-widgets/controls",
            "_model_module_version": "1.5.0",
            "_model_name": "DescriptionStyleModel",
            "_view_count": null,
            "_view_module": "@jupyter-widgets/base",
            "_view_module_version": "1.2.0",
            "_view_name": "StyleView",
            "description_width": ""
          }
        },
        "054c20fd6d074499af1e9472a7f51412": {
          "model_module": "@jupyter-widgets/base",
          "model_name": "LayoutModel",
          "model_module_version": "1.2.0",
          "state": {
            "_model_module": "@jupyter-widgets/base",
            "_model_module_version": "1.2.0",
            "_model_name": "LayoutModel",
            "_view_count": null,
            "_view_module": "@jupyter-widgets/base",
            "_view_module_version": "1.2.0",
            "_view_name": "LayoutView",
            "align_content": null,
            "align_items": null,
            "align_self": null,
            "border": null,
            "bottom": null,
            "display": null,
            "flex": null,
            "flex_flow": null,
            "grid_area": null,
            "grid_auto_columns": null,
            "grid_auto_flow": null,
            "grid_auto_rows": null,
            "grid_column": null,
            "grid_gap": null,
            "grid_row": null,
            "grid_template_areas": null,
            "grid_template_columns": null,
            "grid_template_rows": null,
            "height": null,
            "justify_content": null,
            "justify_items": null,
            "left": null,
            "margin": null,
            "max_height": null,
            "max_width": null,
            "min_height": null,
            "min_width": null,
            "object_fit": null,
            "object_position": null,
            "order": null,
            "overflow": null,
            "overflow_x": null,
            "overflow_y": null,
            "padding": null,
            "right": null,
            "top": null,
            "visibility": null,
            "width": null
          }
        },
        "47c1f610d5a14a63aa1623213e2519e9": {
          "model_module": "@jupyter-widgets/controls",
          "model_name": "ProgressStyleModel",
          "model_module_version": "1.5.0",
          "state": {
            "_model_module": "@jupyter-widgets/controls",
            "_model_module_version": "1.5.0",
            "_model_name": "ProgressStyleModel",
            "_view_count": null,
            "_view_module": "@jupyter-widgets/base",
            "_view_module_version": "1.2.0",
            "_view_name": "StyleView",
            "bar_color": null,
            "description_width": ""
          }
        },
        "4feb4a5bb9294182b473a89bf7969938": {
          "model_module": "@jupyter-widgets/base",
          "model_name": "LayoutModel",
          "model_module_version": "1.2.0",
          "state": {
            "_model_module": "@jupyter-widgets/base",
            "_model_module_version": "1.2.0",
            "_model_name": "LayoutModel",
            "_view_count": null,
            "_view_module": "@jupyter-widgets/base",
            "_view_module_version": "1.2.0",
            "_view_name": "LayoutView",
            "align_content": null,
            "align_items": null,
            "align_self": null,
            "border": null,
            "bottom": null,
            "display": null,
            "flex": null,
            "flex_flow": null,
            "grid_area": null,
            "grid_auto_columns": null,
            "grid_auto_flow": null,
            "grid_auto_rows": null,
            "grid_column": null,
            "grid_gap": null,
            "grid_row": null,
            "grid_template_areas": null,
            "grid_template_columns": null,
            "grid_template_rows": null,
            "height": null,
            "justify_content": null,
            "justify_items": null,
            "left": null,
            "margin": null,
            "max_height": null,
            "max_width": null,
            "min_height": null,
            "min_width": null,
            "object_fit": null,
            "object_position": null,
            "order": null,
            "overflow": null,
            "overflow_x": null,
            "overflow_y": null,
            "padding": null,
            "right": null,
            "top": null,
            "visibility": null,
            "width": null
          }
        },
        "3ebbf794d71346eea959ce12abf7c28a": {
          "model_module": "@jupyter-widgets/controls",
          "model_name": "DescriptionStyleModel",
          "model_module_version": "1.5.0",
          "state": {
            "_model_module": "@jupyter-widgets/controls",
            "_model_module_version": "1.5.0",
            "_model_name": "DescriptionStyleModel",
            "_view_count": null,
            "_view_module": "@jupyter-widgets/base",
            "_view_module_version": "1.2.0",
            "_view_name": "StyleView",
            "description_width": ""
          }
        },
        "08852f4442414b88825ff4babf33de59": {
          "model_module": "@jupyter-widgets/controls",
          "model_name": "HBoxModel",
          "model_module_version": "1.5.0",
          "state": {
            "_dom_classes": [],
            "_model_module": "@jupyter-widgets/controls",
            "_model_module_version": "1.5.0",
            "_model_name": "HBoxModel",
            "_view_count": null,
            "_view_module": "@jupyter-widgets/controls",
            "_view_module_version": "1.5.0",
            "_view_name": "HBoxView",
            "box_style": "",
            "children": [
              "IPY_MODEL_396982c066144acaab285b7d79f8bc51",
              "IPY_MODEL_a8d324aa38484d24b07db21377f2185a",
              "IPY_MODEL_eb06961372994de5b069ce1591dfecf5"
            ],
            "layout": "IPY_MODEL_c3ece2c00c624983beb85e93babe385f"
          }
        },
        "396982c066144acaab285b7d79f8bc51": {
          "model_module": "@jupyter-widgets/controls",
          "model_name": "HTMLModel",
          "model_module_version": "1.5.0",
          "state": {
            "_dom_classes": [],
            "_model_module": "@jupyter-widgets/controls",
            "_model_module_version": "1.5.0",
            "_model_name": "HTMLModel",
            "_view_count": null,
            "_view_module": "@jupyter-widgets/controls",
            "_view_module_version": "1.5.0",
            "_view_name": "HTMLView",
            "description": "",
            "description_tooltip": null,
            "layout": "IPY_MODEL_e2033036f5ff41e9a42f56d35202ac23",
            "placeholder": "​",
            "style": "IPY_MODEL_1d7b457984ac4df49dbd9d5c00655e37",
            "value": "model.safetensors: 100%"
          }
        },
        "a8d324aa38484d24b07db21377f2185a": {
          "model_module": "@jupyter-widgets/controls",
          "model_name": "FloatProgressModel",
          "model_module_version": "1.5.0",
          "state": {
            "_dom_classes": [],
            "_model_module": "@jupyter-widgets/controls",
            "_model_module_version": "1.5.0",
            "_model_name": "FloatProgressModel",
            "_view_count": null,
            "_view_module": "@jupyter-widgets/controls",
            "_view_module_version": "1.5.0",
            "_view_name": "ProgressView",
            "bar_style": "success",
            "description": "",
            "description_tooltip": null,
            "layout": "IPY_MODEL_21d50b47386b4dfd89f5c5387ce9d029",
            "max": 440449768,
            "min": 0,
            "orientation": "horizontal",
            "style": "IPY_MODEL_42575971e9ac4b43bf62333c4b840348",
            "value": 440449768
          }
        },
        "eb06961372994de5b069ce1591dfecf5": {
          "model_module": "@jupyter-widgets/controls",
          "model_name": "HTMLModel",
          "model_module_version": "1.5.0",
          "state": {
            "_dom_classes": [],
            "_model_module": "@jupyter-widgets/controls",
            "_model_module_version": "1.5.0",
            "_model_name": "HTMLModel",
            "_view_count": null,
            "_view_module": "@jupyter-widgets/controls",
            "_view_module_version": "1.5.0",
            "_view_name": "HTMLView",
            "description": "",
            "description_tooltip": null,
            "layout": "IPY_MODEL_ba8b5a1f193642a49e602fd854a2b2af",
            "placeholder": "​",
            "style": "IPY_MODEL_c334b1051be2409db906efc6e06f3831",
            "value": " 440M/440M [00:01&lt;00:00, 259MB/s]"
          }
        },
        "c3ece2c00c624983beb85e93babe385f": {
          "model_module": "@jupyter-widgets/base",
          "model_name": "LayoutModel",
          "model_module_version": "1.2.0",
          "state": {
            "_model_module": "@jupyter-widgets/base",
            "_model_module_version": "1.2.0",
            "_model_name": "LayoutModel",
            "_view_count": null,
            "_view_module": "@jupyter-widgets/base",
            "_view_module_version": "1.2.0",
            "_view_name": "LayoutView",
            "align_content": null,
            "align_items": null,
            "align_self": null,
            "border": null,
            "bottom": null,
            "display": null,
            "flex": null,
            "flex_flow": null,
            "grid_area": null,
            "grid_auto_columns": null,
            "grid_auto_flow": null,
            "grid_auto_rows": null,
            "grid_column": null,
            "grid_gap": null,
            "grid_row": null,
            "grid_template_areas": null,
            "grid_template_columns": null,
            "grid_template_rows": null,
            "height": null,
            "justify_content": null,
            "justify_items": null,
            "left": null,
            "margin": null,
            "max_height": null,
            "max_width": null,
            "min_height": null,
            "min_width": null,
            "object_fit": null,
            "object_position": null,
            "order": null,
            "overflow": null,
            "overflow_x": null,
            "overflow_y": null,
            "padding": null,
            "right": null,
            "top": null,
            "visibility": null,
            "width": null
          }
        },
        "e2033036f5ff41e9a42f56d35202ac23": {
          "model_module": "@jupyter-widgets/base",
          "model_name": "LayoutModel",
          "model_module_version": "1.2.0",
          "state": {
            "_model_module": "@jupyter-widgets/base",
            "_model_module_version": "1.2.0",
            "_model_name": "LayoutModel",
            "_view_count": null,
            "_view_module": "@jupyter-widgets/base",
            "_view_module_version": "1.2.0",
            "_view_name": "LayoutView",
            "align_content": null,
            "align_items": null,
            "align_self": null,
            "border": null,
            "bottom": null,
            "display": null,
            "flex": null,
            "flex_flow": null,
            "grid_area": null,
            "grid_auto_columns": null,
            "grid_auto_flow": null,
            "grid_auto_rows": null,
            "grid_column": null,
            "grid_gap": null,
            "grid_row": null,
            "grid_template_areas": null,
            "grid_template_columns": null,
            "grid_template_rows": null,
            "height": null,
            "justify_content": null,
            "justify_items": null,
            "left": null,
            "margin": null,
            "max_height": null,
            "max_width": null,
            "min_height": null,
            "min_width": null,
            "object_fit": null,
            "object_position": null,
            "order": null,
            "overflow": null,
            "overflow_x": null,
            "overflow_y": null,
            "padding": null,
            "right": null,
            "top": null,
            "visibility": null,
            "width": null
          }
        },
        "1d7b457984ac4df49dbd9d5c00655e37": {
          "model_module": "@jupyter-widgets/controls",
          "model_name": "DescriptionStyleModel",
          "model_module_version": "1.5.0",
          "state": {
            "_model_module": "@jupyter-widgets/controls",
            "_model_module_version": "1.5.0",
            "_model_name": "DescriptionStyleModel",
            "_view_count": null,
            "_view_module": "@jupyter-widgets/base",
            "_view_module_version": "1.2.0",
            "_view_name": "StyleView",
            "description_width": ""
          }
        },
        "21d50b47386b4dfd89f5c5387ce9d029": {
          "model_module": "@jupyter-widgets/base",
          "model_name": "LayoutModel",
          "model_module_version": "1.2.0",
          "state": {
            "_model_module": "@jupyter-widgets/base",
            "_model_module_version": "1.2.0",
            "_model_name": "LayoutModel",
            "_view_count": null,
            "_view_module": "@jupyter-widgets/base",
            "_view_module_version": "1.2.0",
            "_view_name": "LayoutView",
            "align_content": null,
            "align_items": null,
            "align_self": null,
            "border": null,
            "bottom": null,
            "display": null,
            "flex": null,
            "flex_flow": null,
            "grid_area": null,
            "grid_auto_columns": null,
            "grid_auto_flow": null,
            "grid_auto_rows": null,
            "grid_column": null,
            "grid_gap": null,
            "grid_row": null,
            "grid_template_areas": null,
            "grid_template_columns": null,
            "grid_template_rows": null,
            "height": null,
            "justify_content": null,
            "justify_items": null,
            "left": null,
            "margin": null,
            "max_height": null,
            "max_width": null,
            "min_height": null,
            "min_width": null,
            "object_fit": null,
            "object_position": null,
            "order": null,
            "overflow": null,
            "overflow_x": null,
            "overflow_y": null,
            "padding": null,
            "right": null,
            "top": null,
            "visibility": null,
            "width": null
          }
        },
        "42575971e9ac4b43bf62333c4b840348": {
          "model_module": "@jupyter-widgets/controls",
          "model_name": "ProgressStyleModel",
          "model_module_version": "1.5.0",
          "state": {
            "_model_module": "@jupyter-widgets/controls",
            "_model_module_version": "1.5.0",
            "_model_name": "ProgressStyleModel",
            "_view_count": null,
            "_view_module": "@jupyter-widgets/base",
            "_view_module_version": "1.2.0",
            "_view_name": "StyleView",
            "bar_color": null,
            "description_width": ""
          }
        },
        "ba8b5a1f193642a49e602fd854a2b2af": {
          "model_module": "@jupyter-widgets/base",
          "model_name": "LayoutModel",
          "model_module_version": "1.2.0",
          "state": {
            "_model_module": "@jupyter-widgets/base",
            "_model_module_version": "1.2.0",
            "_model_name": "LayoutModel",
            "_view_count": null,
            "_view_module": "@jupyter-widgets/base",
            "_view_module_version": "1.2.0",
            "_view_name": "LayoutView",
            "align_content": null,
            "align_items": null,
            "align_self": null,
            "border": null,
            "bottom": null,
            "display": null,
            "flex": null,
            "flex_flow": null,
            "grid_area": null,
            "grid_auto_columns": null,
            "grid_auto_flow": null,
            "grid_auto_rows": null,
            "grid_column": null,
            "grid_gap": null,
            "grid_row": null,
            "grid_template_areas": null,
            "grid_template_columns": null,
            "grid_template_rows": null,
            "height": null,
            "justify_content": null,
            "justify_items": null,
            "left": null,
            "margin": null,
            "max_height": null,
            "max_width": null,
            "min_height": null,
            "min_width": null,
            "object_fit": null,
            "object_position": null,
            "order": null,
            "overflow": null,
            "overflow_x": null,
            "overflow_y": null,
            "padding": null,
            "right": null,
            "top": null,
            "visibility": null,
            "width": null
          }
        },
        "c334b1051be2409db906efc6e06f3831": {
          "model_module": "@jupyter-widgets/controls",
          "model_name": "DescriptionStyleModel",
          "model_module_version": "1.5.0",
          "state": {
            "_model_module": "@jupyter-widgets/controls",
            "_model_module_version": "1.5.0",
            "_model_name": "DescriptionStyleModel",
            "_view_count": null,
            "_view_module": "@jupyter-widgets/base",
            "_view_module_version": "1.2.0",
            "_view_name": "StyleView",
            "description_width": ""
          }
        },
        "ae192b891eb64b7589da81276c2d72b6": {
          "model_module": "@jupyter-widgets/controls",
          "model_name": "VBoxModel",
          "model_module_version": "1.5.0",
          "state": {
            "_dom_classes": [],
            "_model_module": "@jupyter-widgets/controls",
            "_model_module_version": "1.5.0",
            "_model_name": "VBoxModel",
            "_view_count": null,
            "_view_module": "@jupyter-widgets/controls",
            "_view_module_version": "1.5.0",
            "_view_name": "VBoxView",
            "box_style": "",
            "children": [
              "IPY_MODEL_d8042bad14474cfc9ed36663335f7b41",
              "IPY_MODEL_1a43761b5f484a289cff92ef0c85837d"
            ],
            "layout": "IPY_MODEL_7d0892972dad446eb030183418b87e22"
          }
        },
        "d8042bad14474cfc9ed36663335f7b41": {
          "model_module": "@jupyter-widgets/controls",
          "model_name": "LabelModel",
          "model_module_version": "1.5.0",
          "state": {
            "_dom_classes": [],
            "_model_module": "@jupyter-widgets/controls",
            "_model_module_version": "1.5.0",
            "_model_name": "LabelModel",
            "_view_count": null,
            "_view_module": "@jupyter-widgets/controls",
            "_view_module_version": "1.5.0",
            "_view_name": "LabelView",
            "description": "",
            "description_tooltip": null,
            "layout": "IPY_MODEL_676f0f8801bc454cab3fb352698dce9c",
            "placeholder": "​",
            "style": "IPY_MODEL_e3e5ac045e164aa18991e5655dfe2a09",
            "value": "0.023 MB of 0.023 MB uploaded\r"
          }
        },
        "1a43761b5f484a289cff92ef0c85837d": {
          "model_module": "@jupyter-widgets/controls",
          "model_name": "FloatProgressModel",
          "model_module_version": "1.5.0",
          "state": {
            "_dom_classes": [],
            "_model_module": "@jupyter-widgets/controls",
            "_model_module_version": "1.5.0",
            "_model_name": "FloatProgressModel",
            "_view_count": null,
            "_view_module": "@jupyter-widgets/controls",
            "_view_module_version": "1.5.0",
            "_view_name": "ProgressView",
            "bar_style": "",
            "description": "",
            "description_tooltip": null,
            "layout": "IPY_MODEL_5bc4b0329d924e2fba98d6db4f0597ea",
            "max": 1,
            "min": 0,
            "orientation": "horizontal",
            "style": "IPY_MODEL_c4c1e74c690644289bc76d701f6609e0",
            "value": 1
          }
        },
        "7d0892972dad446eb030183418b87e22": {
          "model_module": "@jupyter-widgets/base",
          "model_name": "LayoutModel",
          "model_module_version": "1.2.0",
          "state": {
            "_model_module": "@jupyter-widgets/base",
            "_model_module_version": "1.2.0",
            "_model_name": "LayoutModel",
            "_view_count": null,
            "_view_module": "@jupyter-widgets/base",
            "_view_module_version": "1.2.0",
            "_view_name": "LayoutView",
            "align_content": null,
            "align_items": null,
            "align_self": null,
            "border": null,
            "bottom": null,
            "display": null,
            "flex": null,
            "flex_flow": null,
            "grid_area": null,
            "grid_auto_columns": null,
            "grid_auto_flow": null,
            "grid_auto_rows": null,
            "grid_column": null,
            "grid_gap": null,
            "grid_row": null,
            "grid_template_areas": null,
            "grid_template_columns": null,
            "grid_template_rows": null,
            "height": null,
            "justify_content": null,
            "justify_items": null,
            "left": null,
            "margin": null,
            "max_height": null,
            "max_width": null,
            "min_height": null,
            "min_width": null,
            "object_fit": null,
            "object_position": null,
            "order": null,
            "overflow": null,
            "overflow_x": null,
            "overflow_y": null,
            "padding": null,
            "right": null,
            "top": null,
            "visibility": null,
            "width": null
          }
        },
        "676f0f8801bc454cab3fb352698dce9c": {
          "model_module": "@jupyter-widgets/base",
          "model_name": "LayoutModel",
          "model_module_version": "1.2.0",
          "state": {
            "_model_module": "@jupyter-widgets/base",
            "_model_module_version": "1.2.0",
            "_model_name": "LayoutModel",
            "_view_count": null,
            "_view_module": "@jupyter-widgets/base",
            "_view_module_version": "1.2.0",
            "_view_name": "LayoutView",
            "align_content": null,
            "align_items": null,
            "align_self": null,
            "border": null,
            "bottom": null,
            "display": null,
            "flex": null,
            "flex_flow": null,
            "grid_area": null,
            "grid_auto_columns": null,
            "grid_auto_flow": null,
            "grid_auto_rows": null,
            "grid_column": null,
            "grid_gap": null,
            "grid_row": null,
            "grid_template_areas": null,
            "grid_template_columns": null,
            "grid_template_rows": null,
            "height": null,
            "justify_content": null,
            "justify_items": null,
            "left": null,
            "margin": null,
            "max_height": null,
            "max_width": null,
            "min_height": null,
            "min_width": null,
            "object_fit": null,
            "object_position": null,
            "order": null,
            "overflow": null,
            "overflow_x": null,
            "overflow_y": null,
            "padding": null,
            "right": null,
            "top": null,
            "visibility": null,
            "width": null
          }
        },
        "e3e5ac045e164aa18991e5655dfe2a09": {
          "model_module": "@jupyter-widgets/controls",
          "model_name": "DescriptionStyleModel",
          "model_module_version": "1.5.0",
          "state": {
            "_model_module": "@jupyter-widgets/controls",
            "_model_module_version": "1.5.0",
            "_model_name": "DescriptionStyleModel",
            "_view_count": null,
            "_view_module": "@jupyter-widgets/base",
            "_view_module_version": "1.2.0",
            "_view_name": "StyleView",
            "description_width": ""
          }
        },
        "5bc4b0329d924e2fba98d6db4f0597ea": {
          "model_module": "@jupyter-widgets/base",
          "model_name": "LayoutModel",
          "model_module_version": "1.2.0",
          "state": {
            "_model_module": "@jupyter-widgets/base",
            "_model_module_version": "1.2.0",
            "_model_name": "LayoutModel",
            "_view_count": null,
            "_view_module": "@jupyter-widgets/base",
            "_view_module_version": "1.2.0",
            "_view_name": "LayoutView",
            "align_content": null,
            "align_items": null,
            "align_self": null,
            "border": null,
            "bottom": null,
            "display": null,
            "flex": null,
            "flex_flow": null,
            "grid_area": null,
            "grid_auto_columns": null,
            "grid_auto_flow": null,
            "grid_auto_rows": null,
            "grid_column": null,
            "grid_gap": null,
            "grid_row": null,
            "grid_template_areas": null,
            "grid_template_columns": null,
            "grid_template_rows": null,
            "height": null,
            "justify_content": null,
            "justify_items": null,
            "left": null,
            "margin": null,
            "max_height": null,
            "max_width": null,
            "min_height": null,
            "min_width": null,
            "object_fit": null,
            "object_position": null,
            "order": null,
            "overflow": null,
            "overflow_x": null,
            "overflow_y": null,
            "padding": null,
            "right": null,
            "top": null,
            "visibility": null,
            "width": null
          }
        },
        "c4c1e74c690644289bc76d701f6609e0": {
          "model_module": "@jupyter-widgets/controls",
          "model_name": "ProgressStyleModel",
          "model_module_version": "1.5.0",
          "state": {
            "_model_module": "@jupyter-widgets/controls",
            "_model_module_version": "1.5.0",
            "_model_name": "ProgressStyleModel",
            "_view_count": null,
            "_view_module": "@jupyter-widgets/base",
            "_view_module_version": "1.2.0",
            "_view_name": "StyleView",
            "bar_color": null,
            "description_width": ""
          }
        },
        "fa83c577922940eb8e52f0d0271284ec": {
          "model_module": "@jupyter-widgets/controls",
          "model_name": "VBoxModel",
          "model_module_version": "1.5.0",
          "state": {
            "_dom_classes": [],
            "_model_module": "@jupyter-widgets/controls",
            "_model_module_version": "1.5.0",
            "_model_name": "VBoxModel",
            "_view_count": null,
            "_view_module": "@jupyter-widgets/controls",
            "_view_module_version": "1.5.0",
            "_view_name": "VBoxView",
            "box_style": "",
            "children": [
              "IPY_MODEL_520c1047c9bf46c4831e97848f22d91a",
              "IPY_MODEL_b6828841d69f40f0956771eba2b35c27"
            ],
            "layout": "IPY_MODEL_48d24b1ff52f44c18fa2861fed4dfb43"
          }
        },
        "520c1047c9bf46c4831e97848f22d91a": {
          "model_module": "@jupyter-widgets/controls",
          "model_name": "LabelModel",
          "model_module_version": "1.5.0",
          "state": {
            "_dom_classes": [],
            "_model_module": "@jupyter-widgets/controls",
            "_model_module_version": "1.5.0",
            "_model_name": "LabelModel",
            "_view_count": null,
            "_view_module": "@jupyter-widgets/controls",
            "_view_module_version": "1.5.0",
            "_view_name": "LabelView",
            "description": "",
            "description_tooltip": null,
            "layout": "IPY_MODEL_d30fa9e213334c18adbcfe859ee9e674",
            "placeholder": "​",
            "style": "IPY_MODEL_863516a9a31a486ba1d44f3a765627cf",
            "value": "0.012 MB of 0.012 MB uploaded\r"
          }
        },
        "b6828841d69f40f0956771eba2b35c27": {
          "model_module": "@jupyter-widgets/controls",
          "model_name": "FloatProgressModel",
          "model_module_version": "1.5.0",
          "state": {
            "_dom_classes": [],
            "_model_module": "@jupyter-widgets/controls",
            "_model_module_version": "1.5.0",
            "_model_name": "FloatProgressModel",
            "_view_count": null,
            "_view_module": "@jupyter-widgets/controls",
            "_view_module_version": "1.5.0",
            "_view_name": "ProgressView",
            "bar_style": "",
            "description": "",
            "description_tooltip": null,
            "layout": "IPY_MODEL_dc34e321d82c41d1a8d8589a3a6973f8",
            "max": 1,
            "min": 0,
            "orientation": "horizontal",
            "style": "IPY_MODEL_33001634b10747738f43ef6bc8bbf2ca",
            "value": 1
          }
        },
        "48d24b1ff52f44c18fa2861fed4dfb43": {
          "model_module": "@jupyter-widgets/base",
          "model_name": "LayoutModel",
          "model_module_version": "1.2.0",
          "state": {
            "_model_module": "@jupyter-widgets/base",
            "_model_module_version": "1.2.0",
            "_model_name": "LayoutModel",
            "_view_count": null,
            "_view_module": "@jupyter-widgets/base",
            "_view_module_version": "1.2.0",
            "_view_name": "LayoutView",
            "align_content": null,
            "align_items": null,
            "align_self": null,
            "border": null,
            "bottom": null,
            "display": null,
            "flex": null,
            "flex_flow": null,
            "grid_area": null,
            "grid_auto_columns": null,
            "grid_auto_flow": null,
            "grid_auto_rows": null,
            "grid_column": null,
            "grid_gap": null,
            "grid_row": null,
            "grid_template_areas": null,
            "grid_template_columns": null,
            "grid_template_rows": null,
            "height": null,
            "justify_content": null,
            "justify_items": null,
            "left": null,
            "margin": null,
            "max_height": null,
            "max_width": null,
            "min_height": null,
            "min_width": null,
            "object_fit": null,
            "object_position": null,
            "order": null,
            "overflow": null,
            "overflow_x": null,
            "overflow_y": null,
            "padding": null,
            "right": null,
            "top": null,
            "visibility": null,
            "width": null
          }
        },
        "d30fa9e213334c18adbcfe859ee9e674": {
          "model_module": "@jupyter-widgets/base",
          "model_name": "LayoutModel",
          "model_module_version": "1.2.0",
          "state": {
            "_model_module": "@jupyter-widgets/base",
            "_model_module_version": "1.2.0",
            "_model_name": "LayoutModel",
            "_view_count": null,
            "_view_module": "@jupyter-widgets/base",
            "_view_module_version": "1.2.0",
            "_view_name": "LayoutView",
            "align_content": null,
            "align_items": null,
            "align_self": null,
            "border": null,
            "bottom": null,
            "display": null,
            "flex": null,
            "flex_flow": null,
            "grid_area": null,
            "grid_auto_columns": null,
            "grid_auto_flow": null,
            "grid_auto_rows": null,
            "grid_column": null,
            "grid_gap": null,
            "grid_row": null,
            "grid_template_areas": null,
            "grid_template_columns": null,
            "grid_template_rows": null,
            "height": null,
            "justify_content": null,
            "justify_items": null,
            "left": null,
            "margin": null,
            "max_height": null,
            "max_width": null,
            "min_height": null,
            "min_width": null,
            "object_fit": null,
            "object_position": null,
            "order": null,
            "overflow": null,
            "overflow_x": null,
            "overflow_y": null,
            "padding": null,
            "right": null,
            "top": null,
            "visibility": null,
            "width": null
          }
        },
        "863516a9a31a486ba1d44f3a765627cf": {
          "model_module": "@jupyter-widgets/controls",
          "model_name": "DescriptionStyleModel",
          "model_module_version": "1.5.0",
          "state": {
            "_model_module": "@jupyter-widgets/controls",
            "_model_module_version": "1.5.0",
            "_model_name": "DescriptionStyleModel",
            "_view_count": null,
            "_view_module": "@jupyter-widgets/base",
            "_view_module_version": "1.2.0",
            "_view_name": "StyleView",
            "description_width": ""
          }
        },
        "dc34e321d82c41d1a8d8589a3a6973f8": {
          "model_module": "@jupyter-widgets/base",
          "model_name": "LayoutModel",
          "model_module_version": "1.2.0",
          "state": {
            "_model_module": "@jupyter-widgets/base",
            "_model_module_version": "1.2.0",
            "_model_name": "LayoutModel",
            "_view_count": null,
            "_view_module": "@jupyter-widgets/base",
            "_view_module_version": "1.2.0",
            "_view_name": "LayoutView",
            "align_content": null,
            "align_items": null,
            "align_self": null,
            "border": null,
            "bottom": null,
            "display": null,
            "flex": null,
            "flex_flow": null,
            "grid_area": null,
            "grid_auto_columns": null,
            "grid_auto_flow": null,
            "grid_auto_rows": null,
            "grid_column": null,
            "grid_gap": null,
            "grid_row": null,
            "grid_template_areas": null,
            "grid_template_columns": null,
            "grid_template_rows": null,
            "height": null,
            "justify_content": null,
            "justify_items": null,
            "left": null,
            "margin": null,
            "max_height": null,
            "max_width": null,
            "min_height": null,
            "min_width": null,
            "object_fit": null,
            "object_position": null,
            "order": null,
            "overflow": null,
            "overflow_x": null,
            "overflow_y": null,
            "padding": null,
            "right": null,
            "top": null,
            "visibility": null,
            "width": null
          }
        },
        "33001634b10747738f43ef6bc8bbf2ca": {
          "model_module": "@jupyter-widgets/controls",
          "model_name": "ProgressStyleModel",
          "model_module_version": "1.5.0",
          "state": {
            "_model_module": "@jupyter-widgets/controls",
            "_model_module_version": "1.5.0",
            "_model_name": "ProgressStyleModel",
            "_view_count": null,
            "_view_module": "@jupyter-widgets/base",
            "_view_module_version": "1.2.0",
            "_view_name": "StyleView",
            "bar_color": null,
            "description_width": ""
          }
        }
      }
    }
  },
  "nbformat_minor": 0,
  "nbformat": 4,
  "cells": [
    {
      "cell_type": "markdown",
      "metadata": {
        "id": "view-in-github",
        "colab_type": "text"
      },
      "source": [
        "<a href=\"https://colab.research.google.com/github/Anoif01/Sentiment-Analysis-FrozenLayer/blob/test-colab/FrozenLayer_Movie_Review_Sentiment_Analysis.ipynb\" target=\"_parent\"><img src=\"https://colab.research.google.com/assets/colab-badge.svg\" alt=\"Open In Colab\"/></a>"
      ]
    },
    {
      "source": [
        "# IMPORTANT: RUN THIS CELL IN ORDER TO IMPORT YOUR KAGGLE DATA SOURCES\n",
        "# TO THE CORRECT LOCATION (/kaggle/input) IN YOUR NOTEBOOK,\n",
        "# THEN FEEL FREE TO DELETE THIS CELL.\n",
        "# NOTE: THIS NOTEBOOK ENVIRONMENT DIFFERS FROM KAGGLE'S PYTHON\n",
        "# ENVIRONMENT SO THERE MAY BE MISSING LIBRARIES USED BY YOUR NOTEBOOK.\n",
        "\n",
        "import os\n",
        "import sys\n",
        "from tempfile import NamedTemporaryFile\n",
        "from urllib.request import urlopen\n",
        "from urllib.parse import unquote, urlparse\n",
        "from urllib.error import HTTPError\n",
        "from zipfile import ZipFile\n",
        "import tarfile\n",
        "import shutil\n",
        "\n",
        "CHUNK_SIZE = 40960\n",
        "DATA_SOURCE_MAPPING = 'sentiment-analysis-on-movie-reviews:https%3A%2F%2Fstorage.googleapis.com%2Fkaggle-competitions-data%2Fkaggle-v2%2F10025%2F32092%2Fbundle%2Farchive.zip%3FX-Goog-Algorithm%3DGOOG4-RSA-SHA256%26X-Goog-Credential%3Dgcp-kaggle-com%2540kaggle-161607.iam.gserviceaccount.com%252F20240209%252Fauto%252Fstorage%252Fgoog4_request%26X-Goog-Date%3D20240209T171129Z%26X-Goog-Expires%3D259200%26X-Goog-SignedHeaders%3Dhost%26X-Goog-Signature%3Da28f75b012890b46305cf2b4ade452d0ac93bf7fe73640ec4b5dabe418ec843532bb870dcbc4b1518a268541966e9f93a3602b1e8d58192ca05f0e3c337e8d13cb69f5a4126c4ea93237b5430e16ebba0270bd4c238fe436b130f24aacb60d137c405fbddc7c5a4e24d6ca18e311bac86d89ce95c0140872693d2936eece93b6eb7b1abb291fefc9e89c16b7ec0723b5e0ea70d91de9d8e15ca62f4f9b6a08d72de28f287762871e0e470c5fe677e2e5d36333ecc501766ae625a714a49dd5c3e83daf43a8c7f189366f2472ca9c65ddc1de3b5cc9dfd6ce1b2631ca5d368fa78254fb0bb4c65d5fe62d1a49d1c8d250f009741becc22f3351d878126c9d8e3d'\n",
        "\n",
        "KAGGLE_INPUT_PATH='/kaggle/input'\n",
        "KAGGLE_WORKING_PATH='/kaggle/working'\n",
        "KAGGLE_SYMLINK='kaggle'\n",
        "\n",
        "!umount /kaggle/input/ 2> /dev/null\n",
        "shutil.rmtree('/kaggle/input', ignore_errors=True)\n",
        "os.makedirs(KAGGLE_INPUT_PATH, 0o777, exist_ok=True)\n",
        "os.makedirs(KAGGLE_WORKING_PATH, 0o777, exist_ok=True)\n",
        "\n",
        "try:\n",
        "  os.symlink(KAGGLE_INPUT_PATH, os.path.join(\"..\", 'input'), target_is_directory=True)\n",
        "except FileExistsError:\n",
        "  pass\n",
        "try:\n",
        "  os.symlink(KAGGLE_WORKING_PATH, os.path.join(\"..\", 'working'), target_is_directory=True)\n",
        "except FileExistsError:\n",
        "  pass\n",
        "\n",
        "for data_source_mapping in DATA_SOURCE_MAPPING.split(','):\n",
        "    directory, download_url_encoded = data_source_mapping.split(':')\n",
        "    download_url = unquote(download_url_encoded)\n",
        "    filename = urlparse(download_url).path\n",
        "    destination_path = os.path.join(KAGGLE_INPUT_PATH, directory)\n",
        "    try:\n",
        "        with urlopen(download_url) as fileres, NamedTemporaryFile() as tfile:\n",
        "            total_length = fileres.headers['content-length']\n",
        "            print(f'Downloading {directory}, {total_length} bytes compressed')\n",
        "            dl = 0\n",
        "            data = fileres.read(CHUNK_SIZE)\n",
        "            while len(data) > 0:\n",
        "                dl += len(data)\n",
        "                tfile.write(data)\n",
        "                done = int(50 * dl / int(total_length))\n",
        "                sys.stdout.write(f\"\\r[{'=' * done}{' ' * (50-done)}] {dl} bytes downloaded\")\n",
        "                sys.stdout.flush()\n",
        "                data = fileres.read(CHUNK_SIZE)\n",
        "            if filename.endswith('.zip'):\n",
        "              with ZipFile(tfile) as zfile:\n",
        "                zfile.extractall(destination_path)\n",
        "            else:\n",
        "              with tarfile.open(tfile.name) as tarfile:\n",
        "                tarfile.extractall(destination_path)\n",
        "            print(f'\\nDownloaded and uncompressed: {directory}')\n",
        "    except HTTPError as e:\n",
        "        print(f'Failed to load (likely expired) {download_url} to path {destination_path}')\n",
        "        continue\n",
        "    except OSError as e:\n",
        "        print(f'Failed to load {download_url} to path {destination_path}')\n",
        "        continue\n",
        "\n",
        "print('Data source import complete.')\n"
      ],
      "metadata": {
        "id": "ZarlaCqI2mp-",
        "outputId": "de02380f-9b3a-444a-8214-4ac8e59c500b",
        "colab": {
          "base_uri": "https://localhost:8080/"
        }
      },
      "cell_type": "code",
      "outputs": [
        {
          "output_type": "stream",
          "name": "stdout",
          "text": [
            "Downloading sentiment-analysis-on-movie-reviews, 1991138 bytes compressed\n",
            "[==================================================] 1991138 bytes downloaded\n",
            "Downloaded and uncompressed: sentiment-analysis-on-movie-reviews\n",
            "Data source import complete.\n"
          ]
        }
      ],
      "execution_count": 1
    },
    {
      "cell_type": "code",
      "source": [
        "!pip install wandb"
      ],
      "metadata": {
        "colab": {
          "base_uri": "https://localhost:8080/"
        },
        "id": "z9EicRZWeYyh",
        "outputId": "85022359-5451-4ada-8294-8c96d0c14d44"
      },
      "execution_count": 2,
      "outputs": [
        {
          "output_type": "stream",
          "name": "stdout",
          "text": [
            "Collecting wandb\n",
            "  Downloading wandb-0.16.3-py3-none-any.whl (2.2 MB)\n",
            "\u001b[2K     \u001b[90m━━━━━━━━━━━━━━━━━━━━━━━━━━━━━━━━━━━━━━━━\u001b[0m \u001b[32m2.2/2.2 MB\u001b[0m \u001b[31m16.5 MB/s\u001b[0m eta \u001b[36m0:00:00\u001b[0m\n",
            "\u001b[?25hRequirement already satisfied: Click!=8.0.0,>=7.1 in /usr/local/lib/python3.10/dist-packages (from wandb) (8.1.7)\n",
            "Collecting GitPython!=3.1.29,>=1.0.0 (from wandb)\n",
            "  Downloading GitPython-3.1.41-py3-none-any.whl (196 kB)\n",
            "\u001b[2K     \u001b[90m━━━━━━━━━━━━━━━━━━━━━━━━━━━━━━━━━━━━━━━━\u001b[0m \u001b[32m196.4/196.4 kB\u001b[0m \u001b[31m19.4 MB/s\u001b[0m eta \u001b[36m0:00:00\u001b[0m\n",
            "\u001b[?25hRequirement already satisfied: requests<3,>=2.0.0 in /usr/local/lib/python3.10/dist-packages (from wandb) (2.31.0)\n",
            "Requirement already satisfied: psutil>=5.0.0 in /usr/local/lib/python3.10/dist-packages (from wandb) (5.9.5)\n",
            "Collecting sentry-sdk>=1.0.0 (from wandb)\n",
            "  Downloading sentry_sdk-1.40.3-py2.py3-none-any.whl (257 kB)\n",
            "\u001b[2K     \u001b[90m━━━━━━━━━━━━━━━━━━━━━━━━━━━━━━━━━━━━━━━━\u001b[0m \u001b[32m257.8/257.8 kB\u001b[0m \u001b[31m26.9 MB/s\u001b[0m eta \u001b[36m0:00:00\u001b[0m\n",
            "\u001b[?25hCollecting docker-pycreds>=0.4.0 (from wandb)\n",
            "  Downloading docker_pycreds-0.4.0-py2.py3-none-any.whl (9.0 kB)\n",
            "Requirement already satisfied: PyYAML in /usr/local/lib/python3.10/dist-packages (from wandb) (6.0.1)\n",
            "Collecting setproctitle (from wandb)\n",
            "  Downloading setproctitle-1.3.3-cp310-cp310-manylinux_2_5_x86_64.manylinux1_x86_64.manylinux_2_17_x86_64.manylinux2014_x86_64.whl (30 kB)\n",
            "Requirement already satisfied: setuptools in /usr/local/lib/python3.10/dist-packages (from wandb) (67.7.2)\n",
            "Requirement already satisfied: appdirs>=1.4.3 in /usr/local/lib/python3.10/dist-packages (from wandb) (1.4.4)\n",
            "Requirement already satisfied: protobuf!=4.21.0,<5,>=3.19.0 in /usr/local/lib/python3.10/dist-packages (from wandb) (3.20.3)\n",
            "Requirement already satisfied: six>=1.4.0 in /usr/local/lib/python3.10/dist-packages (from docker-pycreds>=0.4.0->wandb) (1.16.0)\n",
            "Collecting gitdb<5,>=4.0.1 (from GitPython!=3.1.29,>=1.0.0->wandb)\n",
            "  Downloading gitdb-4.0.11-py3-none-any.whl (62 kB)\n",
            "\u001b[2K     \u001b[90m━━━━━━━━━━━━━━━━━━━━━━━━━━━━━━━━━━━━━━━━\u001b[0m \u001b[32m62.7/62.7 kB\u001b[0m \u001b[31m4.8 MB/s\u001b[0m eta \u001b[36m0:00:00\u001b[0m\n",
            "\u001b[?25hRequirement already satisfied: charset-normalizer<4,>=2 in /usr/local/lib/python3.10/dist-packages (from requests<3,>=2.0.0->wandb) (3.3.2)\n",
            "Requirement already satisfied: idna<4,>=2.5 in /usr/local/lib/python3.10/dist-packages (from requests<3,>=2.0.0->wandb) (3.6)\n",
            "Requirement already satisfied: urllib3<3,>=1.21.1 in /usr/local/lib/python3.10/dist-packages (from requests<3,>=2.0.0->wandb) (2.0.7)\n",
            "Requirement already satisfied: certifi>=2017.4.17 in /usr/local/lib/python3.10/dist-packages (from requests<3,>=2.0.0->wandb) (2024.2.2)\n",
            "Collecting smmap<6,>=3.0.1 (from gitdb<5,>=4.0.1->GitPython!=3.1.29,>=1.0.0->wandb)\n",
            "  Downloading smmap-5.0.1-py3-none-any.whl (24 kB)\n",
            "Installing collected packages: smmap, setproctitle, sentry-sdk, docker-pycreds, gitdb, GitPython, wandb\n",
            "Successfully installed GitPython-3.1.41 docker-pycreds-0.4.0 gitdb-4.0.11 sentry-sdk-1.40.3 setproctitle-1.3.3 smmap-5.0.1 wandb-0.16.3\n"
          ]
        }
      ]
    },
    {
      "cell_type": "code",
      "source": [
        "import wandb\n",
        "wandb.login()"
      ],
      "metadata": {
        "colab": {
          "base_uri": "https://localhost:8080/",
          "height": 71
        },
        "id": "b-dR90Cuehwf",
        "outputId": "d202402e-e8b3-449f-80fd-6b0590e7509d"
      },
      "execution_count": 3,
      "outputs": [
        {
          "output_type": "display_data",
          "data": {
            "text/plain": [
              "<IPython.core.display.Javascript object>"
            ],
            "application/javascript": [
              "\n",
              "        window._wandbApiKey = new Promise((resolve, reject) => {\n",
              "            function loadScript(url) {\n",
              "            return new Promise(function(resolve, reject) {\n",
              "                let newScript = document.createElement(\"script\");\n",
              "                newScript.onerror = reject;\n",
              "                newScript.onload = resolve;\n",
              "                document.body.appendChild(newScript);\n",
              "                newScript.src = url;\n",
              "            });\n",
              "            }\n",
              "            loadScript(\"https://cdn.jsdelivr.net/npm/postmate/build/postmate.min.js\").then(() => {\n",
              "            const iframe = document.createElement('iframe')\n",
              "            iframe.style.cssText = \"width:0;height:0;border:none\"\n",
              "            document.body.appendChild(iframe)\n",
              "            const handshake = new Postmate({\n",
              "                container: iframe,\n",
              "                url: 'https://wandb.ai/authorize'\n",
              "            });\n",
              "            const timeout = setTimeout(() => reject(\"Couldn't auto authenticate\"), 5000)\n",
              "            handshake.then(function(child) {\n",
              "                child.on('authorize', data => {\n",
              "                    clearTimeout(timeout)\n",
              "                    resolve(data)\n",
              "                });\n",
              "            });\n",
              "            })\n",
              "        });\n",
              "    "
            ]
          },
          "metadata": {}
        },
        {
          "output_type": "stream",
          "name": "stderr",
          "text": [
            "\u001b[34m\u001b[1mwandb\u001b[0m: Appending key for api.wandb.ai to your netrc file: /root/.netrc\n"
          ]
        },
        {
          "output_type": "execute_result",
          "data": {
            "text/plain": [
              "True"
            ]
          },
          "metadata": {},
          "execution_count": 3
        }
      ]
    },
    {
      "cell_type": "code",
      "source": [
        "wandb.init(project='Sentiment-Analysis-FrozenLayer', entity='anoif')"
      ],
      "metadata": {
        "colab": {
          "base_uri": "https://localhost:8080/",
          "height": 144
        },
        "id": "CWao7wP1erAS",
        "outputId": "fa7566ff-7818-4e9d-f811-936360ad28c9"
      },
      "execution_count": 4,
      "outputs": [
        {
          "output_type": "stream",
          "name": "stderr",
          "text": [
            "\u001b[34m\u001b[1mwandb\u001b[0m: Currently logged in as: \u001b[33manoif\u001b[0m. Use \u001b[1m`wandb login --relogin`\u001b[0m to force relogin\n"
          ]
        },
        {
          "output_type": "display_data",
          "data": {
            "text/plain": [
              "<IPython.core.display.HTML object>"
            ],
            "text/html": [
              "Tracking run with wandb version 0.16.3"
            ]
          },
          "metadata": {}
        },
        {
          "output_type": "display_data",
          "data": {
            "text/plain": [
              "<IPython.core.display.HTML object>"
            ],
            "text/html": [
              "Run data is saved locally in <code>/content/wandb/run-20240209_203011-ajm7ygpx</code>"
            ]
          },
          "metadata": {}
        },
        {
          "output_type": "display_data",
          "data": {
            "text/plain": [
              "<IPython.core.display.HTML object>"
            ],
            "text/html": [
              "Syncing run <strong><a href='https://wandb.ai/anoif/Sentiment-Analysis-FrozenLayer/runs/ajm7ygpx' target=\"_blank\">pretty-glade-2</a></strong> to <a href='https://wandb.ai/anoif/Sentiment-Analysis-FrozenLayer' target=\"_blank\">Weights & Biases</a> (<a href='https://wandb.me/run' target=\"_blank\">docs</a>)<br/>"
            ]
          },
          "metadata": {}
        },
        {
          "output_type": "display_data",
          "data": {
            "text/plain": [
              "<IPython.core.display.HTML object>"
            ],
            "text/html": [
              " View project at <a href='https://wandb.ai/anoif/Sentiment-Analysis-FrozenLayer' target=\"_blank\">https://wandb.ai/anoif/Sentiment-Analysis-FrozenLayer</a>"
            ]
          },
          "metadata": {}
        },
        {
          "output_type": "display_data",
          "data": {
            "text/plain": [
              "<IPython.core.display.HTML object>"
            ],
            "text/html": [
              " View run at <a href='https://wandb.ai/anoif/Sentiment-Analysis-FrozenLayer/runs/ajm7ygpx' target=\"_blank\">https://wandb.ai/anoif/Sentiment-Analysis-FrozenLayer/runs/ajm7ygpx</a>"
            ]
          },
          "metadata": {}
        },
        {
          "output_type": "execute_result",
          "data": {
            "text/html": [
              "<button onClick=\"this.nextSibling.style.display='block';this.style.display='none';\">Display W&B run</button><iframe src='https://wandb.ai/anoif/Sentiment-Analysis-FrozenLayer/runs/ajm7ygpx?jupyter=true' style='border:none;width:100%;height:420px;display:none;'></iframe>"
            ],
            "text/plain": [
              "<wandb.sdk.wandb_run.Run at 0x7c0351cd8c10>"
            ]
          },
          "metadata": {},
          "execution_count": 4
        }
      ]
    },
    {
      "cell_type": "code",
      "source": [],
      "metadata": {
        "id": "Xdr9dPUYojgZ"
      },
      "execution_count": null,
      "outputs": []
    },
    {
      "cell_type": "markdown",
      "source": [
        "## 这是一篇学习向的Notebook，课题是NLP领域的情感分析任务。\n",
        "### 主要使用的工具是Pytorch和tensorflow。我希望在这里学习到：\n",
        "    1. 如何调用Bert模型：使用什么库，什么函数？\n",
        "    2. 如何使用pytorch搭建数据集，导入模型和微调模型？\n",
        "    3. 如何定义模型的参数，损失函数和metric？\n",
        "    4. 如何创建submission的csv？\n",
        "    5. 有什么未来能做的优化？如何提分？能不能举一反三？"
      ],
      "metadata": {
        "id": "ApyDHq8D2mqB"
      }
    },
    {
      "cell_type": "code",
      "source": [
        "import os\n",
        "import random\n",
        "import gc\n",
        "\n",
        "import numpy as np\n",
        "import pandas as pd\n",
        "from tqdm import tqdm\n",
        "\n",
        "import torch\n",
        "import torch.nn as nn\n",
        "from torch.utils.data import DataLoader, Dataset, random_split\n",
        "\n",
        "from transformers import AutoModel, AutoTokenizer, AutoConfig, AdamW\n",
        "\n",
        "for dirname, _, filenames in os.walk('/kaggle/input'):\n",
        "    for filename in filenames:\n",
        "        print(os.path.join(dirname, filename))\n",
        "\n",
        "gc.collect()"
      ],
      "metadata": {
        "_uuid": "8f2839f25d086af736a60e9eeb907d3b93b6e0e5",
        "_cell_guid": "b1076dfc-b9ad-4769-8c92-a6c4dae69d19",
        "execution": {
          "iopub.status.busy": "2024-02-09T16:18:53.030822Z",
          "iopub.execute_input": "2024-02-09T16:18:53.03136Z",
          "iopub.status.idle": "2024-02-09T16:19:00.073188Z",
          "shell.execute_reply.started": "2024-02-09T16:18:53.031329Z",
          "shell.execute_reply": "2024-02-09T16:19:00.07219Z"
        },
        "trusted": true,
        "id": "acw3wA1u2mqD",
        "outputId": "836c23f5-acb9-402b-ac18-7e0ace5be013",
        "colab": {
          "base_uri": "https://localhost:8080/"
        }
      },
      "execution_count": 5,
      "outputs": [
        {
          "output_type": "stream",
          "name": "stdout",
          "text": [
            "/kaggle/input/sentiment-analysis-on-movie-reviews/sampleSubmission.csv\n",
            "/kaggle/input/sentiment-analysis-on-movie-reviews/train.tsv.zip\n",
            "/kaggle/input/sentiment-analysis-on-movie-reviews/test.tsv.zip\n"
          ]
        },
        {
          "output_type": "execute_result",
          "data": {
            "text/plain": [
              "70"
            ]
          },
          "metadata": {},
          "execution_count": 5
        }
      ]
    },
    {
      "cell_type": "markdown",
      "source": [
        "### 0. 设定seed值，用于复现实验。"
      ],
      "metadata": {
        "id": "jmrrUQnU2mqD"
      }
    },
    {
      "cell_type": "code",
      "source": [
        "device = torch.device('cuda' if torch.cuda.is_available() else 'cpu')"
      ],
      "metadata": {
        "execution": {
          "iopub.status.busy": "2024-02-08T23:04:25.086235Z",
          "iopub.execute_input": "2024-02-08T23:04:25.086738Z",
          "iopub.status.idle": "2024-02-08T23:04:25.121332Z",
          "shell.execute_reply.started": "2024-02-08T23:04:25.086704Z",
          "shell.execute_reply": "2024-02-08T23:04:25.120334Z"
        },
        "trusted": true,
        "id": "kUbeYOoZ2mqE"
      },
      "execution_count": 6,
      "outputs": []
    },
    {
      "cell_type": "code",
      "source": [
        "random.seed(42)\n",
        "torch.manual_seed(42)\n",
        "np.random.seed(42)"
      ],
      "metadata": {
        "execution": {
          "iopub.status.busy": "2024-02-08T23:04:25.122551Z",
          "iopub.execute_input": "2024-02-08T23:04:25.123129Z",
          "iopub.status.idle": "2024-02-08T23:04:25.135145Z",
          "shell.execute_reply.started": "2024-02-08T23:04:25.123104Z",
          "shell.execute_reply": "2024-02-08T23:04:25.134314Z"
        },
        "trusted": true,
        "id": "SbftFHHX2mqE"
      },
      "execution_count": 7,
      "outputs": []
    },
    {
      "cell_type": "markdown",
      "source": [
        "### 1. Prepare data 准备数据集\n",
        "\n",
        "The sentiment labels are:\n",
        "\n",
        "0 - negative\n",
        "1 - somewhat negative\n",
        "2 - neutral\n",
        "3 - somewhat positive\n",
        "4 - positive"
      ],
      "metadata": {
        "id": "hA8T7KVu2mqE"
      }
    },
    {
      "cell_type": "code",
      "source": [
        "!apt-get install unzip\n",
        "!unzip ../input/sentiment-analysis-on-movie-reviews/test.tsv.zip test.tsv\n",
        "!unzip ../input/sentiment-analysis-on-movie-reviews/train.tsv.zip train.tsv"
      ],
      "metadata": {
        "execution": {
          "iopub.status.busy": "2024-02-08T23:04:25.136949Z",
          "iopub.execute_input": "2024-02-08T23:04:25.137484Z",
          "iopub.status.idle": "2024-02-08T23:04:30.032778Z",
          "shell.execute_reply.started": "2024-02-08T23:04:25.137459Z",
          "shell.execute_reply": "2024-02-08T23:04:30.031636Z"
        },
        "trusted": true,
        "id": "n6G5WkUm2mqF",
        "colab": {
          "base_uri": "https://localhost:8080/"
        },
        "outputId": "83d32370-3e43-42e1-df63-e19517dd71b1"
      },
      "execution_count": 8,
      "outputs": [
        {
          "output_type": "stream",
          "name": "stdout",
          "text": [
            "Reading package lists... Done\n",
            "Building dependency tree... Done\n",
            "Reading state information... Done\n",
            "unzip is already the newest version (6.0-26ubuntu3.1).\n",
            "0 upgraded, 0 newly installed, 0 to remove and 32 not upgraded.\n",
            "Archive:  ../input/sentiment-analysis-on-movie-reviews/test.tsv.zip\n",
            "  inflating: test.tsv                \n",
            "Archive:  ../input/sentiment-analysis-on-movie-reviews/train.tsv.zip\n",
            "  inflating: train.tsv               \n"
          ]
        }
      ]
    },
    {
      "cell_type": "code",
      "source": [
        "# check if contain nan\n",
        "def check_nan(df):\n",
        "    nan_columns = df.columns[df.isna().any()]\n",
        "    nan_rows = df[df.isna().any(axis=1)]\n",
        "    print(f'Contain Nan in columns: {nan_columns}. \\n Rows:\\n{nan_rows}\\n')"
      ],
      "metadata": {
        "execution": {
          "iopub.status.busy": "2024-02-08T23:04:30.034442Z",
          "iopub.execute_input": "2024-02-08T23:04:30.034819Z",
          "iopub.status.idle": "2024-02-08T23:04:30.040869Z",
          "shell.execute_reply.started": "2024-02-08T23:04:30.034782Z",
          "shell.execute_reply": "2024-02-08T23:04:30.039992Z"
        },
        "trusted": true,
        "id": "7YwSU_G42mqF"
      },
      "execution_count": 9,
      "outputs": []
    },
    {
      "cell_type": "code",
      "source": [
        "train_df = pd.read_csv('train.tsv', sep='\\t')\n",
        "check_nan(train_df)\n",
        "\n",
        "print(train_df.shape)\n",
        "print(train_df.info())\n",
        "\n",
        "train_df.head()"
      ],
      "metadata": {
        "execution": {
          "iopub.status.busy": "2024-02-08T23:04:30.043159Z",
          "iopub.execute_input": "2024-02-08T23:04:30.043565Z",
          "iopub.status.idle": "2024-02-08T23:04:30.316728Z",
          "shell.execute_reply.started": "2024-02-08T23:04:30.043527Z",
          "shell.execute_reply": "2024-02-08T23:04:30.315806Z"
        },
        "trusted": true,
        "id": "TFP2LEDj2mqF",
        "colab": {
          "base_uri": "https://localhost:8080/",
          "height": 552
        },
        "outputId": "a7815257-3fe5-4b4b-f993-45be5ec6c870"
      },
      "execution_count": 10,
      "outputs": [
        {
          "output_type": "stream",
          "name": "stdout",
          "text": [
            "Contain Nan in columns: Index([], dtype='object'). \n",
            " Rows:\n",
            "Empty DataFrame\n",
            "Columns: [PhraseId, SentenceId, Phrase, Sentiment]\n",
            "Index: []\n",
            "\n",
            "(156060, 4)\n",
            "<class 'pandas.core.frame.DataFrame'>\n",
            "RangeIndex: 156060 entries, 0 to 156059\n",
            "Data columns (total 4 columns):\n",
            " #   Column      Non-Null Count   Dtype \n",
            "---  ------      --------------   ----- \n",
            " 0   PhraseId    156060 non-null  int64 \n",
            " 1   SentenceId  156060 non-null  int64 \n",
            " 2   Phrase      156060 non-null  object\n",
            " 3   Sentiment   156060 non-null  int64 \n",
            "dtypes: int64(3), object(1)\n",
            "memory usage: 4.8+ MB\n",
            "None\n"
          ]
        },
        {
          "output_type": "execute_result",
          "data": {
            "text/plain": [
              "   PhraseId  SentenceId                                             Phrase  \\\n",
              "0         1           1  A series of escapades demonstrating the adage ...   \n",
              "1         2           1  A series of escapades demonstrating the adage ...   \n",
              "2         3           1                                           A series   \n",
              "3         4           1                                                  A   \n",
              "4         5           1                                             series   \n",
              "\n",
              "   Sentiment  \n",
              "0          1  \n",
              "1          2  \n",
              "2          2  \n",
              "3          2  \n",
              "4          2  "
            ],
            "text/html": [
              "\n",
              "  <div id=\"df-f1626489-528e-4dd7-91c5-a937411eb1c1\" class=\"colab-df-container\">\n",
              "    <div>\n",
              "<style scoped>\n",
              "    .dataframe tbody tr th:only-of-type {\n",
              "        vertical-align: middle;\n",
              "    }\n",
              "\n",
              "    .dataframe tbody tr th {\n",
              "        vertical-align: top;\n",
              "    }\n",
              "\n",
              "    .dataframe thead th {\n",
              "        text-align: right;\n",
              "    }\n",
              "</style>\n",
              "<table border=\"1\" class=\"dataframe\">\n",
              "  <thead>\n",
              "    <tr style=\"text-align: right;\">\n",
              "      <th></th>\n",
              "      <th>PhraseId</th>\n",
              "      <th>SentenceId</th>\n",
              "      <th>Phrase</th>\n",
              "      <th>Sentiment</th>\n",
              "    </tr>\n",
              "  </thead>\n",
              "  <tbody>\n",
              "    <tr>\n",
              "      <th>0</th>\n",
              "      <td>1</td>\n",
              "      <td>1</td>\n",
              "      <td>A series of escapades demonstrating the adage ...</td>\n",
              "      <td>1</td>\n",
              "    </tr>\n",
              "    <tr>\n",
              "      <th>1</th>\n",
              "      <td>2</td>\n",
              "      <td>1</td>\n",
              "      <td>A series of escapades demonstrating the adage ...</td>\n",
              "      <td>2</td>\n",
              "    </tr>\n",
              "    <tr>\n",
              "      <th>2</th>\n",
              "      <td>3</td>\n",
              "      <td>1</td>\n",
              "      <td>A series</td>\n",
              "      <td>2</td>\n",
              "    </tr>\n",
              "    <tr>\n",
              "      <th>3</th>\n",
              "      <td>4</td>\n",
              "      <td>1</td>\n",
              "      <td>A</td>\n",
              "      <td>2</td>\n",
              "    </tr>\n",
              "    <tr>\n",
              "      <th>4</th>\n",
              "      <td>5</td>\n",
              "      <td>1</td>\n",
              "      <td>series</td>\n",
              "      <td>2</td>\n",
              "    </tr>\n",
              "  </tbody>\n",
              "</table>\n",
              "</div>\n",
              "    <div class=\"colab-df-buttons\">\n",
              "\n",
              "  <div class=\"colab-df-container\">\n",
              "    <button class=\"colab-df-convert\" onclick=\"convertToInteractive('df-f1626489-528e-4dd7-91c5-a937411eb1c1')\"\n",
              "            title=\"Convert this dataframe to an interactive table.\"\n",
              "            style=\"display:none;\">\n",
              "\n",
              "  <svg xmlns=\"http://www.w3.org/2000/svg\" height=\"24px\" viewBox=\"0 -960 960 960\">\n",
              "    <path d=\"M120-120v-720h720v720H120Zm60-500h600v-160H180v160Zm220 220h160v-160H400v160Zm0 220h160v-160H400v160ZM180-400h160v-160H180v160Zm440 0h160v-160H620v160ZM180-180h160v-160H180v160Zm440 0h160v-160H620v160Z\"/>\n",
              "  </svg>\n",
              "    </button>\n",
              "\n",
              "  <style>\n",
              "    .colab-df-container {\n",
              "      display:flex;\n",
              "      gap: 12px;\n",
              "    }\n",
              "\n",
              "    .colab-df-convert {\n",
              "      background-color: #E8F0FE;\n",
              "      border: none;\n",
              "      border-radius: 50%;\n",
              "      cursor: pointer;\n",
              "      display: none;\n",
              "      fill: #1967D2;\n",
              "      height: 32px;\n",
              "      padding: 0 0 0 0;\n",
              "      width: 32px;\n",
              "    }\n",
              "\n",
              "    .colab-df-convert:hover {\n",
              "      background-color: #E2EBFA;\n",
              "      box-shadow: 0px 1px 2px rgba(60, 64, 67, 0.3), 0px 1px 3px 1px rgba(60, 64, 67, 0.15);\n",
              "      fill: #174EA6;\n",
              "    }\n",
              "\n",
              "    .colab-df-buttons div {\n",
              "      margin-bottom: 4px;\n",
              "    }\n",
              "\n",
              "    [theme=dark] .colab-df-convert {\n",
              "      background-color: #3B4455;\n",
              "      fill: #D2E3FC;\n",
              "    }\n",
              "\n",
              "    [theme=dark] .colab-df-convert:hover {\n",
              "      background-color: #434B5C;\n",
              "      box-shadow: 0px 1px 3px 1px rgba(0, 0, 0, 0.15);\n",
              "      filter: drop-shadow(0px 1px 2px rgba(0, 0, 0, 0.3));\n",
              "      fill: #FFFFFF;\n",
              "    }\n",
              "  </style>\n",
              "\n",
              "    <script>\n",
              "      const buttonEl =\n",
              "        document.querySelector('#df-f1626489-528e-4dd7-91c5-a937411eb1c1 button.colab-df-convert');\n",
              "      buttonEl.style.display =\n",
              "        google.colab.kernel.accessAllowed ? 'block' : 'none';\n",
              "\n",
              "      async function convertToInteractive(key) {\n",
              "        const element = document.querySelector('#df-f1626489-528e-4dd7-91c5-a937411eb1c1');\n",
              "        const dataTable =\n",
              "          await google.colab.kernel.invokeFunction('convertToInteractive',\n",
              "                                                    [key], {});\n",
              "        if (!dataTable) return;\n",
              "\n",
              "        const docLinkHtml = 'Like what you see? Visit the ' +\n",
              "          '<a target=\"_blank\" href=https://colab.research.google.com/notebooks/data_table.ipynb>data table notebook</a>'\n",
              "          + ' to learn more about interactive tables.';\n",
              "        element.innerHTML = '';\n",
              "        dataTable['output_type'] = 'display_data';\n",
              "        await google.colab.output.renderOutput(dataTable, element);\n",
              "        const docLink = document.createElement('div');\n",
              "        docLink.innerHTML = docLinkHtml;\n",
              "        element.appendChild(docLink);\n",
              "      }\n",
              "    </script>\n",
              "  </div>\n",
              "\n",
              "\n",
              "<div id=\"df-bba46633-d5a8-43c9-be3b-efae859d1319\">\n",
              "  <button class=\"colab-df-quickchart\" onclick=\"quickchart('df-bba46633-d5a8-43c9-be3b-efae859d1319')\"\n",
              "            title=\"Suggest charts\"\n",
              "            style=\"display:none;\">\n",
              "\n",
              "<svg xmlns=\"http://www.w3.org/2000/svg\" height=\"24px\"viewBox=\"0 0 24 24\"\n",
              "     width=\"24px\">\n",
              "    <g>\n",
              "        <path d=\"M19 3H5c-1.1 0-2 .9-2 2v14c0 1.1.9 2 2 2h14c1.1 0 2-.9 2-2V5c0-1.1-.9-2-2-2zM9 17H7v-7h2v7zm4 0h-2V7h2v10zm4 0h-2v-4h2v4z\"/>\n",
              "    </g>\n",
              "</svg>\n",
              "  </button>\n",
              "\n",
              "<style>\n",
              "  .colab-df-quickchart {\n",
              "      --bg-color: #E8F0FE;\n",
              "      --fill-color: #1967D2;\n",
              "      --hover-bg-color: #E2EBFA;\n",
              "      --hover-fill-color: #174EA6;\n",
              "      --disabled-fill-color: #AAA;\n",
              "      --disabled-bg-color: #DDD;\n",
              "  }\n",
              "\n",
              "  [theme=dark] .colab-df-quickchart {\n",
              "      --bg-color: #3B4455;\n",
              "      --fill-color: #D2E3FC;\n",
              "      --hover-bg-color: #434B5C;\n",
              "      --hover-fill-color: #FFFFFF;\n",
              "      --disabled-bg-color: #3B4455;\n",
              "      --disabled-fill-color: #666;\n",
              "  }\n",
              "\n",
              "  .colab-df-quickchart {\n",
              "    background-color: var(--bg-color);\n",
              "    border: none;\n",
              "    border-radius: 50%;\n",
              "    cursor: pointer;\n",
              "    display: none;\n",
              "    fill: var(--fill-color);\n",
              "    height: 32px;\n",
              "    padding: 0;\n",
              "    width: 32px;\n",
              "  }\n",
              "\n",
              "  .colab-df-quickchart:hover {\n",
              "    background-color: var(--hover-bg-color);\n",
              "    box-shadow: 0 1px 2px rgba(60, 64, 67, 0.3), 0 1px 3px 1px rgba(60, 64, 67, 0.15);\n",
              "    fill: var(--button-hover-fill-color);\n",
              "  }\n",
              "\n",
              "  .colab-df-quickchart-complete:disabled,\n",
              "  .colab-df-quickchart-complete:disabled:hover {\n",
              "    background-color: var(--disabled-bg-color);\n",
              "    fill: var(--disabled-fill-color);\n",
              "    box-shadow: none;\n",
              "  }\n",
              "\n",
              "  .colab-df-spinner {\n",
              "    border: 2px solid var(--fill-color);\n",
              "    border-color: transparent;\n",
              "    border-bottom-color: var(--fill-color);\n",
              "    animation:\n",
              "      spin 1s steps(1) infinite;\n",
              "  }\n",
              "\n",
              "  @keyframes spin {\n",
              "    0% {\n",
              "      border-color: transparent;\n",
              "      border-bottom-color: var(--fill-color);\n",
              "      border-left-color: var(--fill-color);\n",
              "    }\n",
              "    20% {\n",
              "      border-color: transparent;\n",
              "      border-left-color: var(--fill-color);\n",
              "      border-top-color: var(--fill-color);\n",
              "    }\n",
              "    30% {\n",
              "      border-color: transparent;\n",
              "      border-left-color: var(--fill-color);\n",
              "      border-top-color: var(--fill-color);\n",
              "      border-right-color: var(--fill-color);\n",
              "    }\n",
              "    40% {\n",
              "      border-color: transparent;\n",
              "      border-right-color: var(--fill-color);\n",
              "      border-top-color: var(--fill-color);\n",
              "    }\n",
              "    60% {\n",
              "      border-color: transparent;\n",
              "      border-right-color: var(--fill-color);\n",
              "    }\n",
              "    80% {\n",
              "      border-color: transparent;\n",
              "      border-right-color: var(--fill-color);\n",
              "      border-bottom-color: var(--fill-color);\n",
              "    }\n",
              "    90% {\n",
              "      border-color: transparent;\n",
              "      border-bottom-color: var(--fill-color);\n",
              "    }\n",
              "  }\n",
              "</style>\n",
              "\n",
              "  <script>\n",
              "    async function quickchart(key) {\n",
              "      const quickchartButtonEl =\n",
              "        document.querySelector('#' + key + ' button');\n",
              "      quickchartButtonEl.disabled = true;  // To prevent multiple clicks.\n",
              "      quickchartButtonEl.classList.add('colab-df-spinner');\n",
              "      try {\n",
              "        const charts = await google.colab.kernel.invokeFunction(\n",
              "            'suggestCharts', [key], {});\n",
              "      } catch (error) {\n",
              "        console.error('Error during call to suggestCharts:', error);\n",
              "      }\n",
              "      quickchartButtonEl.classList.remove('colab-df-spinner');\n",
              "      quickchartButtonEl.classList.add('colab-df-quickchart-complete');\n",
              "    }\n",
              "    (() => {\n",
              "      let quickchartButtonEl =\n",
              "        document.querySelector('#df-bba46633-d5a8-43c9-be3b-efae859d1319 button');\n",
              "      quickchartButtonEl.style.display =\n",
              "        google.colab.kernel.accessAllowed ? 'block' : 'none';\n",
              "    })();\n",
              "  </script>\n",
              "</div>\n",
              "    </div>\n",
              "  </div>\n"
            ]
          },
          "metadata": {},
          "execution_count": 10
        }
      ]
    },
    {
      "cell_type": "code",
      "source": [
        "# check if contain nan\n",
        "test_df = pd.read_csv('test.tsv', sep='\\t')\n",
        "check_nan(test_df)"
      ],
      "metadata": {
        "execution": {
          "iopub.status.busy": "2024-02-08T23:04:30.319727Z",
          "iopub.execute_input": "2024-02-08T23:04:30.320386Z",
          "iopub.status.idle": "2024-02-08T23:04:30.411254Z",
          "shell.execute_reply.started": "2024-02-08T23:04:30.320328Z",
          "shell.execute_reply": "2024-02-08T23:04:30.410365Z"
        },
        "trusted": true,
        "id": "hSFVHA_12mqG",
        "colab": {
          "base_uri": "https://localhost:8080/"
        },
        "outputId": "7dcf4452-2163-4122-ff83-811fed220d03"
      },
      "execution_count": 11,
      "outputs": [
        {
          "output_type": "stream",
          "name": "stdout",
          "text": [
            "Contain Nan in columns: Index([], dtype='object'). \n",
            " Rows:\n",
            "Empty DataFrame\n",
            "Columns: [PhraseId, SentenceId, Phrase]\n",
            "Index: []\n",
            "\n"
          ]
        }
      ]
    },
    {
      "cell_type": "code",
      "source": [
        "# replace nan with string\n",
        "test_df = test_df.fillna(' ')\n",
        "check_nan(test_df)\n",
        "\n",
        "print(test_df.shape)\n",
        "print(test_df.info())\n",
        "test_df.head()"
      ],
      "metadata": {
        "execution": {
          "iopub.status.busy": "2024-02-08T23:04:30.412315Z",
          "iopub.execute_input": "2024-02-08T23:04:30.412615Z",
          "iopub.status.idle": "2024-02-08T23:04:30.454864Z",
          "shell.execute_reply.started": "2024-02-08T23:04:30.41259Z",
          "shell.execute_reply": "2024-02-08T23:04:30.454021Z"
        },
        "trusted": true,
        "id": "pz3UDcVT2mqG",
        "colab": {
          "base_uri": "https://localhost:8080/",
          "height": 534
        },
        "outputId": "ba4add23-d9fc-4363-b37b-cc44e0a434a8"
      },
      "execution_count": 12,
      "outputs": [
        {
          "output_type": "stream",
          "name": "stdout",
          "text": [
            "Contain Nan in columns: Index([], dtype='object'). \n",
            " Rows:\n",
            "Empty DataFrame\n",
            "Columns: [PhraseId, SentenceId, Phrase]\n",
            "Index: []\n",
            "\n",
            "(66292, 3)\n",
            "<class 'pandas.core.frame.DataFrame'>\n",
            "RangeIndex: 66292 entries, 0 to 66291\n",
            "Data columns (total 3 columns):\n",
            " #   Column      Non-Null Count  Dtype \n",
            "---  ------      --------------  ----- \n",
            " 0   PhraseId    66292 non-null  int64 \n",
            " 1   SentenceId  66292 non-null  int64 \n",
            " 2   Phrase      66292 non-null  object\n",
            "dtypes: int64(2), object(1)\n",
            "memory usage: 1.5+ MB\n",
            "None\n"
          ]
        },
        {
          "output_type": "execute_result",
          "data": {
            "text/plain": [
              "   PhraseId  SentenceId                                             Phrase\n",
              "0    156061        8545  An intermittently pleasing but mostly routine ...\n",
              "1    156062        8545  An intermittently pleasing but mostly routine ...\n",
              "2    156063        8545                                                 An\n",
              "3    156064        8545  intermittently pleasing but mostly routine effort\n",
              "4    156065        8545         intermittently pleasing but mostly routine"
            ],
            "text/html": [
              "\n",
              "  <div id=\"df-e4abae03-3d8b-4972-92a7-81398af84f09\" class=\"colab-df-container\">\n",
              "    <div>\n",
              "<style scoped>\n",
              "    .dataframe tbody tr th:only-of-type {\n",
              "        vertical-align: middle;\n",
              "    }\n",
              "\n",
              "    .dataframe tbody tr th {\n",
              "        vertical-align: top;\n",
              "    }\n",
              "\n",
              "    .dataframe thead th {\n",
              "        text-align: right;\n",
              "    }\n",
              "</style>\n",
              "<table border=\"1\" class=\"dataframe\">\n",
              "  <thead>\n",
              "    <tr style=\"text-align: right;\">\n",
              "      <th></th>\n",
              "      <th>PhraseId</th>\n",
              "      <th>SentenceId</th>\n",
              "      <th>Phrase</th>\n",
              "    </tr>\n",
              "  </thead>\n",
              "  <tbody>\n",
              "    <tr>\n",
              "      <th>0</th>\n",
              "      <td>156061</td>\n",
              "      <td>8545</td>\n",
              "      <td>An intermittently pleasing but mostly routine ...</td>\n",
              "    </tr>\n",
              "    <tr>\n",
              "      <th>1</th>\n",
              "      <td>156062</td>\n",
              "      <td>8545</td>\n",
              "      <td>An intermittently pleasing but mostly routine ...</td>\n",
              "    </tr>\n",
              "    <tr>\n",
              "      <th>2</th>\n",
              "      <td>156063</td>\n",
              "      <td>8545</td>\n",
              "      <td>An</td>\n",
              "    </tr>\n",
              "    <tr>\n",
              "      <th>3</th>\n",
              "      <td>156064</td>\n",
              "      <td>8545</td>\n",
              "      <td>intermittently pleasing but mostly routine effort</td>\n",
              "    </tr>\n",
              "    <tr>\n",
              "      <th>4</th>\n",
              "      <td>156065</td>\n",
              "      <td>8545</td>\n",
              "      <td>intermittently pleasing but mostly routine</td>\n",
              "    </tr>\n",
              "  </tbody>\n",
              "</table>\n",
              "</div>\n",
              "    <div class=\"colab-df-buttons\">\n",
              "\n",
              "  <div class=\"colab-df-container\">\n",
              "    <button class=\"colab-df-convert\" onclick=\"convertToInteractive('df-e4abae03-3d8b-4972-92a7-81398af84f09')\"\n",
              "            title=\"Convert this dataframe to an interactive table.\"\n",
              "            style=\"display:none;\">\n",
              "\n",
              "  <svg xmlns=\"http://www.w3.org/2000/svg\" height=\"24px\" viewBox=\"0 -960 960 960\">\n",
              "    <path d=\"M120-120v-720h720v720H120Zm60-500h600v-160H180v160Zm220 220h160v-160H400v160Zm0 220h160v-160H400v160ZM180-400h160v-160H180v160Zm440 0h160v-160H620v160ZM180-180h160v-160H180v160Zm440 0h160v-160H620v160Z\"/>\n",
              "  </svg>\n",
              "    </button>\n",
              "\n",
              "  <style>\n",
              "    .colab-df-container {\n",
              "      display:flex;\n",
              "      gap: 12px;\n",
              "    }\n",
              "\n",
              "    .colab-df-convert {\n",
              "      background-color: #E8F0FE;\n",
              "      border: none;\n",
              "      border-radius: 50%;\n",
              "      cursor: pointer;\n",
              "      display: none;\n",
              "      fill: #1967D2;\n",
              "      height: 32px;\n",
              "      padding: 0 0 0 0;\n",
              "      width: 32px;\n",
              "    }\n",
              "\n",
              "    .colab-df-convert:hover {\n",
              "      background-color: #E2EBFA;\n",
              "      box-shadow: 0px 1px 2px rgba(60, 64, 67, 0.3), 0px 1px 3px 1px rgba(60, 64, 67, 0.15);\n",
              "      fill: #174EA6;\n",
              "    }\n",
              "\n",
              "    .colab-df-buttons div {\n",
              "      margin-bottom: 4px;\n",
              "    }\n",
              "\n",
              "    [theme=dark] .colab-df-convert {\n",
              "      background-color: #3B4455;\n",
              "      fill: #D2E3FC;\n",
              "    }\n",
              "\n",
              "    [theme=dark] .colab-df-convert:hover {\n",
              "      background-color: #434B5C;\n",
              "      box-shadow: 0px 1px 3px 1px rgba(0, 0, 0, 0.15);\n",
              "      filter: drop-shadow(0px 1px 2px rgba(0, 0, 0, 0.3));\n",
              "      fill: #FFFFFF;\n",
              "    }\n",
              "  </style>\n",
              "\n",
              "    <script>\n",
              "      const buttonEl =\n",
              "        document.querySelector('#df-e4abae03-3d8b-4972-92a7-81398af84f09 button.colab-df-convert');\n",
              "      buttonEl.style.display =\n",
              "        google.colab.kernel.accessAllowed ? 'block' : 'none';\n",
              "\n",
              "      async function convertToInteractive(key) {\n",
              "        const element = document.querySelector('#df-e4abae03-3d8b-4972-92a7-81398af84f09');\n",
              "        const dataTable =\n",
              "          await google.colab.kernel.invokeFunction('convertToInteractive',\n",
              "                                                    [key], {});\n",
              "        if (!dataTable) return;\n",
              "\n",
              "        const docLinkHtml = 'Like what you see? Visit the ' +\n",
              "          '<a target=\"_blank\" href=https://colab.research.google.com/notebooks/data_table.ipynb>data table notebook</a>'\n",
              "          + ' to learn more about interactive tables.';\n",
              "        element.innerHTML = '';\n",
              "        dataTable['output_type'] = 'display_data';\n",
              "        await google.colab.output.renderOutput(dataTable, element);\n",
              "        const docLink = document.createElement('div');\n",
              "        docLink.innerHTML = docLinkHtml;\n",
              "        element.appendChild(docLink);\n",
              "      }\n",
              "    </script>\n",
              "  </div>\n",
              "\n",
              "\n",
              "<div id=\"df-d29c3f0a-0d8b-463c-af16-a06752bdfdfd\">\n",
              "  <button class=\"colab-df-quickchart\" onclick=\"quickchart('df-d29c3f0a-0d8b-463c-af16-a06752bdfdfd')\"\n",
              "            title=\"Suggest charts\"\n",
              "            style=\"display:none;\">\n",
              "\n",
              "<svg xmlns=\"http://www.w3.org/2000/svg\" height=\"24px\"viewBox=\"0 0 24 24\"\n",
              "     width=\"24px\">\n",
              "    <g>\n",
              "        <path d=\"M19 3H5c-1.1 0-2 .9-2 2v14c0 1.1.9 2 2 2h14c1.1 0 2-.9 2-2V5c0-1.1-.9-2-2-2zM9 17H7v-7h2v7zm4 0h-2V7h2v10zm4 0h-2v-4h2v4z\"/>\n",
              "    </g>\n",
              "</svg>\n",
              "  </button>\n",
              "\n",
              "<style>\n",
              "  .colab-df-quickchart {\n",
              "      --bg-color: #E8F0FE;\n",
              "      --fill-color: #1967D2;\n",
              "      --hover-bg-color: #E2EBFA;\n",
              "      --hover-fill-color: #174EA6;\n",
              "      --disabled-fill-color: #AAA;\n",
              "      --disabled-bg-color: #DDD;\n",
              "  }\n",
              "\n",
              "  [theme=dark] .colab-df-quickchart {\n",
              "      --bg-color: #3B4455;\n",
              "      --fill-color: #D2E3FC;\n",
              "      --hover-bg-color: #434B5C;\n",
              "      --hover-fill-color: #FFFFFF;\n",
              "      --disabled-bg-color: #3B4455;\n",
              "      --disabled-fill-color: #666;\n",
              "  }\n",
              "\n",
              "  .colab-df-quickchart {\n",
              "    background-color: var(--bg-color);\n",
              "    border: none;\n",
              "    border-radius: 50%;\n",
              "    cursor: pointer;\n",
              "    display: none;\n",
              "    fill: var(--fill-color);\n",
              "    height: 32px;\n",
              "    padding: 0;\n",
              "    width: 32px;\n",
              "  }\n",
              "\n",
              "  .colab-df-quickchart:hover {\n",
              "    background-color: var(--hover-bg-color);\n",
              "    box-shadow: 0 1px 2px rgba(60, 64, 67, 0.3), 0 1px 3px 1px rgba(60, 64, 67, 0.15);\n",
              "    fill: var(--button-hover-fill-color);\n",
              "  }\n",
              "\n",
              "  .colab-df-quickchart-complete:disabled,\n",
              "  .colab-df-quickchart-complete:disabled:hover {\n",
              "    background-color: var(--disabled-bg-color);\n",
              "    fill: var(--disabled-fill-color);\n",
              "    box-shadow: none;\n",
              "  }\n",
              "\n",
              "  .colab-df-spinner {\n",
              "    border: 2px solid var(--fill-color);\n",
              "    border-color: transparent;\n",
              "    border-bottom-color: var(--fill-color);\n",
              "    animation:\n",
              "      spin 1s steps(1) infinite;\n",
              "  }\n",
              "\n",
              "  @keyframes spin {\n",
              "    0% {\n",
              "      border-color: transparent;\n",
              "      border-bottom-color: var(--fill-color);\n",
              "      border-left-color: var(--fill-color);\n",
              "    }\n",
              "    20% {\n",
              "      border-color: transparent;\n",
              "      border-left-color: var(--fill-color);\n",
              "      border-top-color: var(--fill-color);\n",
              "    }\n",
              "    30% {\n",
              "      border-color: transparent;\n",
              "      border-left-color: var(--fill-color);\n",
              "      border-top-color: var(--fill-color);\n",
              "      border-right-color: var(--fill-color);\n",
              "    }\n",
              "    40% {\n",
              "      border-color: transparent;\n",
              "      border-right-color: var(--fill-color);\n",
              "      border-top-color: var(--fill-color);\n",
              "    }\n",
              "    60% {\n",
              "      border-color: transparent;\n",
              "      border-right-color: var(--fill-color);\n",
              "    }\n",
              "    80% {\n",
              "      border-color: transparent;\n",
              "      border-right-color: var(--fill-color);\n",
              "      border-bottom-color: var(--fill-color);\n",
              "    }\n",
              "    90% {\n",
              "      border-color: transparent;\n",
              "      border-bottom-color: var(--fill-color);\n",
              "    }\n",
              "  }\n",
              "</style>\n",
              "\n",
              "  <script>\n",
              "    async function quickchart(key) {\n",
              "      const quickchartButtonEl =\n",
              "        document.querySelector('#' + key + ' button');\n",
              "      quickchartButtonEl.disabled = true;  // To prevent multiple clicks.\n",
              "      quickchartButtonEl.classList.add('colab-df-spinner');\n",
              "      try {\n",
              "        const charts = await google.colab.kernel.invokeFunction(\n",
              "            'suggestCharts', [key], {});\n",
              "      } catch (error) {\n",
              "        console.error('Error during call to suggestCharts:', error);\n",
              "      }\n",
              "      quickchartButtonEl.classList.remove('colab-df-spinner');\n",
              "      quickchartButtonEl.classList.add('colab-df-quickchart-complete');\n",
              "    }\n",
              "    (() => {\n",
              "      let quickchartButtonEl =\n",
              "        document.querySelector('#df-d29c3f0a-0d8b-463c-af16-a06752bdfdfd button');\n",
              "      quickchartButtonEl.style.display =\n",
              "        google.colab.kernel.accessAllowed ? 'block' : 'none';\n",
              "    })();\n",
              "  </script>\n",
              "</div>\n",
              "    </div>\n",
              "  </div>\n"
            ]
          },
          "metadata": {},
          "execution_count": 12
        }
      ]
    },
    {
      "cell_type": "code",
      "source": [
        "# sample_submission = pd.read_csv('../input/sentiment-analysis-on-movie-reviews/sampleSubmission.csv')\n",
        "# print(sample_submission.shape)\n",
        "# print(sample_submission.info())\n",
        "# sample_submission.head()"
      ],
      "metadata": {
        "execution": {
          "iopub.status.busy": "2024-02-08T23:04:30.456086Z",
          "iopub.execute_input": "2024-02-08T23:04:30.456353Z",
          "iopub.status.idle": "2024-02-08T23:04:30.460149Z",
          "shell.execute_reply.started": "2024-02-08T23:04:30.456322Z",
          "shell.execute_reply": "2024-02-08T23:04:30.459247Z"
        },
        "trusted": true,
        "id": "Ea2SD5sn2mqG"
      },
      "execution_count": 13,
      "outputs": []
    },
    {
      "cell_type": "markdown",
      "source": [
        "### 2. Text Processing 文本处理"
      ],
      "metadata": {
        "id": "MD_JkX5w2mqG"
      }
    },
    {
      "cell_type": "code",
      "source": [
        "# 通过 transformer 导入 bert-base基础模型 的 分词器tokenizer\n",
        "tokenizer = AutoTokenizer.from_pretrained('bert-base-uncased', lower=True)"
      ],
      "metadata": {
        "execution": {
          "iopub.status.busy": "2024-02-08T23:04:30.461304Z",
          "iopub.execute_input": "2024-02-08T23:04:30.461934Z",
          "iopub.status.idle": "2024-02-08T23:04:31.841999Z",
          "shell.execute_reply.started": "2024-02-08T23:04:30.461902Z",
          "shell.execute_reply": "2024-02-08T23:04:31.841001Z"
        },
        "trusted": true,
        "id": "bIBUtbPM2mqG",
        "colab": {
          "base_uri": "https://localhost:8080/",
          "height": 274,
          "referenced_widgets": [
            "b2b940390f114e3da7cb77cc3ca1adcf",
            "832713838ba842bf9114285300d3349a",
            "0b0d9c6636584773bd61a9753913ec63",
            "48264b8c54064c3f8b199f2964cf5671",
            "db7aab39075d462694714f69896f75fb",
            "af5b330d0bc64ddda5611b99f26a5892",
            "28fd0471c0c24616912ad04df29a96bb",
            "3d04240e3fb24e0bbe293589d491dbd9",
            "7ba3d4db18a747a889f2f42e769be1cf",
            "36ec0660a6344e1d9d5c6c0d99a2dfb5",
            "d425a47ed9aa4e07a59186b8be637f98",
            "93f1a94e37b04a19b4686e59c3ac4818",
            "ae572b299322435b9747e0a70bb79401",
            "a032d225320744f2bfa797549b588c09",
            "fd4f08acaa8e46ad914bca88be730e1a",
            "c34244013f3f4412b1d965961c53fb08",
            "c832223871274ecab4ddc3b5ecf26496",
            "0ea8cc18144f4babbbf666698472269e",
            "8179b3c450d84b4588f78e98e40fed66",
            "b1bce79bf7d44023b47925cdf0bdb0f2",
            "0d685b38daa849849b18fb855efd2929",
            "4d792dd0560143558a3084164d3f97fc",
            "564a098883fa436098211cfb02f29c6b",
            "e40aabe484994666944265eabbfe7aca",
            "452f963c999249f4bae33e1b12a9206d",
            "bcbf8364a6b14c55918fc106c3fa68a4",
            "b6bdf579c65c41698bbe5ddd00546cc6",
            "6bf962c66bc245ec934a4eb555286960",
            "06a3be04efc4411fb1673e709e19f5cb",
            "328d2ee2e97a4416bb3dc78a33419579",
            "c42b9f6503aa43b896b63273a8761dab",
            "bf05903cbcf44b7ba69666de0220e5fb",
            "db165ccfac954050aee36fca0b187452",
            "c681dc9f0ace4409b117aa45e1d9d188",
            "9a6659e71b5b4f0d88503f5bbc1781ec",
            "24221e57be284bc0b592f571bbccbc97",
            "bafc24957a7a4fcea5ef4a6bc0337d24",
            "58a9ae7ae2d948f591fa641d8ef4d428",
            "4b0bdd9d8ded4bdd8b882c38b9f18f45",
            "5dc24c52c31349f4a1aa692777f1dda9",
            "054c20fd6d074499af1e9472a7f51412",
            "47c1f610d5a14a63aa1623213e2519e9",
            "4feb4a5bb9294182b473a89bf7969938",
            "3ebbf794d71346eea959ce12abf7c28a"
          ]
        },
        "outputId": "920c7368-2438-45ab-a248-6317fe23dfc4"
      },
      "execution_count": 14,
      "outputs": [
        {
          "output_type": "stream",
          "name": "stderr",
          "text": [
            "/usr/local/lib/python3.10/dist-packages/huggingface_hub/utils/_token.py:88: UserWarning: \n",
            "The secret `HF_TOKEN` does not exist in your Colab secrets.\n",
            "To authenticate with the Hugging Face Hub, create a token in your settings tab (https://huggingface.co/settings/tokens), set it as secret in your Google Colab and restart your session.\n",
            "You will be able to reuse this secret in all of your notebooks.\n",
            "Please note that authentication is recommended but still optional to access public models or datasets.\n",
            "  warnings.warn(\n"
          ]
        },
        {
          "output_type": "display_data",
          "data": {
            "text/plain": [
              "tokenizer_config.json:   0%|          | 0.00/28.0 [00:00<?, ?B/s]"
            ],
            "application/vnd.jupyter.widget-view+json": {
              "version_major": 2,
              "version_minor": 0,
              "model_id": "b2b940390f114e3da7cb77cc3ca1adcf"
            }
          },
          "metadata": {}
        },
        {
          "output_type": "display_data",
          "data": {
            "text/plain": [
              "config.json:   0%|          | 0.00/570 [00:00<?, ?B/s]"
            ],
            "application/vnd.jupyter.widget-view+json": {
              "version_major": 2,
              "version_minor": 0,
              "model_id": "93f1a94e37b04a19b4686e59c3ac4818"
            }
          },
          "metadata": {}
        },
        {
          "output_type": "display_data",
          "data": {
            "text/plain": [
              "vocab.txt:   0%|          | 0.00/232k [00:00<?, ?B/s]"
            ],
            "application/vnd.jupyter.widget-view+json": {
              "version_major": 2,
              "version_minor": 0,
              "model_id": "564a098883fa436098211cfb02f29c6b"
            }
          },
          "metadata": {}
        },
        {
          "output_type": "display_data",
          "data": {
            "text/plain": [
              "tokenizer.json:   0%|          | 0.00/466k [00:00<?, ?B/s]"
            ],
            "application/vnd.jupyter.widget-view+json": {
              "version_major": 2,
              "version_minor": 0,
              "model_id": "c681dc9f0ace4409b117aa45e1d9d188"
            }
          },
          "metadata": {}
        }
      ]
    },
    {
      "cell_type": "code",
      "source": [
        "# 创建数据集对象\n",
        "class MovieReviewDataset(Dataset):\n",
        "    def __init__(self, df, max_len, if_train=True):\n",
        "        self.max_len = max_len\n",
        "        self.if_train = if_train\n",
        "        self.text = df['Phrase'].tolist()\n",
        "        if self.if_train:\n",
        "            self.sentiments = df['Sentiment'].values\n",
        "        self.encode = tokenizer.batch_encode_plus(self.text,\n",
        "                                                    padding='max_length',\n",
        "                                                    max_length=self.max_len,\n",
        "                                                    truncation=True, #如果某个序列超过max_length，则该参数指定是否截断它。\n",
        "                                                    return_attention_mask=True) #是否返回注意力掩码，以指示哪些位置是填充的，哪些是实际数据。\n",
        "    def __getitem__(self, i):\n",
        "        input_ids = torch.tensor(self.encode['input_ids'][i])  #编码后的输入序列的ID列表。这些ID对应于模型词汇表中的单词或标记。\n",
        "        attention_mask = torch.tensor(self.encode['attention_mask'][i])\n",
        "        if not self.if_train:\n",
        "            return (input_ids, attention_mask)\n",
        "        else:\n",
        "            sentiment = self.sentiments[i]\n",
        "            return (input_ids, attention_mask, sentiment)\n",
        "\n",
        "    def __len__(self):\n",
        "        return len(self.text)"
      ],
      "metadata": {
        "execution": {
          "iopub.status.busy": "2024-02-08T23:04:31.843293Z",
          "iopub.execute_input": "2024-02-08T23:04:31.843613Z",
          "iopub.status.idle": "2024-02-08T23:04:31.852305Z",
          "shell.execute_reply.started": "2024-02-08T23:04:31.843586Z",
          "shell.execute_reply": "2024-02-08T23:04:31.851413Z"
        },
        "trusted": true,
        "id": "fYkgi2OP2mqG"
      },
      "execution_count": 15,
      "outputs": []
    },
    {
      "cell_type": "code",
      "source": [
        "# 创建pytorch可读的数据集和dataloader\n",
        "max_len = 64\n",
        "train_dataset = MovieReviewDataset(train_df, max_len)\n",
        "test_dataset = MovieReviewDataset(test_df, max_len, if_train=False)\n",
        "\n",
        "# 创建validation数据集\n",
        "lengths = [int(len(train_dataset) * 0.8), int(len(train_dataset) * 0.2)]\n",
        "# 将数据集随机分割成给定长度的非重叠新数据集。这个函数特别适合于将数据集划分为训练集、验证集和测试集。\n",
        "train_dataset, valid_dataset = random_split(train_dataset, lengths=lengths, generator=torch.Generator().manual_seed(42))\n",
        "\n",
        "# 数据集按batch批次分割，以便模型读取。\n",
        "bs = 128\n",
        "train_dataloader = DataLoader(train_dataset, batch_size=bs, shuffle=True)\n",
        "val_dataloader = DataLoader(valid_dataset, batch_size=bs)\n",
        "test_dataloader = DataLoader(test_dataset, batch_size=bs)"
      ],
      "metadata": {
        "execution": {
          "iopub.status.busy": "2024-02-08T23:04:31.85357Z",
          "iopub.execute_input": "2024-02-08T23:04:31.854096Z",
          "iopub.status.idle": "2024-02-08T23:04:42.409897Z",
          "shell.execute_reply.started": "2024-02-08T23:04:31.854062Z",
          "shell.execute_reply": "2024-02-08T23:04:42.409099Z"
        },
        "trusted": true,
        "id": "UHpDy6KZ2mqH"
      },
      "execution_count": 16,
      "outputs": []
    },
    {
      "cell_type": "code",
      "source": [
        "# show Bert Layer name\n",
        "bert_base = AutoModel.from_pretrained('bert-base-uncased')\n",
        "for name, param in bert_base.named_parameters():\n",
        "    print(f'Name: {name}')\n",
        "#     print(f'Name: {name}, Param: {param}')"
      ],
      "metadata": {
        "execution": {
          "iopub.status.busy": "2024-02-08T23:05:19.173964Z",
          "iopub.execute_input": "2024-02-08T23:05:19.174413Z",
          "iopub.status.idle": "2024-02-08T23:05:19.52131Z",
          "shell.execute_reply.started": "2024-02-08T23:05:19.174386Z",
          "shell.execute_reply": "2024-02-08T23:05:19.520315Z"
        },
        "trusted": true,
        "id": "5SwTUSiX2mqH",
        "colab": {
          "base_uri": "https://localhost:8080/",
          "height": 1000,
          "referenced_widgets": [
            "08852f4442414b88825ff4babf33de59",
            "396982c066144acaab285b7d79f8bc51",
            "a8d324aa38484d24b07db21377f2185a",
            "eb06961372994de5b069ce1591dfecf5",
            "c3ece2c00c624983beb85e93babe385f",
            "e2033036f5ff41e9a42f56d35202ac23",
            "1d7b457984ac4df49dbd9d5c00655e37",
            "21d50b47386b4dfd89f5c5387ce9d029",
            "42575971e9ac4b43bf62333c4b840348",
            "ba8b5a1f193642a49e602fd854a2b2af",
            "c334b1051be2409db906efc6e06f3831"
          ]
        },
        "outputId": "24abfcf3-591f-438f-8755-eecaf4f52b19"
      },
      "execution_count": 17,
      "outputs": [
        {
          "output_type": "display_data",
          "data": {
            "text/plain": [
              "model.safetensors:   0%|          | 0.00/440M [00:00<?, ?B/s]"
            ],
            "application/vnd.jupyter.widget-view+json": {
              "version_major": 2,
              "version_minor": 0,
              "model_id": "08852f4442414b88825ff4babf33de59"
            }
          },
          "metadata": {}
        },
        {
          "output_type": "stream",
          "name": "stdout",
          "text": [
            "Name: embeddings.word_embeddings.weight\n",
            "Name: embeddings.position_embeddings.weight\n",
            "Name: embeddings.token_type_embeddings.weight\n",
            "Name: embeddings.LayerNorm.weight\n",
            "Name: embeddings.LayerNorm.bias\n",
            "Name: encoder.layer.0.attention.self.query.weight\n",
            "Name: encoder.layer.0.attention.self.query.bias\n",
            "Name: encoder.layer.0.attention.self.key.weight\n",
            "Name: encoder.layer.0.attention.self.key.bias\n",
            "Name: encoder.layer.0.attention.self.value.weight\n",
            "Name: encoder.layer.0.attention.self.value.bias\n",
            "Name: encoder.layer.0.attention.output.dense.weight\n",
            "Name: encoder.layer.0.attention.output.dense.bias\n",
            "Name: encoder.layer.0.attention.output.LayerNorm.weight\n",
            "Name: encoder.layer.0.attention.output.LayerNorm.bias\n",
            "Name: encoder.layer.0.intermediate.dense.weight\n",
            "Name: encoder.layer.0.intermediate.dense.bias\n",
            "Name: encoder.layer.0.output.dense.weight\n",
            "Name: encoder.layer.0.output.dense.bias\n",
            "Name: encoder.layer.0.output.LayerNorm.weight\n",
            "Name: encoder.layer.0.output.LayerNorm.bias\n",
            "Name: encoder.layer.1.attention.self.query.weight\n",
            "Name: encoder.layer.1.attention.self.query.bias\n",
            "Name: encoder.layer.1.attention.self.key.weight\n",
            "Name: encoder.layer.1.attention.self.key.bias\n",
            "Name: encoder.layer.1.attention.self.value.weight\n",
            "Name: encoder.layer.1.attention.self.value.bias\n",
            "Name: encoder.layer.1.attention.output.dense.weight\n",
            "Name: encoder.layer.1.attention.output.dense.bias\n",
            "Name: encoder.layer.1.attention.output.LayerNorm.weight\n",
            "Name: encoder.layer.1.attention.output.LayerNorm.bias\n",
            "Name: encoder.layer.1.intermediate.dense.weight\n",
            "Name: encoder.layer.1.intermediate.dense.bias\n",
            "Name: encoder.layer.1.output.dense.weight\n",
            "Name: encoder.layer.1.output.dense.bias\n",
            "Name: encoder.layer.1.output.LayerNorm.weight\n",
            "Name: encoder.layer.1.output.LayerNorm.bias\n",
            "Name: encoder.layer.2.attention.self.query.weight\n",
            "Name: encoder.layer.2.attention.self.query.bias\n",
            "Name: encoder.layer.2.attention.self.key.weight\n",
            "Name: encoder.layer.2.attention.self.key.bias\n",
            "Name: encoder.layer.2.attention.self.value.weight\n",
            "Name: encoder.layer.2.attention.self.value.bias\n",
            "Name: encoder.layer.2.attention.output.dense.weight\n",
            "Name: encoder.layer.2.attention.output.dense.bias\n",
            "Name: encoder.layer.2.attention.output.LayerNorm.weight\n",
            "Name: encoder.layer.2.attention.output.LayerNorm.bias\n",
            "Name: encoder.layer.2.intermediate.dense.weight\n",
            "Name: encoder.layer.2.intermediate.dense.bias\n",
            "Name: encoder.layer.2.output.dense.weight\n",
            "Name: encoder.layer.2.output.dense.bias\n",
            "Name: encoder.layer.2.output.LayerNorm.weight\n",
            "Name: encoder.layer.2.output.LayerNorm.bias\n",
            "Name: encoder.layer.3.attention.self.query.weight\n",
            "Name: encoder.layer.3.attention.self.query.bias\n",
            "Name: encoder.layer.3.attention.self.key.weight\n",
            "Name: encoder.layer.3.attention.self.key.bias\n",
            "Name: encoder.layer.3.attention.self.value.weight\n",
            "Name: encoder.layer.3.attention.self.value.bias\n",
            "Name: encoder.layer.3.attention.output.dense.weight\n",
            "Name: encoder.layer.3.attention.output.dense.bias\n",
            "Name: encoder.layer.3.attention.output.LayerNorm.weight\n",
            "Name: encoder.layer.3.attention.output.LayerNorm.bias\n",
            "Name: encoder.layer.3.intermediate.dense.weight\n",
            "Name: encoder.layer.3.intermediate.dense.bias\n",
            "Name: encoder.layer.3.output.dense.weight\n",
            "Name: encoder.layer.3.output.dense.bias\n",
            "Name: encoder.layer.3.output.LayerNorm.weight\n",
            "Name: encoder.layer.3.output.LayerNorm.bias\n",
            "Name: encoder.layer.4.attention.self.query.weight\n",
            "Name: encoder.layer.4.attention.self.query.bias\n",
            "Name: encoder.layer.4.attention.self.key.weight\n",
            "Name: encoder.layer.4.attention.self.key.bias\n",
            "Name: encoder.layer.4.attention.self.value.weight\n",
            "Name: encoder.layer.4.attention.self.value.bias\n",
            "Name: encoder.layer.4.attention.output.dense.weight\n",
            "Name: encoder.layer.4.attention.output.dense.bias\n",
            "Name: encoder.layer.4.attention.output.LayerNorm.weight\n",
            "Name: encoder.layer.4.attention.output.LayerNorm.bias\n",
            "Name: encoder.layer.4.intermediate.dense.weight\n",
            "Name: encoder.layer.4.intermediate.dense.bias\n",
            "Name: encoder.layer.4.output.dense.weight\n",
            "Name: encoder.layer.4.output.dense.bias\n",
            "Name: encoder.layer.4.output.LayerNorm.weight\n",
            "Name: encoder.layer.4.output.LayerNorm.bias\n",
            "Name: encoder.layer.5.attention.self.query.weight\n",
            "Name: encoder.layer.5.attention.self.query.bias\n",
            "Name: encoder.layer.5.attention.self.key.weight\n",
            "Name: encoder.layer.5.attention.self.key.bias\n",
            "Name: encoder.layer.5.attention.self.value.weight\n",
            "Name: encoder.layer.5.attention.self.value.bias\n",
            "Name: encoder.layer.5.attention.output.dense.weight\n",
            "Name: encoder.layer.5.attention.output.dense.bias\n",
            "Name: encoder.layer.5.attention.output.LayerNorm.weight\n",
            "Name: encoder.layer.5.attention.output.LayerNorm.bias\n",
            "Name: encoder.layer.5.intermediate.dense.weight\n",
            "Name: encoder.layer.5.intermediate.dense.bias\n",
            "Name: encoder.layer.5.output.dense.weight\n",
            "Name: encoder.layer.5.output.dense.bias\n",
            "Name: encoder.layer.5.output.LayerNorm.weight\n",
            "Name: encoder.layer.5.output.LayerNorm.bias\n",
            "Name: encoder.layer.6.attention.self.query.weight\n",
            "Name: encoder.layer.6.attention.self.query.bias\n",
            "Name: encoder.layer.6.attention.self.key.weight\n",
            "Name: encoder.layer.6.attention.self.key.bias\n",
            "Name: encoder.layer.6.attention.self.value.weight\n",
            "Name: encoder.layer.6.attention.self.value.bias\n",
            "Name: encoder.layer.6.attention.output.dense.weight\n",
            "Name: encoder.layer.6.attention.output.dense.bias\n",
            "Name: encoder.layer.6.attention.output.LayerNorm.weight\n",
            "Name: encoder.layer.6.attention.output.LayerNorm.bias\n",
            "Name: encoder.layer.6.intermediate.dense.weight\n",
            "Name: encoder.layer.6.intermediate.dense.bias\n",
            "Name: encoder.layer.6.output.dense.weight\n",
            "Name: encoder.layer.6.output.dense.bias\n",
            "Name: encoder.layer.6.output.LayerNorm.weight\n",
            "Name: encoder.layer.6.output.LayerNorm.bias\n",
            "Name: encoder.layer.7.attention.self.query.weight\n",
            "Name: encoder.layer.7.attention.self.query.bias\n",
            "Name: encoder.layer.7.attention.self.key.weight\n",
            "Name: encoder.layer.7.attention.self.key.bias\n",
            "Name: encoder.layer.7.attention.self.value.weight\n",
            "Name: encoder.layer.7.attention.self.value.bias\n",
            "Name: encoder.layer.7.attention.output.dense.weight\n",
            "Name: encoder.layer.7.attention.output.dense.bias\n",
            "Name: encoder.layer.7.attention.output.LayerNorm.weight\n",
            "Name: encoder.layer.7.attention.output.LayerNorm.bias\n",
            "Name: encoder.layer.7.intermediate.dense.weight\n",
            "Name: encoder.layer.7.intermediate.dense.bias\n",
            "Name: encoder.layer.7.output.dense.weight\n",
            "Name: encoder.layer.7.output.dense.bias\n",
            "Name: encoder.layer.7.output.LayerNorm.weight\n",
            "Name: encoder.layer.7.output.LayerNorm.bias\n",
            "Name: encoder.layer.8.attention.self.query.weight\n",
            "Name: encoder.layer.8.attention.self.query.bias\n",
            "Name: encoder.layer.8.attention.self.key.weight\n",
            "Name: encoder.layer.8.attention.self.key.bias\n",
            "Name: encoder.layer.8.attention.self.value.weight\n",
            "Name: encoder.layer.8.attention.self.value.bias\n",
            "Name: encoder.layer.8.attention.output.dense.weight\n",
            "Name: encoder.layer.8.attention.output.dense.bias\n",
            "Name: encoder.layer.8.attention.output.LayerNorm.weight\n",
            "Name: encoder.layer.8.attention.output.LayerNorm.bias\n",
            "Name: encoder.layer.8.intermediate.dense.weight\n",
            "Name: encoder.layer.8.intermediate.dense.bias\n",
            "Name: encoder.layer.8.output.dense.weight\n",
            "Name: encoder.layer.8.output.dense.bias\n",
            "Name: encoder.layer.8.output.LayerNorm.weight\n",
            "Name: encoder.layer.8.output.LayerNorm.bias\n",
            "Name: encoder.layer.9.attention.self.query.weight\n",
            "Name: encoder.layer.9.attention.self.query.bias\n",
            "Name: encoder.layer.9.attention.self.key.weight\n",
            "Name: encoder.layer.9.attention.self.key.bias\n",
            "Name: encoder.layer.9.attention.self.value.weight\n",
            "Name: encoder.layer.9.attention.self.value.bias\n",
            "Name: encoder.layer.9.attention.output.dense.weight\n",
            "Name: encoder.layer.9.attention.output.dense.bias\n",
            "Name: encoder.layer.9.attention.output.LayerNorm.weight\n",
            "Name: encoder.layer.9.attention.output.LayerNorm.bias\n",
            "Name: encoder.layer.9.intermediate.dense.weight\n",
            "Name: encoder.layer.9.intermediate.dense.bias\n",
            "Name: encoder.layer.9.output.dense.weight\n",
            "Name: encoder.layer.9.output.dense.bias\n",
            "Name: encoder.layer.9.output.LayerNorm.weight\n",
            "Name: encoder.layer.9.output.LayerNorm.bias\n",
            "Name: encoder.layer.10.attention.self.query.weight\n",
            "Name: encoder.layer.10.attention.self.query.bias\n",
            "Name: encoder.layer.10.attention.self.key.weight\n",
            "Name: encoder.layer.10.attention.self.key.bias\n",
            "Name: encoder.layer.10.attention.self.value.weight\n",
            "Name: encoder.layer.10.attention.self.value.bias\n",
            "Name: encoder.layer.10.attention.output.dense.weight\n",
            "Name: encoder.layer.10.attention.output.dense.bias\n",
            "Name: encoder.layer.10.attention.output.LayerNorm.weight\n",
            "Name: encoder.layer.10.attention.output.LayerNorm.bias\n",
            "Name: encoder.layer.10.intermediate.dense.weight\n",
            "Name: encoder.layer.10.intermediate.dense.bias\n",
            "Name: encoder.layer.10.output.dense.weight\n",
            "Name: encoder.layer.10.output.dense.bias\n",
            "Name: encoder.layer.10.output.LayerNorm.weight\n",
            "Name: encoder.layer.10.output.LayerNorm.bias\n",
            "Name: encoder.layer.11.attention.self.query.weight\n",
            "Name: encoder.layer.11.attention.self.query.bias\n",
            "Name: encoder.layer.11.attention.self.key.weight\n",
            "Name: encoder.layer.11.attention.self.key.bias\n",
            "Name: encoder.layer.11.attention.self.value.weight\n",
            "Name: encoder.layer.11.attention.self.value.bias\n",
            "Name: encoder.layer.11.attention.output.dense.weight\n",
            "Name: encoder.layer.11.attention.output.dense.bias\n",
            "Name: encoder.layer.11.attention.output.LayerNorm.weight\n",
            "Name: encoder.layer.11.attention.output.LayerNorm.bias\n",
            "Name: encoder.layer.11.intermediate.dense.weight\n",
            "Name: encoder.layer.11.intermediate.dense.bias\n",
            "Name: encoder.layer.11.output.dense.weight\n",
            "Name: encoder.layer.11.output.dense.bias\n",
            "Name: encoder.layer.11.output.LayerNorm.weight\n",
            "Name: encoder.layer.11.output.LayerNorm.bias\n",
            "Name: pooler.dense.weight\n",
            "Name: pooler.dense.bias\n"
          ]
        }
      ]
    },
    {
      "cell_type": "markdown",
      "source": [
        "### 3. Modeling 创建模型"
      ],
      "metadata": {
        "id": "zJAz8hOr2mqH"
      }
    },
    {
      "cell_type": "code",
      "source": [
        "class Model(nn.Module):\n",
        "    def __init__(self, N=5, forze_embed=True):\n",
        "        super(Model, self).__init__()\n",
        "\n",
        "        self.N = N\n",
        "        self.forze_embed = forze_embed\n",
        "\n",
        "        # 加载BERT模型的 配置。这个配置包含了模型的各种参数设置，比如隐藏层大小、层数、词汇大小等。\n",
        "        bert_base_config = AutoConfig.from_pretrained('bert-base-uncased')\n",
        "\n",
        "        # 加载了预训练的BERT模型 实例，加载正确的模型类和预训练权重\n",
        "        self.bert_base = AutoModel.from_pretrained('bert-base-uncased')\n",
        "\n",
        "        for name, param in self.bert_base.named_parameters():\n",
        "            # 冻结前N个Transformer层\n",
        "            if name.startswith('encoder.layer') and int(name.split('.')[2]) < self.N:\n",
        "                param.requires_grad = False\n",
        "\n",
        "            # 冻结embedding层\n",
        "            if self.forze_embed and name.startswith('embeddings'):\n",
        "                param.requires_grad = False\n",
        "\n",
        "        # 定义了线性分类器，其输入维度为即BERT模型隐藏层的大小，输出维度为5。输出维度通常对应于分类任务的类别数。\n",
        "        self.classifier = nn.Linear(bert_base_config.hidden_size, 5)\n",
        "\n",
        "    def forward(self, input_ids, attention_mask):\n",
        "        # 通过BERT模型对输入进行编码，获取模型的输出。BERT模型的输出是一个包含多个元素的元组，包括最后一层的隐藏状态和pooler输出等。\n",
        "        bert_base_output = self.bert_base(input_ids=input_ids, attention_mask=attention_mask)\n",
        "        # get last hidden state\n",
        "        # bert_base_last_hidden_state = bert_base_output[0]\n",
        "\n",
        "        # pooler_output – 最后一层的隐藏状态的第一个token（通常是[CLS]标记）经过一个线性层和Tanh激活函数处理后的输出。这个输出适用于分类任务。\n",
        "        # (classification token) further processed by a Linear layer and a Tanh activation function\n",
        "        pooler_output = bert_base_output[1] # [batch_size,hidden]\n",
        "        out = self.classifier(pooler_output)\n",
        "        return out\n"
      ],
      "metadata": {
        "execution": {
          "iopub.status.busy": "2024-02-08T23:05:21.006102Z",
          "iopub.execute_input": "2024-02-08T23:05:21.006736Z",
          "iopub.status.idle": "2024-02-08T23:05:21.01622Z",
          "shell.execute_reply.started": "2024-02-08T23:05:21.006703Z",
          "shell.execute_reply": "2024-02-08T23:05:21.015287Z"
        },
        "trusted": true,
        "id": "qnvla4W42mqH"
      },
      "execution_count": 18,
      "outputs": []
    },
    {
      "cell_type": "code",
      "source": [
        "# 模型的初始化、优化器的设置以及损失函数的定义。\n",
        "model = Model(N=8, forze_embed=True)\n",
        "model.to(device)\n",
        "optimizer = AdamW(model.parameters(), lr=2e-5)\n",
        "criterion = nn.CrossEntropyLoss()\n",
        "gc.collect()"
      ],
      "metadata": {
        "execution": {
          "iopub.status.busy": "2024-02-08T23:05:22.776301Z",
          "iopub.execute_input": "2024-02-08T23:05:22.777075Z",
          "iopub.status.idle": "2024-02-08T23:05:24.207113Z",
          "shell.execute_reply.started": "2024-02-08T23:05:22.777041Z",
          "shell.execute_reply": "2024-02-08T23:05:24.206206Z"
        },
        "trusted": true,
        "id": "BDzWz4f32mqH",
        "colab": {
          "base_uri": "https://localhost:8080/"
        },
        "outputId": "6c7aaa90-b2d1-4a91-e56c-f06eb4e9f189"
      },
      "execution_count": 19,
      "outputs": [
        {
          "output_type": "stream",
          "name": "stderr",
          "text": [
            "/usr/local/lib/python3.10/dist-packages/transformers/optimization.py:411: FutureWarning: This implementation of AdamW is deprecated and will be removed in a future version. Use the PyTorch implementation torch.optim.AdamW instead, or set `no_deprecation_warning=True` to disable this warning\n",
            "  warnings.warn(\n"
          ]
        },
        {
          "output_type": "execute_result",
          "data": {
            "text/plain": [
              "36"
            ]
          },
          "metadata": {},
          "execution_count": 19
        }
      ]
    },
    {
      "cell_type": "code",
      "source": [
        "run = wandb.init(\n",
        "    # Set the project where this run will be logged\n",
        "    project=\"Sentiment-Analysis-FrozenLayer\",\n",
        "    # Track hyperparameters and run metadata\n",
        "    config={\n",
        "        \"model_name\": 'bert-base-uncased',\n",
        "        'forze_embed': True,\n",
        "        'forze_N': 8,\n",
        "        \"learning_rate\": 2e-5,\n",
        "        \"epochs\": 1,\n",
        "    },\n",
        ")"
      ],
      "metadata": {
        "colab": {
          "base_uri": "https://localhost:8080/",
          "height": 192,
          "referenced_widgets": [
            "ae192b891eb64b7589da81276c2d72b6",
            "d8042bad14474cfc9ed36663335f7b41",
            "1a43761b5f484a289cff92ef0c85837d",
            "7d0892972dad446eb030183418b87e22",
            "676f0f8801bc454cab3fb352698dce9c",
            "e3e5ac045e164aa18991e5655dfe2a09",
            "5bc4b0329d924e2fba98d6db4f0597ea",
            "c4c1e74c690644289bc76d701f6609e0"
          ]
        },
        "id": "844nveNCotC7",
        "outputId": "fc36bfb7-c0fe-4db2-d321-d2c6cd6015a7"
      },
      "execution_count": 22,
      "outputs": [
        {
          "output_type": "display_data",
          "data": {
            "text/plain": [
              "<IPython.core.display.HTML object>"
            ],
            "text/html": [
              "Finishing last run (ID:ajm7ygpx) before initializing another..."
            ]
          },
          "metadata": {}
        },
        {
          "output_type": "display_data",
          "data": {
            "text/plain": [
              "VBox(children=(Label(value='0.001 MB of 0.001 MB uploaded\\r'), FloatProgress(value=1.0, max=1.0)))"
            ],
            "application/vnd.jupyter.widget-view+json": {
              "version_major": 2,
              "version_minor": 0,
              "model_id": "ae192b891eb64b7589da81276c2d72b6"
            }
          },
          "metadata": {}
        },
        {
          "output_type": "display_data",
          "data": {
            "text/plain": [
              "<IPython.core.display.HTML object>"
            ],
            "text/html": [
              " View run <strong style=\"color:#cdcd00\">pretty-glade-2</strong> at: <a href='https://wandb.ai/anoif/Sentiment-Analysis-FrozenLayer/runs/ajm7ygpx' target=\"_blank\">https://wandb.ai/anoif/Sentiment-Analysis-FrozenLayer/runs/ajm7ygpx</a><br/>Synced 5 W&B file(s), 0 media file(s), 0 artifact file(s) and 0 other file(s)"
            ]
          },
          "metadata": {}
        },
        {
          "output_type": "display_data",
          "data": {
            "text/plain": [
              "<IPython.core.display.HTML object>"
            ],
            "text/html": [
              "Find logs at: <code>./wandb/run-20240209_203011-ajm7ygpx/logs</code>"
            ]
          },
          "metadata": {}
        },
        {
          "output_type": "display_data",
          "data": {
            "text/plain": [
              "<IPython.core.display.HTML object>"
            ],
            "text/html": [
              "Successfully finished last run (ID:ajm7ygpx). Initializing new run:<br/>"
            ]
          },
          "metadata": {}
        },
        {
          "output_type": "display_data",
          "data": {
            "text/plain": [
              "<IPython.core.display.HTML object>"
            ],
            "text/html": [
              "Tracking run with wandb version 0.16.3"
            ]
          },
          "metadata": {}
        },
        {
          "output_type": "display_data",
          "data": {
            "text/plain": [
              "<IPython.core.display.HTML object>"
            ],
            "text/html": [
              "Run data is saved locally in <code>/content/wandb/run-20240209_205243-1sdhr5le</code>"
            ]
          },
          "metadata": {}
        },
        {
          "output_type": "display_data",
          "data": {
            "text/plain": [
              "<IPython.core.display.HTML object>"
            ],
            "text/html": [
              "Syncing run <strong><a href='https://wandb.ai/anoif/Sentiment-Analysis-FrozenLayer/runs/1sdhr5le' target=\"_blank\">frosty-feather-3</a></strong> to <a href='https://wandb.ai/anoif/Sentiment-Analysis-FrozenLayer' target=\"_blank\">Weights & Biases</a> (<a href='https://wandb.me/run' target=\"_blank\">docs</a>)<br/>"
            ]
          },
          "metadata": {}
        },
        {
          "output_type": "display_data",
          "data": {
            "text/plain": [
              "<IPython.core.display.HTML object>"
            ],
            "text/html": [
              " View project at <a href='https://wandb.ai/anoif/Sentiment-Analysis-FrozenLayer' target=\"_blank\">https://wandb.ai/anoif/Sentiment-Analysis-FrozenLayer</a>"
            ]
          },
          "metadata": {}
        },
        {
          "output_type": "display_data",
          "data": {
            "text/plain": [
              "<IPython.core.display.HTML object>"
            ],
            "text/html": [
              " View run at <a href='https://wandb.ai/anoif/Sentiment-Analysis-FrozenLayer/runs/1sdhr5le' target=\"_blank\">https://wandb.ai/anoif/Sentiment-Analysis-FrozenLayer/runs/1sdhr5le</a>"
            ]
          },
          "metadata": {}
        }
      ]
    },
    {
      "cell_type": "code",
      "source": [
        "# 初始化损失和准确率列表\n",
        "total_loss = []\n",
        "total_val_acc = []\n",
        "\n",
        "# 训练循环\n",
        "for epoch in range(1):\n",
        "    model.train()\n",
        "    epoch_loss = []\n",
        "    for input_ids, attention_mask, target in tqdm(train_dataloader):\n",
        "        # 数据迁移到设备, 加速运行\n",
        "        input_ids = input_ids.to(device)\n",
        "        attention_mask = attention_mask.to(device)\n",
        "        target = target.to(device)\n",
        "\n",
        "        # 优化器梯度清零,在计算新的梯度之前清零已累积的梯度，以避免在多次反向传播中梯度累积\n",
        "        optimizer.zero_grad()\n",
        "\n",
        "        # 前向传播和损失计算\n",
        "        y_pred = model(input_ids, attention_mask)\n",
        "        loss = criterion(y_pred, target)\n",
        "\n",
        "        # 反向传播和优化器步骤\n",
        "        loss.backward()\n",
        "        optimizer.step()\n",
        "\n",
        "        epoch_loss.append(loss.item())\n",
        "    # 计算训练的平均loss，并保存\n",
        "    mean_epoch_loss = np.mean(epoch_loss)\n",
        "    total_loss.append(mean_epoch_loss)\n",
        "\n",
        "    # 释放GPU内存\n",
        "    input_ids = input_ids.to(torch.device('cpu'))\n",
        "    attention_mask = attention_mask.to(torch.device('cpu'))\n",
        "    target = target.to(torch.device('cpu'))\n",
        "    gc.collect()\n",
        "\n",
        "    # 计算validation集的正确率\n",
        "    val_accs= []\n",
        "    model.eval()\n",
        "    for input_ids, attention_mask, target in tqdm(val_dataloader):\n",
        "        # 数据迁移到设备, 加速运行\n",
        "        input_ids = input_ids.to(device)\n",
        "        attention_mask = attention_mask.to(device)\n",
        "        target = target.to(device)\n",
        "\n",
        "        y_pred = model(input_ids, attention_mask)\n",
        "        _, y_pred = torch.max(y_pred, -1)\n",
        "\n",
        "        acc = torch.mean((torch.tensor(y_pred.cpu() == target.cpu(), dtype=torch.float)))\n",
        "        val_accs.append(acc.cpu())\n",
        "    mean_epoch_acc = np.array(val_accs).mean()\n",
        "    total_val_acc.append(mean_epoch_acc)\n",
        "\n",
        "    wandb.log({\"epoch\": epoch+1, \"train_loss\": mean_epoch_loss, \"val_accuracy\": mean_epoch_acc})\n",
        "    print(\"Epoch:\", epoch+1, \"-- loss:\", mean_epoch_loss, \"-- acc:\", mean_epoch_acc)\n",
        "    gc.collect()\n"
      ],
      "metadata": {
        "execution": {
          "iopub.status.busy": "2024-02-08T23:05:24.475764Z",
          "iopub.execute_input": "2024-02-08T23:05:24.476079Z",
          "iopub.status.idle": "2024-02-08T23:12:45.848487Z",
          "shell.execute_reply.started": "2024-02-08T23:05:24.476053Z",
          "shell.execute_reply": "2024-02-08T23:12:45.8476Z"
        },
        "trusted": true,
        "id": "qjKt-Q_n2mqH",
        "colab": {
          "base_uri": "https://localhost:8080/"
        },
        "outputId": "fed8ce7e-015a-44d9-a374-1132c8148ba2"
      },
      "execution_count": 23,
      "outputs": [
        {
          "output_type": "stream",
          "name": "stderr",
          "text": [
            "100%|██████████| 976/976 [11:46<00:00,  1.38it/s]\n",
            "  0%|          | 0/244 [00:00<?, ?it/s]<ipython-input-23-2c6572f7d020>:49: UserWarning: To copy construct from a tensor, it is recommended to use sourceTensor.clone().detach() or sourceTensor.clone().detach().requires_grad_(True), rather than torch.tensor(sourceTensor).\n",
            "  acc = torch.mean((torch.tensor(y_pred.cpu() == target.cpu(), dtype=torch.float)))\n",
            "100%|██████████| 244/244 [01:54<00:00,  2.12it/s]\n"
          ]
        },
        {
          "output_type": "stream",
          "name": "stdout",
          "text": [
            "Epoch: 1 -- loss: 0.8091875557772449 -- acc: 0.6732589\n"
          ]
        }
      ]
    },
    {
      "cell_type": "code",
      "source": [
        "wandb.finish()"
      ],
      "metadata": {
        "colab": {
          "base_uri": "https://localhost:8080/",
          "height": 230,
          "referenced_widgets": [
            "fa83c577922940eb8e52f0d0271284ec",
            "520c1047c9bf46c4831e97848f22d91a",
            "b6828841d69f40f0956771eba2b35c27",
            "48d24b1ff52f44c18fa2861fed4dfb43",
            "d30fa9e213334c18adbcfe859ee9e674",
            "863516a9a31a486ba1d44f3a765627cf",
            "dc34e321d82c41d1a8d8589a3a6973f8",
            "33001634b10747738f43ef6bc8bbf2ca"
          ]
        },
        "id": "eENUtIxWj4OS",
        "outputId": "49cf08a8-ffb1-493f-c697-10c7f9a96a54"
      },
      "execution_count": 24,
      "outputs": [
        {
          "output_type": "display_data",
          "data": {
            "text/plain": [
              "VBox(children=(Label(value='0.001 MB of 0.001 MB uploaded\\r'), FloatProgress(value=1.0, max=1.0)))"
            ],
            "application/vnd.jupyter.widget-view+json": {
              "version_major": 2,
              "version_minor": 0,
              "model_id": "fa83c577922940eb8e52f0d0271284ec"
            }
          },
          "metadata": {}
        },
        {
          "output_type": "display_data",
          "data": {
            "text/plain": [
              "<IPython.core.display.HTML object>"
            ],
            "text/html": [
              "<style>\n",
              "    table.wandb td:nth-child(1) { padding: 0 10px; text-align: left ; width: auto;} td:nth-child(2) {text-align: left ; width: 100%}\n",
              "    .wandb-row { display: flex; flex-direction: row; flex-wrap: wrap; justify-content: flex-start; width: 100% }\n",
              "    .wandb-col { display: flex; flex-direction: column; flex-basis: 100%; flex: 1; padding: 10px; }\n",
              "    </style>\n",
              "<div class=\"wandb-row\"><div class=\"wandb-col\"><h3>Run history:</h3><br/><table class=\"wandb\"><tr><td>epoch</td><td>▁</td></tr><tr><td>train_loss</td><td>▁</td></tr><tr><td>val_accuracy</td><td>▁</td></tr></table><br/></div><div class=\"wandb-col\"><h3>Run summary:</h3><br/><table class=\"wandb\"><tr><td>epoch</td><td>1</td></tr><tr><td>train_loss</td><td>0.80919</td></tr><tr><td>val_accuracy</td><td>0.67326</td></tr></table><br/></div></div>"
            ]
          },
          "metadata": {}
        },
        {
          "output_type": "display_data",
          "data": {
            "text/plain": [
              "<IPython.core.display.HTML object>"
            ],
            "text/html": [
              " View run <strong style=\"color:#cdcd00\">frosty-feather-3</strong> at: <a href='https://wandb.ai/anoif/Sentiment-Analysis-FrozenLayer/runs/1sdhr5le' target=\"_blank\">https://wandb.ai/anoif/Sentiment-Analysis-FrozenLayer/runs/1sdhr5le</a><br/>Synced 5 W&B file(s), 0 media file(s), 0 artifact file(s) and 0 other file(s)"
            ]
          },
          "metadata": {}
        },
        {
          "output_type": "display_data",
          "data": {
            "text/plain": [
              "<IPython.core.display.HTML object>"
            ],
            "text/html": [
              "Find logs at: <code>./wandb/run-20240209_205243-1sdhr5le/logs</code>"
            ]
          },
          "metadata": {}
        }
      ]
    },
    {
      "cell_type": "code",
      "source": [
        "model.eval()\n",
        "predictions = []\n",
        "for text, attention_mask in tqdm(test_dataloader):\n",
        "    text = text.to(device)\n",
        "    attention_mask = attention_mask.to(device)\n",
        "    preds = model(text, attention_mask)\n",
        "    _, preds = torch.max(preds, -1)\n",
        "    for pred in preds: predictions.append(pred.item())\n",
        "print(len(predictions))"
      ],
      "metadata": {
        "execution": {
          "iopub.status.busy": "2024-02-08T23:13:48.618521Z",
          "iopub.execute_input": "2024-02-08T23:13:48.619271Z",
          "iopub.status.idle": "2024-02-08T23:15:52.918845Z",
          "shell.execute_reply.started": "2024-02-08T23:13:48.619235Z",
          "shell.execute_reply": "2024-02-08T23:15:52.917944Z"
        },
        "trusted": true,
        "id": "t26QbSj62mqH"
      },
      "execution_count": null,
      "outputs": []
    },
    {
      "cell_type": "code",
      "source": [
        "submission = pd.DataFrame()\n",
        "submission['PhraseId'] = test_df['PhraseId']\n",
        "submission['Sentiment'] = predictions\n",
        "submission.to_csv(\"submission.csv\", index=False)\n",
        "print(\"Sumbssion is ready!\")"
      ],
      "metadata": {
        "execution": {
          "iopub.status.busy": "2024-02-08T23:15:55.758302Z",
          "iopub.execute_input": "2024-02-08T23:15:55.75914Z",
          "iopub.status.idle": "2024-02-08T23:15:55.875615Z",
          "shell.execute_reply.started": "2024-02-08T23:15:55.759104Z",
          "shell.execute_reply": "2024-02-08T23:15:55.874716Z"
        },
        "trusted": true,
        "id": "gaSxJlmc2mqI"
      },
      "execution_count": null,
      "outputs": []
    },
    {
      "cell_type": "code",
      "source": [],
      "metadata": {
        "id": "0uHzpAI42mqI"
      },
      "execution_count": null,
      "outputs": []
    },
    {
      "cell_type": "code",
      "source": [],
      "metadata": {
        "id": "VSrSiFDI2mqI"
      },
      "execution_count": null,
      "outputs": []
    },
    {
      "cell_type": "code",
      "source": [],
      "metadata": {
        "id": "lgSmbOuL2mqI"
      },
      "execution_count": null,
      "outputs": []
    },
    {
      "cell_type": "code",
      "source": [],
      "metadata": {
        "id": "zmT5li_m2mqI"
      },
      "execution_count": null,
      "outputs": []
    },
    {
      "cell_type": "code",
      "source": [],
      "metadata": {
        "id": "WY2K0afh2mqI"
      },
      "execution_count": null,
      "outputs": []
    }
  ]
}